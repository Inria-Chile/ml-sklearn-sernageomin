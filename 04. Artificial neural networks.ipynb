{
 "cells": [
  {
   "cell_type": "markdown",
   "metadata": {},
   "source": [
    "<div align='left' style=\"width:38%;overflow:hidden;\">\n",
    "<a href='http://inria.fr'>\n",
    "<img src='https://github.com/lmarti/jupyter_custom/raw/master/imgs/inr_logo_rouge.png' alt='Inria logo' title='Inria'/>\n",
    "</a>\n",
    "</div>"
   ]
  },
  {
   "cell_type": "markdown",
   "metadata": {
    "slideshow": {
     "align_type": "Left",
     "slide_type": "-"
    }
   },
   "source": [
    "# Machine Learning with `scikit-learn`\n",
    "\n",
    "# 4. Artificial Neural Networks\n",
    "\n",
    "## by [Nayat Sánchez Pi](http://www.nayatsanchezpi.com) and [Luis Martí](http://lmarti.com)\n",
    "\n",
    "$\\renewcommand{\\vec}[1]{\\boldsymbol{#1}}$"
   ]
  },
  {
   "cell_type": "markdown",
   "metadata": {
    "slideshow": {
     "slide_type": "skip"
    }
   },
   "source": [
    "### About the notebook/slides\n",
    "\n",
    "* The slides are _programmed_ as a [Jupyter](http://jupyter.org)/[IPython](https://ipython.org/) notebook.\n",
    "* **Feel free to try them and experiment on your own by launching the notebooks.**"
   ]
  },
  {
   "cell_type": "markdown",
   "metadata": {
    "slideshow": {
     "slide_type": "skip"
    }
   },
   "source": [
    "If you are using [nbviewer](http://nbviewer.jupyter.org) you can change to slides mode by clicking on the icon:\n",
    "\n",
    "<div class=\"container-fluid\">\n",
    "  <div class=\"row\">\n",
    "      <div class=\"col-md-3\"><span/></div>\n",
    "      <div class=\"col-md-6\">\n",
    "              <img alt='view as slides' src='https://github.com/lmarti/jupyter_custom/raw/master/imgs/view-as-slides.png'/>\n",
    "      </div>\n",
    "      <div class=\"col-md-3\" align='center'><span/></div>\n",
    "  </div>\n",
    "</div>"
   ]
  },
  {
   "cell_type": "code",
   "execution_count": 1,
   "metadata": {
    "slideshow": {
     "slide_type": "skip"
    }
   },
   "outputs": [],
   "source": [
    "import random, itertools\n",
    "import numpy as np\n",
    "import pandas as pd\n",
    "import matplotlib as mpl\n",
    "import matplotlib.pyplot as plt\n",
    "import matplotlib.cm as cm\n",
    "from mpl_toolkits.mplot3d import Axes3D"
   ]
  },
  {
   "cell_type": "code",
   "execution_count": 2,
   "metadata": {
    "slideshow": {
     "slide_type": "skip"
    }
   },
   "outputs": [],
   "source": [
    "plt.rc('font', family='serif')\n",
    "\n",
    "import seaborn\n",
    "seaborn.set(style='whitegrid'); seaborn.set_context('talk')\n",
    "\n",
    "%matplotlib inline\n",
    "%config InlineBackend.figure_format = 'retina'"
   ]
  },
  {
   "cell_type": "code",
   "execution_count": 3,
   "metadata": {
    "slideshow": {
     "slide_type": "skip"
    }
   },
   "outputs": [],
   "source": [
    "random.seed(a=42)"
   ]
  },
  {
   "cell_type": "code",
   "execution_count": 4,
   "metadata": {
    "slideshow": {
     "slide_type": "skip"
    }
   },
   "outputs": [],
   "source": [
    "from ipywidgets import interact, interactive, fixed\n",
    "import ipywidgets as widgets"
   ]
  },
  {
   "cell_type": "code",
   "execution_count": 5,
   "metadata": {
    "slideshow": {
     "slide_type": "skip"
    }
   },
   "outputs": [],
   "source": [
    "# tikzmagic extesion for figures\n",
    "# !pip install git+git://github.com/mkrphys/ipython-tikzmagic.git\n",
    "%load_ext tikzmagic"
   ]
  },
  {
   "cell_type": "markdown",
   "metadata": {
    "slideshow": {
     "slide_type": "slide"
    }
   },
   "source": [
    "# Why to study bio-inspired methods\n",
    "\n",
    "* Nature is one of the best problem-solvers we know.\n",
    "* Evolutionary optimization.\n",
    "* Natural intelligence and artificial intelligence\n",
    "    * Cellular automata\n",
    "    * **Neural computation**\n",
    "    * Evolutionary computation\n",
    "    * Swarm intelligence\n",
    "    * Artificial immune systems\n",
    "    * Membrane computing\n",
    "    * Amorphous computing"
   ]
  },
  {
   "cell_type": "markdown",
   "metadata": {
    "slideshow": {
     "slide_type": "slide"
    }
   },
   "source": [
    "## Pigeons as art connoisseurs (Watanabe et al., 1995)\n",
    "* Pigeons were put in a Skinner box, and\n",
    "* presented with photos of paintings by Monet and Picasso. \n",
    "* They were rewarded if they recognized correctly the painter they were presented with.\n",
    "<hr/>\n",
    "<div class=\"container-fluid\">\n",
    "  <div class=\"row\">\n",
    "      <div class=\"col-md-4\" align='center'>\n",
    "      <a href='https://en.wikipedia.org/wiki/Operant_conditioning_chamber'>Skinner box</a>\n",
    "      <img class='img-thumbnail' width='96%' src='imgs/05/pigeon.png'/>\n",
    "      </div>\n",
    "      <div class=\"col-md-4\" align='center'>\n",
    "      <a href='https://en.wikipedia.org/wiki/Claude_Monet'>Claude Monet</a>\n",
    "      <img class='img-thumbnail' src='imgs/05/monet.jpg'/>\n",
    "      </div>\n",
    "      <div class=\"col-md-4\" align='center'>\n",
    "      <a href='https://en.wikipedia.org/wiki/Pablo_Picasso'>Pablo Picasso</a>\n",
    "      <img class='img-thumbnail' width='83%' src='imgs/05/picasso.jpg'/>\n",
    "      </div>\n",
    "  </div>\n",
    "</div>"
   ]
  },
  {
   "cell_type": "markdown",
   "metadata": {
    "slideshow": {
     "slide_type": "skip"
    }
   },
   "source": [
    "<small>Watanabe, S., Sakamoto, J., &amp; Wakita, M. (1995). Pigeons’ discrimination of paintings by Monet and Picasso. Journal of the Experimental Analysis of Behavior, 63(2), 165–174. http://doi.org/10.1901/jeab.1995.63-165</small>"
   ]
  },
  {
   "cell_type": "markdown",
   "metadata": {
    "slideshow": {
     "slide_type": "slide"
    }
   },
   "source": [
    "## Results\n",
    "\n",
    "* Pigeons were capable of discriminate between painters with an accuracy of **95%** when confronted with paintings on the **training set**.\n",
    "* Surprinsingly, they scored a **85%** on paintings they had never seen during training (**validation set**).\n",
    "* They were not just learning exhaustively which painting belonged to each painter.\n",
    "* They were able to recognize **styles** or **patterns** and\n",
    "* to **generalize** from what they had seen before.\n",
    "\n",
    "> In AI, we have been trying to replicate this capacity (and many others) in a computer for about 60 years."
   ]
  },
  {
   "cell_type": "markdown",
   "metadata": {
    "slideshow": {
     "slide_type": "slide"
    }
   },
   "source": [
    "# Artificial neural networks\n",
    "\n",
    "* Inspired (at different degrees) on the brain and the nervous system.\n",
    "* Massive parallelization of relatively simple processing units.\n",
    "* Simple principles lead to complex behaviours.\n",
    "* Capable of learn form data."
   ]
  },
  {
   "cell_type": "markdown",
   "metadata": {
    "slideshow": {
     "slide_type": "slide"
    }
   },
   "source": [
    "## Creating [artificial neurons](https://en.wikipedia.org/wiki/Artificial_neuron) \n",
    "\n",
    "Artificial neurons are designed to mimic aspects of their biological counterparts.\n",
    "<hr/>\n",
    "<div class=\"container-fluid\">\n",
    "  <div class=\"row\">\n",
    "      <div class=\"col-md-4\" align='center'>\n",
    "      <img class='img-thumbnail' src='https://upload.wikimedia.org/wikipedia/commons/a/a9/Complete_neuron_cell_diagram_en.svg'/>\n",
    "          <small>Taken from <a href=\"https://en.wikipedia.org/wiki/Neuron\">Wikipedia - Neuron</a>.</small>\n",
    "      </div>\n",
    "      <div class=\"col-md-8\">\n",
    "<ul>\n",
    "<li>**Dendrites** – act as the input receptor, allowing the cell to receive signals from a large (>1000) number of neighboring neurons. Each dendrite is able to perform a \"multiplication\" by that dendrite's \"weight value.\"\n",
    "\n",
    "<li>**Soma** – acts as a summation function. As positive and negative signals (exciting and inhibiting, respectively) arrive in the soma from the dendrites they are added together.\n",
    "\n",
    "<li>**Axon** – gets its signal from the summation behavior which occurs inside the soma. The opening to the axon  samples the electrical potential inside the soma. Once the soma reaches a certain potential, the axon will transmit an all-in signal pulse down its length. \n",
    "<li>In this regard, the axon behaves as the ability for us to connect our artificial neuron to other artificial neurons.\n",
    "</ul>\n",
    "</div>\n",
    "</div>\n",
    "</div>\n",
    "\n"
   ]
  },
  {
   "cell_type": "markdown",
   "metadata": {
    "slideshow": {
     "slide_type": "skip"
    }
   },
   "source": [
    "#### Note:\n",
    "\n",
    "* Unlike most artificial neurons, biological neurons fire in discrete pulses. \n",
    "* Each time the electrical potential inside the soma reaches a certain threshold, a pulse is transmitted down the axon. \n",
    "* This pulsing can be translated into continuous values. The rate (activations per second, etc.) at which an axon fires converts directly into the rate at which neighboring cells get signal ions introduced into them. \n",
    "* The faster a biological neuron fires, the faster nearby neurons accumulate electrical potential (or lose electrical potential, depending on the \"weighting\" of the dendrite that connects to the neuron that fired). \n",
    "* It is this conversion that allows computer scientists and mathematicians to simulate biological neural networks using artificial neurons which can output distinct values (often from −1 to 1)."
   ]
  },
  {
   "cell_type": "markdown",
   "metadata": {
    "slideshow": {
     "slide_type": "slide"
    }
   },
   "source": [
    "The first artificial neuron was the **Threshold Logic Unit (TLU)**, proposed by McCulloch and Pitts (1943). \n",
    "* The model was specifically targeted as a computational model of the \"nerve net\" in the brain.\n",
    "* As a transfer function, it employed a threshold, equivalent to using the Heaviside step function. \n",
    "* A simple model was considered, with binary inputs and outputs, and \n",
    "* restrictions on the possible weights, and a more flexible threshold value.\n",
    "\n",
    "* Any Boolean function could be implemented by networks of such devices, what is easily seen from the fact that one can implement the `AND` and `OR` functions, and use them in the disjunctive or the conjunctive normal form. \n",
    "* Cyclic TLU networks, with feedbacks through neurons, could define dynamical systems with memory, but\n",
    "* most research concentrated (and still does) on strictly feed-forward networks because of the smaller difficulty they pose."
   ]
  },
  {
   "cell_type": "markdown",
   "metadata": {
    "slideshow": {
     "slide_type": "skip"
    }
   },
   "source": [
    "<small>McCulloch, W. and Pitts, W. (1943). A logical calculus of the ideas immanent in nervous activity. Bulletin of Mathematical Biophysics, 5:115–133. http://link.springer.com/article/10.1007%2FBF02478259</small>"
   ]
  },
  {
   "cell_type": "markdown",
   "metadata": {
    "slideshow": {
     "slide_type": "slide"
    }
   },
   "source": [
    "## Artificial neuron as a neuron abstraction"
   ]
  },
  {
   "cell_type": "markdown",
   "metadata": {},
   "source": [
    "<div class=\"container-fluid\">\n",
    "  <div class=\"row\">\n",
    "      <div class=\"col-md-2\"><span/></div>\n",
    "      <div class=\"col-md-8\">\n",
    "              <img class='img-thumbnail' alt='Perceptron' src='imgs/perceptron.png'/>\n",
    "      </div>\n",
    "      <div class=\"col-md-2\" align='center'><span/></div>\n",
    "  </div>\n",
    "</div>"
   ]
  },
  {
   "cell_type": "markdown",
   "metadata": {
    "slideshow": {
     "slide_type": "fragment"
    }
   },
   "source": [
    "In general terms, an input $\\vec{x}\\in\\mathbb{R}^n$ is multiplied by a weight vector $\\vec{w}$ and added a bias $b$ producing the net activation, $\\text{net}$. $\\text{net}$ is passed to the *activation function* $f()$ that computed the neuron's output $\\hat{y}$.\n",
    "$$\n",
    "\\hat{y} = f\\left(\\text{net}\\right)= f\\left(\\vec{w}\\cdot\\vec{x}+b\\right) = f\\left(\\sum_{i=1}^{n}{w_i x_i + b}\\right).\n",
    "$$"
   ]
  },
  {
   "cell_type": "markdown",
   "metadata": {
    "slideshow": {
     "slide_type": "skip"
    }
   },
   "source": [
    "**Note:** This is a rather simplistic approximation of natural neurons. See [Spiking Neural Networks](https://en.wikipedia.org/wiki/Spiking_neural_network) for a more biologically plausible representation."
   ]
  },
  {
   "cell_type": "markdown",
   "metadata": {
    "slideshow": {
     "slide_type": "slide"
    }
   },
   "source": [
    "# The Perceptron\n",
    "\n",
    "The [Perceptron](https://en.wikipedia.org/wiki/Perceptron) and its learning algorithm pioneered the research in neurocomputing.\n",
    "\n",
    "* The perceptron is an algorithm for learning a linear binary classifier. \n",
    "* That is a function that maps its input $\\vec{x}\\in\\mathbb{R}^n$ (a real-valued vector) to an output value $f(\\vec{x})$ (a single binary value) as,\n",
    "\n",
    "$$\n",
    "f(\\vec{x}) = \\begin{cases}\n",
    "                1 & \\text{if }\\vec{w} \\cdot \\vec{x} + b > 0\\,,\\\\\n",
    "                0 & \\text{otherwise};\n",
    "             \\end{cases}\n",
    "$$\n",
    "\n",
    "where $\\vec{w}$ is a vector of real-valued *weights*, $\\vec{w} \\cdot \\vec{x}$ is the *dot product* $\\sum_{i=1}^n w_i x_i$, and $b$ is known as the *bias*. "
   ]
  },
  {
   "cell_type": "markdown",
   "metadata": {
    "slideshow": {
     "slide_type": "slide"
    }
   },
   "source": [
    "## Perceptron learning\n",
    "\n",
    "Learning goes by calculating the prediction of the perceptron, $\\hat{y}$, as\n",
    "\n",
    "$$\\hat{y} = f\\left(\\vec{w}\\cdot\\vec{x} + b) = f( w_{1}x_{1} + w_2x_{2} + \\cdots + w_nx_{n}+b\\right)\\,.$$\n",
    "\n",
    "After that, we update the weights and the bias using the perceptron rule:\n",
    "\n",
    "$$\n",
    "\\begin{align*}\n",
    "w_i & = w_i + \\alpha (y - \\hat{y}) x_{i} \\,,\\  i=1,\\ldots,n\\,;\\\\\n",
    "b & = b + \\alpha (y - \\hat{y})\\,.\n",
    "\\end{align*}\n",
    "$$\n",
    "\n",
    "Here $\\alpha\\in\\left(0,1\\right]$ is known as the *learning rate*."
   ]
  },
  {
   "cell_type": "markdown",
   "metadata": {
    "slideshow": {
     "slide_type": "slide"
    }
   },
   "source": [
    "## Mark I: The Perceptron implementation\n",
    "\n",
    "<hr/>\n",
    "<div class=\"container-fluid\">\n",
    "   <div class=\"col-md-1\">&nbsp;</div>\n",
    "  <div class=\"row\">\n",
    "      <div class=\"col-md-4\">\n",
    "              <img src='imgs/04/mark1.png'/>\n",
    "      </div>\n",
    "      <div class=\"col-md-6\">\n",
    "      <ul><li>An array of cadmium sulfide photocells was used for capturing 20x20 (400) pixel images that were used as inputs.\n",
    "      <li>A switchboard was used for manually selecting which input elements (pixels) were passed to the perceptrons.\n",
    "      <li>They used potentiometers as variable weights.\n",
    "      <li>Electric motors automatically modified the weights.</ul>\n",
    "      </div>\n",
    "      <div class=\"col-md-1\">&nbsp;</div>\n",
    "  </div>\n",
    "</div>"
   ]
  },
  {
   "cell_type": "markdown",
   "metadata": {
    "slideshow": {
     "slide_type": "slide"
    }
   },
   "source": [
    "# Implementing the Perceptron\n",
    "\n",
    "We are going to start implementing a perceptron as a class. "
   ]
  },
  {
   "cell_type": "code",
   "execution_count": 6,
   "metadata": {},
   "outputs": [],
   "source": [
    "class Perceptron:\n",
    "    'A simple Perceptron implementation.'\n",
    "    def __init__(self, weights, bias, alpha=0.1):\n",
    "        self.weights = weights\n",
    "        self.bias = bias\n",
    "        self.alpha = alpha\n",
    "    \n",
    "    def propagate(self, x):\n",
    "        return self.activation(self.net(x)) \n",
    "        \n",
    "    def activation(self, net):\n",
    "        if net > 0:\n",
    "            return 1\n",
    "        return 0\n",
    "    \n",
    "    def net(self, x):\n",
    "        return np.dot(self.weights, x) + self.bias\n",
    "    \n",
    "    def learn(self, x, y):\n",
    "        y_hat = self.propagate(x)\n",
    "        self.weights = [ w_i + self.alpha*x_i*(y-y_hat) for (w_i, x_i) in zip(self.weights, x)]\n",
    "        self.bias = self.bias + self.alpha*(y-y_hat)\n",
    "        return np.abs(y_hat - y)"
   ]
  },
  {
   "cell_type": "markdown",
   "metadata": {
    "slideshow": {
     "slide_type": "skip"
    }
   },
   "source": [
    "**Note**: Bear in mind that I have made the implementation as clear and easy to follow as possible and, therefore, I have sacrificed performance in the sake of clarity. There are many points where it can be improved."
   ]
  },
  {
   "cell_type": "markdown",
   "metadata": {
    "slideshow": {
     "slide_type": "slide"
    }
   },
   "source": [
    "### Testing our `Perceptron` class.\n",
    "\n",
    "After having the perceptron implementation ready we need an example data set.\n",
    "\n",
    "We are going to create a dataset containing random points in $\\left[0,1\\right]^2$."
   ]
  },
  {
   "cell_type": "code",
   "execution_count": 7,
   "metadata": {},
   "outputs": [],
   "source": [
    "size = 50 # size of data set"
   ]
  },
  {
   "cell_type": "code",
   "execution_count": 8,
   "metadata": {},
   "outputs": [],
   "source": [
    "data = pd.DataFrame(columns=('$x_1$', '$x_2$'),\n",
    "                    data=np.random.uniform(size=(size,2)))"
   ]
  },
  {
   "cell_type": "markdown",
   "metadata": {
    "slideshow": {
     "slide_type": "slide"
    }
   },
   "source": [
    "So far, our data set looks like this (we are showning only the first ten elements):"
   ]
  },
  {
   "cell_type": "code",
   "execution_count": 9,
   "metadata": {},
   "outputs": [
    {
     "data": {
      "text/html": [
       "<div>\n",
       "<style scoped>\n",
       "    .dataframe tbody tr th:only-of-type {\n",
       "        vertical-align: middle;\n",
       "    }\n",
       "\n",
       "    .dataframe tbody tr th {\n",
       "        vertical-align: top;\n",
       "    }\n",
       "\n",
       "    .dataframe thead th {\n",
       "        text-align: right;\n",
       "    }\n",
       "</style>\n",
       "<table border=\"1\" class=\"dataframe\">\n",
       "  <thead>\n",
       "    <tr style=\"text-align: right;\">\n",
       "      <th></th>\n",
       "      <th>$x_1$</th>\n",
       "      <th>$x_2$</th>\n",
       "    </tr>\n",
       "  </thead>\n",
       "  <tbody>\n",
       "    <tr>\n",
       "      <th>0</th>\n",
       "      <td>0.637436</td>\n",
       "      <td>0.994262</td>\n",
       "    </tr>\n",
       "    <tr>\n",
       "      <th>1</th>\n",
       "      <td>0.524348</td>\n",
       "      <td>0.372803</td>\n",
       "    </tr>\n",
       "    <tr>\n",
       "      <th>2</th>\n",
       "      <td>0.622273</td>\n",
       "      <td>0.436670</td>\n",
       "    </tr>\n",
       "    <tr>\n",
       "      <th>3</th>\n",
       "      <td>0.284502</td>\n",
       "      <td>0.350266</td>\n",
       "    </tr>\n",
       "    <tr>\n",
       "      <th>4</th>\n",
       "      <td>0.896162</td>\n",
       "      <td>0.206018</td>\n",
       "    </tr>\n",
       "    <tr>\n",
       "      <th>5</th>\n",
       "      <td>0.100825</td>\n",
       "      <td>0.927697</td>\n",
       "    </tr>\n",
       "    <tr>\n",
       "      <th>6</th>\n",
       "      <td>0.806579</td>\n",
       "      <td>0.835682</td>\n",
       "    </tr>\n",
       "    <tr>\n",
       "      <th>7</th>\n",
       "      <td>0.287309</td>\n",
       "      <td>0.626386</td>\n",
       "    </tr>\n",
       "    <tr>\n",
       "      <th>8</th>\n",
       "      <td>0.975009</td>\n",
       "      <td>0.651641</td>\n",
       "    </tr>\n",
       "    <tr>\n",
       "      <th>9</th>\n",
       "      <td>0.873214</td>\n",
       "      <td>0.299109</td>\n",
       "    </tr>\n",
       "  </tbody>\n",
       "</table>\n",
       "</div>"
      ],
      "text/plain": [
       "      $x_1$     $x_2$\n",
       "0  0.637436  0.994262\n",
       "1  0.524348  0.372803\n",
       "2  0.622273  0.436670\n",
       "3  0.284502  0.350266\n",
       "4  0.896162  0.206018\n",
       "5  0.100825  0.927697\n",
       "6  0.806579  0.835682\n",
       "7  0.287309  0.626386\n",
       "8  0.975009  0.651641\n",
       "9  0.873214  0.299109"
      ]
     },
     "execution_count": 9,
     "metadata": {},
     "output_type": "execute_result"
    }
   ],
   "source": [
    "data.head(10)"
   ]
  },
  {
   "cell_type": "markdown",
   "metadata": {
    "slideshow": {
     "slide_type": "slide"
    }
   },
   "source": [
    "We need to add a *target* or *classification* attribute. In this example, we are going to make this target to be equal to one if the point lies in the upper-right triangle of the $\\left[0,1\\right]\\times\\left[0,1\\right]$ square and zero otherwise:\n",
    "\n",
    "<div class=\"container-fluid\">\n",
    "  <div class=\"row\">\n",
    "      <div class=\"col-md-4\">&nbsp;</div>\n",
    "      <div class=\"col-md-4\">\n",
    "              <img src='imgs/04/dataset.jpeg' alt='description of the data set' title='description of the data set'/>\n",
    "      </div>\n",
    "      <div class=\"col-md-4\">&nbsp;</div>\n",
    "  </div>\n",
    "</div>"
   ]
  },
  {
   "cell_type": "markdown",
   "metadata": {
    "slideshow": {
     "slide_type": "slide"
    }
   },
   "source": [
    "We can formalize this condition as:\n",
    "\n",
    "$$\n",
    "y = \\begin{cases}\n",
    "    1 & \\ \\text{if}\\ x_1 + x_2 > 1\\,,\\\\\n",
    "    0 & \\ \\text{otherwise}\\,.\n",
    "    \\end{cases}\n",
    "$$"
   ]
  },
  {
   "cell_type": "markdown",
   "metadata": {
    "slideshow": {
     "slide_type": "fragment"
    }
   },
   "source": [
    "Lets code it..."
   ]
  },
  {
   "cell_type": "code",
   "execution_count": 10,
   "metadata": {},
   "outputs": [],
   "source": [
    "def condition(x):\n",
    "    return int(np.sum(x) > 1)"
   ]
  },
  {
   "cell_type": "markdown",
   "metadata": {
    "slideshow": {
     "slide_type": "fragment"
    }
   },
   "source": [
    "...and apply it to the data set."
   ]
  },
  {
   "cell_type": "code",
   "execution_count": 11,
   "metadata": {},
   "outputs": [],
   "source": [
    "data['y'] = data.apply(condition, axis=1)"
   ]
  },
  {
   "cell_type": "markdown",
   "metadata": {
    "slideshow": {
     "slide_type": "subslide"
    }
   },
   "source": [
    "The resulting data set looks like this:"
   ]
  },
  {
   "cell_type": "code",
   "execution_count": 12,
   "metadata": {},
   "outputs": [
    {
     "data": {
      "text/html": [
       "<div>\n",
       "<style scoped>\n",
       "    .dataframe tbody tr th:only-of-type {\n",
       "        vertical-align: middle;\n",
       "    }\n",
       "\n",
       "    .dataframe tbody tr th {\n",
       "        vertical-align: top;\n",
       "    }\n",
       "\n",
       "    .dataframe thead th {\n",
       "        text-align: right;\n",
       "    }\n",
       "</style>\n",
       "<table border=\"1\" class=\"dataframe\">\n",
       "  <thead>\n",
       "    <tr style=\"text-align: right;\">\n",
       "      <th></th>\n",
       "      <th>$x_1$</th>\n",
       "      <th>$x_2$</th>\n",
       "      <th>y</th>\n",
       "    </tr>\n",
       "  </thead>\n",
       "  <tbody>\n",
       "    <tr>\n",
       "      <th>0</th>\n",
       "      <td>0.637436</td>\n",
       "      <td>0.994262</td>\n",
       "      <td>1</td>\n",
       "    </tr>\n",
       "    <tr>\n",
       "      <th>1</th>\n",
       "      <td>0.524348</td>\n",
       "      <td>0.372803</td>\n",
       "      <td>0</td>\n",
       "    </tr>\n",
       "    <tr>\n",
       "      <th>2</th>\n",
       "      <td>0.622273</td>\n",
       "      <td>0.436670</td>\n",
       "      <td>1</td>\n",
       "    </tr>\n",
       "    <tr>\n",
       "      <th>3</th>\n",
       "      <td>0.284502</td>\n",
       "      <td>0.350266</td>\n",
       "      <td>0</td>\n",
       "    </tr>\n",
       "    <tr>\n",
       "      <th>4</th>\n",
       "      <td>0.896162</td>\n",
       "      <td>0.206018</td>\n",
       "      <td>1</td>\n",
       "    </tr>\n",
       "    <tr>\n",
       "      <th>5</th>\n",
       "      <td>0.100825</td>\n",
       "      <td>0.927697</td>\n",
       "      <td>1</td>\n",
       "    </tr>\n",
       "    <tr>\n",
       "      <th>6</th>\n",
       "      <td>0.806579</td>\n",
       "      <td>0.835682</td>\n",
       "      <td>1</td>\n",
       "    </tr>\n",
       "    <tr>\n",
       "      <th>7</th>\n",
       "      <td>0.287309</td>\n",
       "      <td>0.626386</td>\n",
       "      <td>0</td>\n",
       "    </tr>\n",
       "    <tr>\n",
       "      <th>8</th>\n",
       "      <td>0.975009</td>\n",
       "      <td>0.651641</td>\n",
       "      <td>1</td>\n",
       "    </tr>\n",
       "    <tr>\n",
       "      <th>9</th>\n",
       "      <td>0.873214</td>\n",
       "      <td>0.299109</td>\n",
       "      <td>1</td>\n",
       "    </tr>\n",
       "  </tbody>\n",
       "</table>\n",
       "</div>"
      ],
      "text/plain": [
       "      $x_1$     $x_2$  y\n",
       "0  0.637436  0.994262  1\n",
       "1  0.524348  0.372803  0\n",
       "2  0.622273  0.436670  1\n",
       "3  0.284502  0.350266  0\n",
       "4  0.896162  0.206018  1\n",
       "5  0.100825  0.927697  1\n",
       "6  0.806579  0.835682  1\n",
       "7  0.287309  0.626386  0\n",
       "8  0.975009  0.651641  1\n",
       "9  0.873214  0.299109  1"
      ]
     },
     "execution_count": 12,
     "metadata": {},
     "output_type": "execute_result"
    }
   ],
   "source": [
    "data.head(10)"
   ]
  },
  {
   "cell_type": "markdown",
   "metadata": {
    "slideshow": {
     "slide_type": "slide"
    }
   },
   "source": [
    "We can now take a better look at the data set in graphical form. Elements with $y=1$ are shown in green ($\\color{green}{\\bullet}$) and those with $y=0$ are shown in red ($\\color{red}{\\bullet}$):"
   ]
  },
  {
   "cell_type": "code",
   "execution_count": 13,
   "metadata": {},
   "outputs": [],
   "source": [
    "def plot_data(data, ax):\n",
    "    data[data.y==1].plot(kind='scatter', \n",
    "                         x='$x_1$', y='$x_2$', \n",
    "                         color='green', ax=ax)\n",
    "    data[data.y==0].plot(kind='scatter', \n",
    "                         x='$x_1$', y='$x_2$', \n",
    "                         color='red', ax=ax)\n",
    "    ax.set_xlim(-0.1,1.1); ax.set_ylim(-0.1,1.1)"
   ]
  },
  {
   "cell_type": "code",
   "execution_count": 14,
   "metadata": {
    "slideshow": {
     "slide_type": "slide"
    }
   },
   "outputs": [
    {
     "data": {
      "image/png": "[encoded data removed]",
      "text/plain": [
       "<Figure size 360x360 with 1 Axes>"
      ]
     },
     "metadata": {
      "image/png": {
       "height": 334,
       "width": 349
      },
      "needs_background": "light"
     },
     "output_type": "display_data"
    }
   ],
   "source": [
    "fig = plt.figure(figsize=(5,5))\n",
    "plot_data(data, fig.gca())"
   ]
  },
  {
   "cell_type": "markdown",
   "metadata": {
    "slideshow": {
     "slide_type": "slide"
    }
   },
   "source": [
    "## Iterating the data set\n",
    "\n",
    "Having the data set we can now code how the perceptron learns it by iterating throu it."
   ]
  },
  {
   "cell_type": "code",
   "execution_count": 15,
   "metadata": {},
   "outputs": [],
   "source": [
    "def learn_data(perceptron, data):\n",
    "    'Returns the number of errors made.'\n",
    "    count = 0 \n",
    "    for i, row in data.iterrows():\n",
    "        count += perceptron.learn(row[0:2], row[2])\n",
    "    return count"
   ]
  },
  {
   "cell_type": "markdown",
   "metadata": {
    "slideshow": {
     "slide_type": "slide"
    }
   },
   "source": [
    "## Visualizing learning\n",
    "\n",
    "We need now to plot the decision boundary or threshold of the perceptron.\n",
    "\n",
    "To calculate it we start with the equation that describes the boundary,\n",
    "$$w_1x_1+w_2x_2 + b =0.$$\n",
    "\n",
    "From it we can obtain $x_2$ from a given $x_1$ applying a fairy simple math,\n",
    "$$x_2 = \\frac{-w_1x_1-b}{w_2}.$$"
   ]
  },
  {
   "cell_type": "code",
   "execution_count": 16,
   "metadata": {},
   "outputs": [],
   "source": [
    "def threshold(perceptron, x_1):\n",
    "    return (-perceptron.weights[0] * x_1 - perceptron.bias) / perceptron.weights[1]"
   ]
  },
  {
   "cell_type": "code",
   "execution_count": 17,
   "metadata": {
    "slideshow": {
     "slide_type": "skip"
    }
   },
   "outputs": [],
   "source": [
    "def plot_perceptron_threshold(perceptron, ax):\n",
    "    xlim = ax.get_xlim(); ylim = ax.get_ylim()\n",
    "    \n",
    "    x2s = [threshold(perceptron, x1) for x1 in xlim]\n",
    "    ax.plot(xlim, x2s)\n",
    "    \n",
    "    ax.set_xlim(-0.1,1.1); ax.set_ylim(-0.1,1.1)"
   ]
  },
  {
   "cell_type": "markdown",
   "metadata": {
    "slideshow": {
     "slide_type": "skip"
    }
   },
   "source": [
    "A function that plots a perceptron as the threshold and the data set."
   ]
  },
  {
   "cell_type": "code",
   "execution_count": 18,
   "metadata": {
    "slideshow": {
     "slide_type": "skip"
    }
   },
   "outputs": [],
   "source": [
    "def plot_all(perceptron, data, t, ax=None):\n",
    "    if ax==None:\n",
    "        fig = plt.figure(figsize=(5,4))\n",
    "        ax = fig.gca()\n",
    "    plot_data(data, ax)\n",
    "    plot_perceptron_threshold(perceptron, ax)\n",
    "    \n",
    "    ax.set_title('$t='+str(t+1)+'$')"
   ]
  },
  {
   "cell_type": "markdown",
   "metadata": {
    "slideshow": {
     "slide_type": "slide"
    }
   },
   "source": [
    "## Our perceptron in action\n",
    "\n",
    "All set now! Let's create a perceptron and train it. \n",
    "\n",
    "**Note**: Normally the initial weights and the bias should be set to *small* random values. I am setting them by hand to a value that I know that looks good in the examples."
   ]
  },
  {
   "cell_type": "code",
   "execution_count": 19,
   "metadata": {
    "slideshow": {
     "slide_type": "fragment"
    }
   },
   "outputs": [],
   "source": [
    "perceptron = Perceptron([0.1,-0.1], 0.02)"
   ]
  },
  {
   "cell_type": "code",
   "execution_count": 20,
   "metadata": {
    "slideshow": {
     "slide_type": "slide"
    }
   },
   "outputs": [
    {
     "data": {
      "image/png": "[encoded data removed]",
      "text/plain": [
       "<Figure size 648x504 with 12 Axes>"
      ]
     },
     "metadata": {
      "image/png": {
       "height": 494,
       "width": 639
      },
      "needs_background": "light"
     },
     "output_type": "display_data"
    }
   ],
   "source": [
    "f, axarr = plt.subplots(3, 4, sharex=True, sharey=True, figsize=(9,7))\n",
    "axs = list(itertools.chain.from_iterable(axarr))\n",
    "for t in range(12):\n",
    "    plot_all(perceptron, data, t, ax=axs[t])\n",
    "    learn_data(perceptron, data)\n",
    "f.tight_layout()"
   ]
  },
  {
   "cell_type": "markdown",
   "metadata": {},
   "source": [
    "It is clear how the Perceptron threshold is progresively adjusted according to the data set."
   ]
  },
  {
   "cell_type": "markdown",
   "metadata": {
    "slideshow": {
     "slide_type": "slide"
    }
   },
   "source": [
    "## Animating the Perceptron\n",
    "\n",
    "This results are better understood in animated from."
   ]
  },
  {
   "cell_type": "code",
   "execution_count": 21,
   "metadata": {
    "slideshow": {
     "slide_type": "skip"
    }
   },
   "outputs": [],
   "source": [
    "from matplotlib import animation\n",
    "from IPython.display import HTML"
   ]
  },
  {
   "cell_type": "code",
   "execution_count": 22,
   "metadata": {
    "slideshow": {
     "slide_type": "skip"
    }
   },
   "outputs": [],
   "source": [
    "def animate(frame_index, perceptron, data, ax):\n",
    "    ax.clear()\n",
    "    plot_data(data, ax=ax)\n",
    "    ax.set_title('$t='+str(frame_index)+'$')\n",
    "    \n",
    "    if not frame_index:\n",
    "        return None\n",
    "    plot_perceptron_threshold(perceptron, ax=ax)\n",
    "    learn_data(perceptron, data)\n",
    "    return None"
   ]
  },
  {
   "cell_type": "code",
   "execution_count": 23,
   "metadata": {},
   "outputs": [],
   "source": [
    "fig = plt.figure(figsize=(4,4))\n",
    "ax = fig.gca()\n",
    "perceptron = Perceptron([0.1,-0.1], 0.02)\n",
    "anim = animation.FuncAnimation(fig, lambda i: animate(i, perceptron, data, ax), frames=30, interval=600, \n",
    "                               blit=False)\n",
    "plt.tight_layout()\n",
    "plt.close()"
   ]
  },
  {
   "cell_type": "code",
   "execution_count": 24,
   "metadata": {},
   "outputs": [
    {
     "data": {
      "text/html": [
       "<video width=\"288\" height=\"288\" controls autoplay loop>\n",
       "  <source type=\"video/mp4\" src=\"data:video/mp4;base64,AAAAHGZ0eXBNNFYgAAACAGlzb21pc28yYXZjMQAAAAhmcmVlAABKAG1kYXQAAAKfBgX//5vcRem9\n",
       "5tlIt5Ys2CDZI+7veDI2NCAtIGNvcmUgMTUyIC0gSC4yNjQvTVBFRy00IEFWQyBjb2RlYyAtIENv\n",
       "cHlsZWZ0IDIwMDMtMjAxNyAtIGh0dHA6Ly93d3cudmlkZW9sYW4ub3JnL3gyNjQuaHRtbCAtIG9w\n",
       "dGlvbnM6IGNhYmFjPTEgcmVmPTMgZGVibG9jaz0xOjA6MCBhbmFseXNlPTB4MzoweDExMyBtZT1o\n",
       "ZXggc3VibWU9NyBwc3k9MSBwc3lfcmQ9MS4wMDowLjAwIG1peGVkX3JlZj0xIG1lX3JhbmdlPTE2\n",
       "IGNocm9tYV9tZT0xIHRyZWxsaXM9MSA4eDhkY3Q9MSBjcW09MCBkZWFkem9uZT0yMSwxMSBmYXN0\n",
       "X3Bza2lwPTEgY2hyb21hX3FwX29mZnNldD0tMiB0aHJlYWRzPTYgbG9va2FoZWFkX3RocmVhZHM9\n",
       "MSBzbGljZWRfdGhyZWFkcz0wIG5yPTAgZGVjaW1hdGU9MSBpbnRlcmxhY2VkPTAgYmx1cmF5X2Nv\n",
       "bXBhdD0wIGNvbnN0cmFpbmVkX2ludHJhPTAgYmZyYW1lcz0zIGJfcHlyYW1pZD0yIGJfYWRhcHQ9\n",
       "MSBiX2JpYXM9MCBkaXJlY3Q9MSB3ZWlnaHRiPTEgb3Blbl9nb3A9MCB3ZWlnaHRwPTIga2V5aW50\n",
       "PTI1MCBrZXlpbnRfbWluPTEgc2NlbmVjdXQ9NDAgaW50cmFfcmVmcmVzaD0wIHJjX2xvb2thaGVh\n",
       "ZD00MCByYz1jcmYgbWJ0cmVlPTEgY3JmPTIzLjAgcWNvbXA9MC42MCBxcG1pbj0wIHFwbWF4PTY5\n",
       "IHFwc3RlcD00IGlwX3JhdGlvPTEuNDAgYXE9MToxLjAwAIAAACS4ZYiEABf//vfUt8yy7VNvtguo\n",
       "96KeJl9DdUQIkR0h2n2IA40dS5T4et9iaWyNlpcx3tP84jF6zfFFRprgLhtieZVLC1CBA+7z9lWZ\n",
       "1CCrRJF6p/LPf1NyI/jLJY48PYyOS2oTNVNRaR3k4RX//XFFsml2cwuXnDa0/3ZHwLXuhBGXPRMv\n",
       "GXAHR/+GBLGYYPV0jNz89sKJXpq+Z5OY97lGcKzzuyi5UtSRePvn+VO7t2FxyhfUKJSAGgxPk+pM\n",
       "akiTPeo6153SCJ6Y2shdiA5fBaNnixtGiTMu7Lj3ehPw2HN5FPkXswKWknfAHtahDKti6Ji+wWl/\n",
       "yUgXVKWXtEj+gNHegEGk7vqtyjgddQc3yg2ubM/xdqTK19p8zKA2/0GwB1yTOWmh1a++kmbm3xNo\n",
       "BaGsMACCrnbuNM1mzc7zi9dDKn61q08wsyd9NaVGvBcMh5m2BTmhYhp+UfNs7XdrN73/7fFbym24\n",
       "r30JfUXO3eDuqgL5TW62xaM6MO9+GLBkyAU0aQSihwXvuAj2Vcdmj2WcN2DkxXOU1CTt0K/7U1xD\n",
       "DuAOzaB2Hal3ndBXLeZtt//Qw5XTVovM0mYHdoA1lHpvVuqbg9flB4d/C4+rBrs/cJ4g8Zt5Sila\n",
       "f2UVhoW3Q9S9VOIl5RFpFhnMD0njuVLH1veynSmYyQshEW50EDNr/VWa5eh7fXwTdgyXlBODQBpj\n",
       "Cz3E5k8x+OkPq6SDoRb1EIggJYJoegZQLa6K4RuKGwCKLAct9WqON6F+R1SgizfkAmroygJRH7HV\n",
       "Jn/8BbPVjhT6vMSq2XyNHj1XqkK7yiOmhinkKzNeQDx8SpU5qRPnsYZNt4qn9mkAnUVgO0EBcPsg\n",
       "NcKO3YeSh6rUiJlmB2BUze5R0lj2gyYe5R8ZgidQpMEGJRYvFO7QgtMbHMQmztJTysvMf4/+fx9J\n",
       "Dbn6OICCmSDQXpfP9X+Tvau5DqWExXccxFMLc5gcdJwDYSDZZB+QU0yUsMHxMTJrtDC5ueUwjkCj\n",
       "dIqPVxfw/sDwzHGvoA6YzNJ4OWX3l6M7m1WhwjV5gozSxlo3/BT2aS9NAhVRZLzGXE4deZLg4g7F\n",
       "CQtZd8/Z6Lwq6KHDP0a4+JQo/WE7hvQhijMXvGvhVhuiLWJpN9hNL/i37WRxOX3WNBxozMcGViQ7\n",
       "7njNrcQIwVez/1nEQMBpW1ZE69rMOBmQWFz7LBo1Du4/LFmPnItNCan2pv9SCCfd52lJ2EKeDUkm\n",
       "8OiIjgXNh6pAiTsHj6/kb2VwrWL3PCWut08bqlqHUsW8N7a4rq6T23RsjEMGHDU4ud+Sa0qdqjgY\n",
       "NeD33ggECSpCKP0xM38+3pJQl/hyCEvQYAomah3yMr8uxb5S8D2CVneBcgUdayzsLMhUA5a7N1hg\n",
       "B3FPEYxEJM7jklqkCYNjL/9XY85WyzqZ1ab19yyDYWCeyV9xmP+PmJpbDF/cRdhVj04otHd7mI2I\n",
       "f424p+cnH//zP6X/99/1QAff/3CJa6vL5jpmcnpGf/eExBY2pb6P23+YfrD3FIOM9n7cUJ72j66c\n",
       "ITl0e9YqLiSfFcfmZ6BMlSBT4DEEoghiKEGHulkrSOhlDdjbCh16vVGikL0ipjnBLbHUrVqbqEyR\n",
       "yRlFydDm7zC6QRiZPgwf6qBcGYzAy4b0TgpJ2g9t8ZZNrnOCd4uqQD7z4mDiNRcJsOHpVBQvyxBE\n",
       "VS8SVTco2YO6VXvOLhZ2q8FQd7NtOEBPUO+SEyMmKG9UXhBGKJbwbbOnnSw6MtlIL/IdM2qXa0sC\n",
       "8sYZrSthg43H2USk5Wl91zHUo88uvZjHnK8YdIJSEo8NKq78v6JjvVaEb8SNMw68hpD/jQuiKsA+\n",
       "VyimIR6TlBz2zTxyB7gE+nb0NYIFXtT+xqL41EQi77ZNmrOWrblKxaSvr9Pdh9Xw0BPxqUlLYVG8\n",
       "w0QVJR1lq2jBzm5bDC+dg+LbaATnP7MI9ynH9fscQOK7Q7aFItPcAu8aokiNPkGIEjmSfqaNaqNe\n",
       "5cTqwGA9WmHK6uh6/kc6mwYXgqpPaz6X+gBFJWQb5WYTwhwFU9H5whB/7QrGQhzRi9ww94HhMnTo\n",
       "uTE5j1A3HrGDtuXzrF7BJktOumlmtNoppPe03kqn79FzgotuWvX4VPx081HyvMpuiuMoc1hrSV/9\n",
       "JubND+0qZ+WC/wG/5aUYydyX05e1apxtpXMqc5JZCf/F0pE2vzzadgfUDNp71zjA5r0pLDgIL1Ht\n",
       "tVNd+Cr00WXnerOec7yf2hoFfKPxvfXfMJiHQelJuLWeSzQQEa2n16ACPoBbz2A6dQUCD6dCNKfq\n",
       "7q2HQkiclQQ5UHXjMGOov+t06jaw46Ri5C1wlXhhyoVPIj7pqUF/vxifE7khI4ieyvwkutjzo98U\n",
       "spGSeytfK2UgK4ZBHrlBQTaQbip6IzXd6oyyGo1OI0vKbdvHieQ5KSkAlWVzct4y8uOwOttmMwLs\n",
       "wiDfB2mkWk3nlcxln83Y34He5bHoIt7+uee88hulp86UKG6HwcZl6K1tXrQjf5if86rcg6ohl7XW\n",
       "585cSXikC0f6w3udRgdTiMwAGHpT7iMipBQL6P3I1ra8p135mkTuT3ai3qMf7k1k6zWM4/ZSk8qi\n",
       "zE5XKUVETnGZPcIGM8dKRHZyBYcrsjHJZVvXKByWdTeAGV6q/LPpLfNA4wNlJjUKCz3szUN8MgOX\n",
       "CXos4NIB75lITVH0Hcx+35R8/O698CkWdBvvTbDz6VkLkFE97N/w+E+eCKSqghqSxanpiuPqZ8tD\n",
       "GzHTYUehD3QLWrjzke0OG5EyDZ8xyPIIlJdF+fIiYFkW6M7y+RbXfTJ6bP/qZ7mQ+d3eNgKa+YDW\n",
       "DBz9mgxuPQoNjFBAad7//8xHeIefqzaz//ReWnh734AGYunh8d7eH2skLs6Z04ZwxctRHiYDNYdx\n",
       "zE9/1lgK3IaX+arhFnpZcOC1glRIZvj+zUX0VZwNMpqGv9qM7mC9a5E1qGs8QxFjeKBAA9O3lLx6\n",
       "XQukXJqpJEI/8f+AmeBp9+Gs25sMZMZm4XHPQJl1TJllt5j5nvRv1dWD7hTAbVSB6IG/GLLQUzgg\n",
       "l7H84oimzr7ue1quuELn1pCNRArz36YZ45V5S0WXQ5rGIldUhkPqxEhED6GEObKMLphQids1Prk7\n",
       "ckcVKqk8Cm8cgKm5gUAVf5u3CUEo07CvE8azj9BEH/+h6y+ogp0cM6FQRY9mX/8p5JwiRwatrztM\n",
       "1TSNeM6MCVZK8KxSfStYDNirOM4DZQ6JfpcQSXoGSW8h6qj8qfdTZEfDuD21L30QJ3S4quO2EetT\n",
       "5oebg81wifWCQft5d5+bK8BkW0nwOiBq7d9ZmAUbJIxqS5sfgGhgK0e9oLaA63bWqiguUQI9TmDP\n",
       "RVdqHYndaSiRFgYxny4k32uyHUQtVrVrW+TaaN+cX25vouoXTAtfUYFYymiHNnxeLxOlTXzyEjD+\n",
       "B6XUmCx/PpZMvxsn7tEDhkNtplX9r7bFBWVO5E4MJv5aQZXijALDhaaKHYtgfod4WNLzyX5zsM+o\n",
       "JDjk0oDy8nbXuDXWVvjS3qhPQtHV7HFGzKTYVibC6oY6UDZiSljnsYnQxaLFVF/uP5HH8//QlrEj\n",
       "aqVUgiM9tidFupGPtHpaGK5LeAHFKODYCN2STBia4/yN/1INdWd5m0qUqNH//6xUXLvM+kJtbTDy\n",
       "u0sV3DsES+T+i5saQ1wlT+DHFEqybOe0bmMKbpeZevZF2DqgqiHw0R9QE0vGVMr2MkE/2p/WEWPK\n",
       "kxSpHTnFq5tRzsX+qgcyMqLG53L2+8dNhpOS2z8XamAjGxXhyFECPpQRvQWFxsD9WSBCsm5X9L9c\n",
       "7b8WTtvfXi4sklRku+aJoX6m2nZmGQtxfnZV3nwz7P/DZU3lQcraQJqEO4Sb3TDjrn6N598ipbhq\n",
       "tfXMnbTtioKdkNnU7ek9CxE1M9eL79oR/zeMcoZXI50lWgB3R3l4PCPl/bG8RAzCge5c9DPpsUyr\n",
       "/KWi/DQVCBGTrdqFOXxgQAvriTTVndq6SDHKdEPur/J+qgKV67A9sT/MW4fVTvyfLXSiKvxZgMlR\n",
       "q3x4jn84TOL5qMOAT0wbjeh2VQr3zCI59/GavV304Wm/nSqrviwdgyQInTruPDL9qN9j4b0Wc0dW\n",
       "EYcMMgSD4IUlGuL5Y1WAWuI6Y6nYp2IlR0TZWfU4MfVVHYwKNq6ZgNBsMoAEM3d7tjmt2wICEdTh\n",
       "mZiAfP89bNod3nnP4UR1F/t4i/YNvsprn0taBm4xgqHgRe9vFz5kGybsjuSD3nsIPoRhllU46V2a\n",
       "qCns5xzj7XRVheXBDieuxnv0lePVnWQWWQs8e04M3Gd+m0NkzbNAzs8VANyDw6Ki9OHvRiqFLmsG\n",
       "F/akJafLU0RblDJuwfgFGm0eEaLzrHeTybiF3evEuiG+NX7BYXy/E1v7GM/3JHgOe18wylZDwI5E\n",
       "Wv5D8kkgGo2YwhpCNY3x/oMbkiCFZTvH1cmpWfhJsfUG1paKyb8KY0XlpcCyAilHJhB5vd4GK2r2\n",
       "wMvxI+05T+vBpHaeWio2+SADU3S7b9p0tosjDFnFqo6cHBzRlNfAzhuHBanFjgiRzY++jvz+jR0I\n",
       "t5mRWiN6p38w5mQVYRAUeoTBDt7lVFbJ4P72CQBdbpDWqQVz6kRXDRCj0BLEt4ZDLjgtpNSUHFH1\n",
       "r2+jKh6jU/qYOsf3y8yFhp2jJRQF4JS0xNTQFqNoTtWAmVAcqwSPsieEuVp4qf/tOvjBATBA17WY\n",
       "fwaHwG1A+jktX3LC5uhIr4YCC5qwO1tcCqCGHqwVzz4ETizHUHMsOpQQZ1jGYNFYjlM79fsbZA5j\n",
       "S/AMQI0alOM67TRBw9QdR6g85eO2DXK+AGbKaoz3j72cG/VVlodcaDmihzejal+uTvO3T9t5XD5N\n",
       "vA/wQO8zma+JLZ0czSyisT+mIzT9OPV6iwYx5rPgoGWnZYo5Fba8/qEkIEA8s4zyB5oaSx9RtyBP\n",
       "yO0+M725kfDv2ntTpf/2LAis94j5Hzzqwb0Z7uc1XPfz5aOUl60rYue0HQNgpdDYRkDqyE1KV7A5\n",
       "Y6RlnO+foh6qySrqTgaRN6/UePZkFJokqC6wRx+ahXXXRohYtoK06krU6HQCgNG1eIrmW2pY/+ly\n",
       "dsM2gukngHJU8RjR4+GlyBSq8sqz04BVj1zky9C94sK75MrKpLb0ELqXBJ6+er011rnvne9+SEye\n",
       "Q2UGG6oJw/AtAna0ET1eE76XlohCEUKlTCI6i7gZw0BrFFhXDvoNd3ZDCoAaJRMwaqQsqw7HbEmh\n",
       "Yl3yVTHHbVLv5fUNm8vJkhYvvybqRIFKkK2LK9J1gFP8/e5yWo3XM3qs2Fv/uG//GteClpEcc0m1\n",
       "Q0HV9oAK0rnzSk6d4UGjLUUiCfeDXVrD2I7CF6/Q49MJ9DxX0ifAJmcKDNAsrkDoLlNs2ysLSNEe\n",
       "frRkjwWRp8L1es3W7wGmXIHnuGLBTauJSmk61urAQ6vhjmv7YJDX1OOYqymR/i47cjeCm2AEwZHX\n",
       "RyJFrDnQRlqcmtXRTJxWFDKL5i7JAYUEXXse4u+qmOPLTz3o7bvPPSjXO3zh4siukdkH3EHnvbWn\n",
       "wnRNidrUzbVS//hqmZr2BJ28SFQZM0vQZN/gggP7LPqbCtuV4qC3+2QzgMDP9VZSIzq2pbhSNpRm\n",
       "06IHCCh1Exqh98riFRDpfPaq/fxJLrpl4XsNfC0ch5ykFNbL2ko3C+OtYHUIccu2Ic0Tam+8FR8G\n",
       "qWrvo1ZRAfkUWb8SIPNV4zjCTNPA9gs2jy3Jdg2fKSHOHRq4vNR0Fda02mFal2o8l79Y7ROYBk7w\n",
       "kzbsTabaKJG1IrcJkI5Jk+hvlvoreGgHjn5TzAHSLg2yVwO0OJmHUezHj+mkX7XliNQ/DfOdQz24\n",
       "3ynJSQanj5K0hRTbffz4RztM3fmbOEhrITh61H6VvGJNaBvVh4x6K82kclE9MnAJxbZhU1JxpdCz\n",
       "t/SUiufZLARtFmttlohTIZJLSqJYe5p40529n7LlJvL1mShr6omvl8frOIQe66fNwi4rRN1jpJvj\n",
       "Tgcsq4Rxa4yISfbaun7oXNAm35eMGdoFT+SFkR5YHldSoil/EpVswa1tJubRPqHsZqlscyzb8ykg\n",
       "Q0VdGr5h22OaiisA1CmT6yNGdnGEqKysrS70oGLFjIIauJGtUJudGo2tODjIEAtp51S8fBKUYwgy\n",
       "OBdO0meYUwVJQCp4ekH42kE2mKv+kygt24QQAUDQ2zUkEw76SR6DDuj3X/9/xeelQORn6LqR+p3/\n",
       "XOZJ9Mdc7erMizTMuReKYQLnx3vnkr05vz+mn/g0uLjKlyNLncYqylsQitQqUsMrb93X6TvHaQI9\n",
       "A5dnx7+8SNOB09iEHMru8cuFoCTcrviPt7yRtw1+3E2C1pAb4+6adu6Ef/w5eX0h7Oc/09ND7V+g\n",
       "EMN+yji7IANCJERu9YxF78WF08GV1rSEHQRLoBuSJO49KGWi7T0dQyzJVFAmsmluC9QxTmNUe63X\n",
       "QkJN+j9ZKhSGuZIvyQlbSR1AQ/A2jWMYfUyEGjCtkyd3JgbPf0c48Tfteu4BXYN1kYe/m755v/2l\n",
       "ijJ63/EQDeEeWKEECERiZdfTwRv8srAOmZB+jg24xdeqfbYihZ/pvNRbGlhOaGTd7J3J/6ZhpLfy\n",
       "5OxGdowXh+BE2pK9CTV2yEhv+d55YkSlillizyBHcLaFlbk6IOkwhHA7eqkibeacYNSNt93/HWGW\n",
       "wOhbptS2IByOtrh3MzXXyOt1NiseGIc2WY9H234i6RRIOJ+oN9ZSroxltCB8aeTOgytVWW0MLbup\n",
       "d9/9SYijj579BooHs1EJw8j0gUt9V94QrpHYnwsRam+xGvObhWFXKWhahwWm19w3EWQszWAAScqQ\n",
       "9AXn5o5+cihCc0KduMaIWcjJ62cuMFhVvbXFH0wRNrxPF7J9K9893aItod8coqQ6XUwkklEgT1i/\n",
       "ysQuKBc3kgEPK3dBOP/7A+lrqorvKWRYhFHbq13MxjkH3TTRLy0DHuI13A/xRVkrmaMEBgB9VvlG\n",
       "wPBkQvnVLWwWlr3Y22IWrYMR++gnADhZbrk3uBX/cdg7plRZGV77phHtvIPJtugykQXTuk4EqLqj\n",
       "jEEOIlVcQHwtP63mKd+We3sYAGQPS65BFMy5965rh/tZe7XOKaz1/PNJpY8tQ6A8UoxpqEj+2XtE\n",
       "m3Jb+2WWn6Nlvt1Jp4IwzPMmtZ4n2EHdb3H/wpzq4o0c3/MDiSFLplmu8lX/BXTeiM2ch336t97d\n",
       "UQX2P6vAk+r15Yjq8w61U/ruv1R+KL12u9H5rJbjvi6OXP6gWqEe8aRhZI4CPArwFHRjhT6NW01m\n",
       "WPdMk1FSqmowu2h1rmH2kIUQdqC2f/90tW4XD7027WksRbcbePueTnjPe0zbtCCQorgRGCMU/5G3\n",
       "LNY5lzRQs5FIe+ylaQ5K827YdMp/FZ5eGIof2A/EdS5u7bO9Hh2VKVQRunCt7kEAivPLHx1+FSsA\n",
       "PKlILGnXTaPw4O9IpH9hfZBtqAgLByfDZ+rPiH17QIA7e74PNlY4TU5qYnZKfrcMpVI4C3r4ghxk\n",
       "USs2CwGc5DNmO6RBhY1M57FNt0dhXXQz/W4PdaJlTkyX5SNS2tJlcvrtWBkvrFI/HYUpqdW49A0P\n",
       "LUURQTApqkr0wSQ03tezYSfN0XJxogczJEStL8bC+8HeAzHFYXjJz/+ucP/30VvVDPby7DVc6Mrt\n",
       "7+mkVXMvOsXTr+qKNbxDFXT2hIcF5zO0LSstO9f3UPB73Td2X52k8fSoGGzNIc3PJcYa4YCdLW36\n",
       "ygXIBiwMQ6dQcXto67y6xQf17WLlIl5gRR4La13uRKNvE0AO3lZZvha8pZalcrxDQkpwzWGwDEVS\n",
       "/jM+AH5Wix9ZZ+aFP6iHxCRh//ibYHHZ0vcQlnWQc2epvm2UZNfmi+i8rsl3qH2YoHzDVnSRxdtJ\n",
       "cnP4XLPnNzqvjgPr0msSDSX010iEoms1P0cQcuUOIRqoS8fJHotgPkeN3JdEHvNMJlCQy2XDAbHv\n",
       "Y0HYeHHVefMMCqUQqC6LWGVe7bqP+x8KTsgmICmaGBWE0MGvBHXkETvBppy3ofLcYx3TuPnjxeCp\n",
       "uj/TQQ06OHoPZzrgKMK68CVlweTI70TDMfkc8YfQ/ODSxz1VvSJMNr4tCgf1CiWAAEDoB5uZ9Fgt\n",
       "D8ooAC2CY8cY8WqAIzlxK3mMtKlpwOWnV6uwgWfp4AsnHz/sDg8A/bKvf6cmGcBv34Hl773RVKHv\n",
       "F3PHTJC0UKff4ILeTO/X91Dwe/TvrW5XZy2LzChvfyCeOlJNP6lP627BTgF7NUqkAZki0txmAybM\n",
       "JOxLDob9ii50905fPGJ+yTSI7PDhfxEX/sHLGV9J6EoD0pV98aLiKFF4foXmZUg7U0skTpxUuBXC\n",
       "3DlqZZZHGmdjVhWjoFpo2vfjZBHJNlpK+lvjWenasK+eboOvSlAHY2ajewBxzFSs/WTrAxC33/sg\n",
       "WqlAvi7DRH1e/1jSz0zwt6wumH7T557ZSf2gJZBx36A99EZZkB3MfhR/QVraO2+j4tqj0Ro//AW+\n",
       "ISe6GuXvRgiPXkkXZqEo8vAwyetnZ7mxkDwBXeMCZ+Dg+L4d2lYPozYf3COhwwfBfESTDYC8NHrf\n",
       "8DVsDeb7ZlkHOWp7ifh3BcRFXUwwu5d5ofGiMTkb3CrTWqPWGnRhD8Q/DN6iALO0zMq4tMe/KJbr\n",
       "FE1kKkYe2pIA9V6TXtU3RT620P+nZD071oxEWJ55sGD7PnOZe01lOEzvFopF+poUWp2EkoUPe5qB\n",
       "P73+kXsxDc/ojdZZOGBIsW66Qw/AxDkSngbGwDyA2yCTL2UbYF1/cZ08E8XBdXyXxRyQJzZ/o/c3\n",
       "VpEy96mGWrdGcx/C0+v1dn2yq56ZRzig5rSEo7+i6ZfeOtmpk3pZoUhiOLfRxtUof+3lKOf5puUM\n",
       "h8kJqMjW/kXsply4u1qx8/A1IB9L80fd4eaIlTj948PTu1TmMXwuIZl0f/4QCZ2WNr7zxB4LsyUj\n",
       "DyxNVHD+Y45kd/b0VkQqokTOuM7ABWnIH+70ph8CcyYAb4hIDpxSHrsNY7M30I6ND9PCaomCIbgV\n",
       "Naaon/dFqmouNm1L8wn7EsPHzqiDx1KvuLMloHFtw6YEVH3QjpmkHtTaUkdGW3QBc/UCL9O4Vv6Z\n",
       "fOyP1PbdUeVoBURao9K1S908JFTCW3L9bq6FDR9I+dfGZTy17RuZwczJOfrdTtYrKCmQC7lI13dj\n",
       "AnvjrJHvE26Ohu+Jp01WeC5rdCPWnvuKY3xJc51xmYYZhtwdHMUvpQZNy9z2NX49XYiWPk8/Hg3K\n",
       "CQsjuVL+7L/kgw12hh3wc6BND72ngjBr5RuXmiF8wWnlg9CsY7vimaBt0KusvX0apMG8/5u2tism\n",
       "o690HZt0HvVHkyL5ouxs8NEEYIXlcxNSNtD//1RFE9h2hZPSjVIQsN+2rjkx1dOKYNKr/W9BtZ09\n",
       "GK+oGAsvCVokbuKj+XPRqnvdWuZISWvdVKccIzy1JHNtOlS0REThMUBHmzTtVd9/YkG2OIJbVn+i\n",
       "P3YQHLT1KldVQ0CvMWzAyqwzZUAVyz+EybMBqS1mSpLkzWK9XaIzLMJw7Bug1Qk6NBRRa5e/7AkU\n",
       "E+dMu90LtFx7e0h/WiiunmKwFN/IfHZOThZBK7Ce+xtzNNq9Oaf7CCm1HWB9DByIUhvlaMteU4fz\n",
       "948MgSBaXyZ6Tj1ktsqBi6yhymdgruJXbk5JBiyRSkk3H1UwABKqjKAdOnr4y2GOWWlaMLC5Nq6o\n",
       "nScD1ZQJgcSnvhtmCYfFxdH0gWg3RLM81x2GoAEvfQ75NCTpwm7egtTc3O9QOOZLda+JCpyxOgs9\n",
       "plwUis3AEnw0z6RS6uVQFVOQ+W1ln5xahm/9AvKdKXI5IZJ1H2hObl/IXZXG/LeNtWnAKU1mnh9M\n",
       "fsx5opnrUltCwpUVoP1l8vGGBh44ZEpHdQMEc2188BwmEggDnppI1jJQDf7R6PN/JYiMUts0Y34i\n",
       "HruHCZX2xUDxS+oe0Yg/ujtT4zkdgnhT5PTLHToRszNM63GCjNMxeOoNji7EltOhHJq6tWK3YpWA\n",
       "VpRf6snDdsA7N+c1RWLMd0/1Iyeh9eeGJsQPZuxcufVbaIRBeFwNg2nD8T3kTr7Vc0fTVKitY+Gs\n",
       "36i5HtYk1L5/FFi6ujjI839FxNezfrjII9lhiwPG+ykPkveClgil1Hcfb+VfIo/dGa+KOZJDRMku\n",
       "RPsPujeBD/5RSVoR16FJUd/eRRVnQ+OzuCcoPsX73Byx3az13AWV/Hqv/+5e18X/zKuNbYc8//6/\n",
       "Nj9OCplf99SyLEeSGCtrVrozKu/hvXeumLGfQAcDUQtGAw5Lw5EZ3MVIgzIV0lQuaTgfF0ZMCB7o\n",
       "ZTaI+YAd9lioYhqETuRRcLkUjHlgCHGPMplnqFat2HuKogONM6iWYzzjuRyOvJla0/o6SL0ECqsS\n",
       "cytdgAV0ES7f2hOwtUIODhWJfl4bNLGDgnCfuestUyX5SWoEUm6ksNUyNUQR81t9OC/gxizxQ6RL\n",
       "fKKhEMJwACkpOF2jf2hvR7M2FuT84ekO84EIAunABeP6bCbVg+mbswUDrR8pO7DFzMGZhOpM+cAf\n",
       "RQdNNIhd6DAVo3mswDHYW680MKChen1ITiypmjxVEhtjNkU+SSPOMexbpIpBBBXtD0/sK/k1ncfM\n",
       "hxJliHfT/G5oFRF5ge6IiaiYZ4/vWTieyqeBwb4htCqjfqbaARjk6TBdN7PrCFCGDr0dAXjwYmaB\n",
       "DaSrRpEPXyNeXzufi8u7T4gP2Ltgb8QhJCMjLnvjO4lqHi+5eOgpb/aKuKwXIS29hwPeiSOhUrQV\n",
       "h3SPO7/nHk3Z1GcT7GKFV2nIlGNCmWSoLAG2f42u1R6zqpwtWQxUVTFol3z77qj/BQBq+wygBTC5\n",
       "iagOHIdb9MkMLKDbrVA1EOnk2hBBm6BGjas/LRmE2PkXQkNtbS8F+81dsJVcXx/6MJEl24q3/BNm\n",
       "FZFzSBQn1I2cSiFBh1tX76mNLPouhySrrOVlK6fnfBEXYRr8R0CBwi2khQco8+6vQj0UG1SkNxxb\n",
       "MsCk86ZkK5RnScIRg0ocY0QNl2VX0kECZLddkWDTojaaTiMh0OzegcuMIhlELrIY729D0CPIRQV/\n",
       "SFSNHivGkHysRLWUT2ai/RtvkrUj/GTzLX9XX7ejbZwlmOArF028tjx+sFJF0E8DYgZpYQUquwy/\n",
       "A6tWzd6C+V4YWe0ZlXY+K/CWHNDFwDznsW6C1yGMeNsye/IaGZmxson082s1O4+/+SN5602jNbQD\n",
       "s2g9zg8FDkJZS2LsXHqswut91swA/oEv7KS8fu0oJOBy1N/OZ9V0ArYJYrmsKqPet84l+o5JbHXA\n",
       "COly0bnyfoVt2AHG5lANPjogUcJTlX2lgjeYwNh38FtHVhqXiSddlRlp4zSboZS/dMX3C5zPaLTJ\n",
       "LGBJqy7DmPNeGBfv78PEPA+ZHjJ5m+hka+VjvetqY7GpogeZ6DIREYIMdn+pim99ieTn6Kx+p4X7\n",
       "P09zB7KBraBGNX83XiwPnzvxmEeU6igKLeY4YiMwWXyT6ZYGptmXIyg3D+JuFAcU8A0bm+o2vDnt\n",
       "WfmgHSwEmS2HrnuOL5N83GNe0EBgAk81iSplyr0edil5zTyWdDXeDcWM135bClYVqQkwP0TuEzlG\n",
       "NVAqBvdlYQRpcA1iBlEyLpagzF6jt0Tdksja7VqiiJ1YDcwofrncCo+7Sj6WohX0EFeyXykfUtcZ\n",
       "HYQQJ0MbR1yDOEG4Yh0rhGTtTbEGZMKoi9HuGn/9nfxdzHN93zVAAyLHWXjjp9PxunP1uLlzqqXE\n",
       "3R380jhsAVV6kPMz1b+XXLPmBWC7/EPYZB+vpWiMjV2tPWgAPtpPMtoCf3DmyS0S1j5g7Ssc0Tgp\n",
       "R8KvBt0WELpTgY7CQo7Er+vQ3EDMKfgy3Lr1iIJ9t35bdBd8tI4iX/ggW/pFILG8nB2GNqY/pNkV\n",
       "plE3AEPlZhgGZ4N/7hXpx7Aa4k1VBI0HGjaPbxI/dcJIgp0ct+fhg07vvPfSg+SKP62MywgSPES/\n",
       "PTVvVx0MdFm98nYuCjZVZC7q3Zod5yQxzqNlxiJw+6KYkP1+g1kxlgCb2O1XdViDCmQiLjkg+DhK\n",
       "N6tEr15JzIBYbe322VMDPFrO1sM2EK5n0hCVlD0El81Ko49paQQ4cSqVuMUud48F0zE1ThywT/W0\n",
       "0ysRPI5C++f7PGZX7SbRiQr90h4ykkJ0CHR1kiGwkB+Jq9fRWEHHypALCa9QQS7WztHBkX3iLIKX\n",
       "HbLwzRLpoxsG2Z7XU0vIqv+P77RwHEe3okh4+wD0KknQ/hpqPHNtioX/wtVyPHBUtANPvY1qyrlf\n",
       "RU7VCmUS9bQ1+5dACb9pa7bt8a2RMhZvqYAzFMqSp9O1aCRdtRE60LraQMZFPL5z07pWAJYrfwnl\n",
       "QOHenycCbZUl7/GSyITTdRIEJMwKbVWKI16okaohhUmau0eGTveEGvglwB7Rb7lzLqInfxjNw+br\n",
       "UgiHEmHFmsKbyNIkVEpzxEziRk3BKiRkjr2YD5+FQM1RBQAACr9BmiRsQX/+2qLm96Q9sJGJQAZd\n",
       "WMxpy/6N6B4AJMWmYNdostcJhwGN+gYxLj7qpVzSkxyQ3YbCnz+I+YoeGQc37u1Th0WIVcnKkCl6\n",
       "KvGpAKcAPZ30VofLYW13URAPu451vuLLcioKFr6/yeQlDkik+hNey78UK8mYGjuZqxRZqfRRUZBU\n",
       "nmYs8LqBw3Fkd6NxyloKwgvSWZA9gfZa9qQs/nKSJbNQW7tra0ivoTCwZADcZgMhIL8yh9m4PHCw\n",
       "qpSXm4XwFCq4adPRL1v1vR5Ihz/xgvzNB5bKrstdpsUI2jexKtR/pZFJ9XWJQXXZy2hf0GjTH1lV\n",
       "ub1B/Pi+fQlNbyNaZlDxa284hc1ScrLFR/A50t7ab3j6u1tD49yV5yCSZNYhzuzyN1l9A4WveZnk\n",
       "FNar9OcmiISRkr+qutdUzQX/jI7w24rSD9NnVRKpFHe45pxtS1bCwlYAjD0kpqiGev8sU4puntZ0\n",
       "c8TPad/kYdOFGdNslzJx9AU5rLbOq8lMQxJNpre6FmAzgsO+DFVNQlAihNBZtq60ieD1PdGmb7lM\n",
       "hQk8PhjzDLlKfw4FnsTMdADg9ssz+MTQ6+k9sHZt4iEwyU4+BHgTJqGPVpkzjJ47apHsNBnnDp9G\n",
       "0GMjhm0Z/AAdrmE7/7yCXOAD/ofp2rudU0dQUtYyG/NzU5cUnO6r4A8D0jj6HAKPXxDKZ2jaoBer\n",
       "yPTTSvnssfqWpOddPhHI5IsnW1bmsKoEVFUNyIEN5D5tI4UgPmI4mGDO6p6eda8d1xyd+1qm1ozg\n",
       "VjvnDnW9N11AP/2mGMkY+Lmoem1RGuBuK7w35tyCIdPnxXfiSSdmF43KpTyDTIQ2wvu0Tdt4MfC+\n",
       "mFK0x7AbsAdWiS96GuRzBgiSV/yTA9fA+/0enTAHLBZ9proBcydXpejlKBBiNqwpR/J5JqDJqHR5\n",
       "FvsPnyHUtC6iIquPWjUGv845HU0xjWOyEzzk/Onh+ksdfeWr5tbNwx8YW75o9TIS6NBdv11k2rNN\n",
       "vBUq9JQqWWSVF/Kkl89hlti8246Mje1wh7MQlfIVRcBs8zFahiEHjet8UQkdOip+2Mw8AECqulbS\n",
       "M6YVSRGJP/rIg69n6TwvJYfxwb0DHiocBUp8+0HVoquzmq+uDF5jD6m/ia3xSDVgpUpubicNFxsI\n",
       "a7svjpFQ7SDBhNcVDBC63LmVqDpPVsO87EQzgrEtVkplzjvZY/jocVPa+X0KpyhM3+93Pd8k3ey9\n",
       "zGkAYoQMdFH5XOxGgc44Uv4uHFj4vGrCs8p3ZhVZrH0X5RuilzSrUObPEfi7aOV2cfsqG9lDhYso\n",
       "yJwgiHncEGxoEBxfWb4kn/RSnr5v2mHp2Bwdg4xWxmQDMu3IedgPoLFUFMdK4b19YiIo/Q6RvEHB\n",
       "Rv5ZGRJ/TnNUvRVCAcjP+1fdw2iEpKPqPOzAZfuz4ExHvR3AZtiqDuyhORIOvBps14t/rmQrXY54\n",
       "EOPjjv/hbnSJ7MGxd4uHjSwMn132L3X4jEiSp1Lu3zHZYGoO4Ygs75vkUGi7rQrYVbgNSJJkPsQY\n",
       "ziqJIXUb2tWW3DVncHu7P8l4ulMwwOOdGOWNYSTm1gwWoDvT7H8I5sHkmNPI4csaP/W4JkJ0cYKq\n",
       "6EvBDUOdKNpzcfSYNNH7swQZLD3QFpEeFC+eEp/otyj963eOr2xl+g+Bh7BY0NvG0VjxrDRcCDYm\n",
       "AX7KK6cbQLoRv+Pmjcckd5vnWLxTCvb0f46zrkUb4otDsFWyV7nCJXTg06OvIEBpaDZfnuueOVF8\n",
       "nknwTjSaEDCTdjfoSJlztHebd2uqDL/QSFIE5BuxWXMSR3mbljrc150GzxkMNf+EL2teknS5O8y3\n",
       "lHX24ZeiRs6eGLEe02iw6T2MQ1qg+7CD5pXi1NwYHzf7PB57LJ3p8p/RUppfPQrij1vzvDPprShF\n",
       "rlWVjaKFuua+k7rOkHznf8qDd0W1+YQy+lve2Fiwm3RxrXgI38kKlyebj0Yx+pm6ynDuIhtqQwcU\n",
       "4SXCtiN50r/dH/L/E4ajZSOvth/qb4dQALtsjL7kIZJvU3O39Y//kgTpLyqX2TbBAaLw199QPb9k\n",
       "s10h4L3Fv7lrLDzG4uYs1bPiBz99gqgGSFu6XJbFc0ox3v4glxiwkiSx7t3o4VPU/QRoz2ayAfgb\n",
       "k1h0fFnKJHDeI6rR/3frMzdA3H9lj4+EmSdLvT+sBp5BcuyNeBWAgStZpoHqaIXNKMDcmWrvX5oN\n",
       "setz/fS6sa/5IidERl54DBkVGrDHDr/ylnxa2vuGYfOdHfdVSeHXXWMz1TI2daM2NtlqR63bP+FC\n",
       "ffC2hm7mFEm0GkRrJ/ePnAsRuD6rtLomihapAM0d6iSefkUDd4y5wGTHCRfPC461gL/9UqCd9cUB\n",
       "ReyxEXy1vzHgP0hpfv2GF+A3CwgnSAAmylZmePKH85/5k1a5NGusfIEPzwfimPeLdVv3ZKzV9RII\n",
       "Q9v0VrMvOVeMo8OTQbMICD0fKF1XzQA4Rn2RPuSz0z9KKKIZUvJRIdgPl9Mzl6oiwR0e8SuZZAal\n",
       "2ReRwcAMxcmjNUnpBAJssUCk+6coIRXLkFNCMIHwUosY9jiiFHNVjkqNB7nQC5VFjdkfEGQT7bHT\n",
       "s6qs/jjtprJfURpJCYbvEp+xNR7DR2+ntPkDuRzcpSzaatlP7/dCQfpPreQcX38edX3dXqMHCpM7\n",
       "2Z7AzBxB/QX7i+duiZa/0E/tPFqPJ8gVH3Wus2N7yoqep9+RKUA0s5dcpkHUs8L/EAK+OVYYdGq+\n",
       "pd+mjlgrbMHSxd2ZjDcHUHSQbx333emxaSTi58rrYx/YPl6aqTYSq0MWiclIZsHg9YtHLeMj5aQy\n",
       "dhlqhkk+YtP4cucwNMaT1UBqBb2gixg4MOpF2k8/Um4OvoNNor8FXPjJkpym10kyub1nSqEeUtdf\n",
       "w5JeTd5fUd+h1CkFO/Nc7eWJywgjh2DOOmDeiET+NApCRdyaj2eno7mYjhhJwClLcZ5kxiOB/2hU\n",
       "BNbRM/Lbs5Q55IMHApRi/KeXXLGAEkgtMTXxp2eGLyh1HbpJD2Tjo2EO1jipo446Acyc275CjgyG\n",
       "Py0Fd4WUFYvXiyZanF7XxsiEpqRw47ntE9PauajK3xseNeNwhUA2UjlfV5dfmsYDWWpvYsXLIFAu\n",
       "A7kuD+cMSbyNOyBe7rHzmqV6yCaxv7FCwtVZIJC2NcKJuMn1323ID46UFydMDO05buQ7VPauvRbu\n",
       "TuUjRa9VsTluXgp6Pid12W8ppS3W6mdzlAY9TbmB1QMOiNVsbcyzxCF55UN3bcteNYZwECa8YxY5\n",
       "QM93g9i1HJa97MUl8efGGR6vwlKJkmc380yWu364eq8B7BJMa9JuvXFVhcfKrXXmtmHGJ/mAOty1\n",
       "QVxGyDuuOQ9IXFomCuSP42BKnWqlQDDqKzMWzMOmhXRgxEy23g0vkvkJYoFJFj9u9TtmpZiyY9ZS\n",
       "15fHLPxAPZTszsZ+CiQYeUEX5F6eyGx0GE0yAFYcxiUnLvScYJVPo4dzk+7Ik144Yegctc0JiSBW\n",
       "xAKIMcH05xoADGyuIo7BcKLmzdGtmCKRSsebQVymv7XgVV0DmQxhM3vCK/j8Z6/j/3hjo81rjCrb\n",
       "597CY4WscdlIrsaM757fs0mc/valgCgYNTiHmOGFus7VcbvAeMaeI6AB2FMPik2Af0Qc4SQAAAW9\n",
       "QZ5CeIKfAx0oW+fQN8kIsJbOyvWQgA2WI+CUi9cJkcoz0OgTsXm+Jqlo9rOubdX8+mRkiE0sPTuy\n",
       "ESl2uXrN+IDpWKwtMuxhNtFtT+94SsuowZJ9s0zkTcgiNxPQNdJtt2JKLBl/pPMJ9Jh5UNo3Yig0\n",
       "gJ9mma6D3oMBrYiaJnTOVdw0sNQuJf2KNB2+4lLcTy226npyEYqHfmRF+p0HI8AJv8Rmr3XXFkqe\n",
       "gjoZqLkAaRCCrQLBrPIBwUuzlGTKIs43zWPtr65miiTRqWkdUp9EhbVJ9UEyJ9ER8tAZpKOP6OOl\n",
       "QtmPn2hrthPGhyRNML4BNscy0bQvpodsWI0+4+cnAsTzQOWPdCFnMTUukiz4dxk/g3dtkqNckXxB\n",
       "9jOrimVcN3AcLx8JOEqk/5tC2n4oh3kfL+pVA9/GMJlqvGkGHnYUkFJqBJEXoJ7Ch3vy5Ex80edl\n",
       "E9SomBRuHkANcCubSAmaU+RqvruJNKWvmn2IbT1SmZ+dsuXc1MmRuFDJQNBNu5Wp8m0q3e5e+IcA\n",
       "VurAtF9JWN4q78MhVhZ3RS82qutCyeJ4becOw7ltWS/1N0J3x3ROE3N5K9vhd3oQEUxTjOycXc/k\n",
       "2Kjc+LByPKT5lpiQLYskfZwujIvZODwmCegOsF1GNYNvLaQDgVrP9r4/0sAJ21nNMQw6tduZTdSt\n",
       "IJks+OXyRHbZdawZY+zeSVCM6gbAeRyKWcNq/+icotXhYhF3d8St5d235rCK8aTV0qdq3yoqSXT5\n",
       "Ba0alKGRquEl5MssAB3vv5dTFjjz/PG1qw/NaGchKFxHWoIPMrdF1ZWaEG9r+cBqauxA/JMIVmjx\n",
       "vR2lPhF+hIXWWBFmmBbMP2XQ01iKFI+HzQBOKSr5J/5iB66F+A8VShjh4tKgV8OEWBMjEWRMxNHY\n",
       "o2MgJ+50a6JFM9NsdZoKzXYcVol58vbpIKu4VKVTh/sfw0tzfQcI8G4H4xDGngHE/Wi1rx8D6xH2\n",
       "7h5KdEE1Qp7D2aehjDCRaJJQVdHDyQ/zAD6rY+gKBTdIXT0pw/L5gGkzUR0gpLPFke+a52OFcoma\n",
       "U0u6Z644NL7w/B5j9L0lnP6lCahZ2L61oiGNzU8CPoOxv7Vylni+MP+oThoiyNM451B5i4KFURPT\n",
       "7wLUrOP4fTpV02sjAzI5/2T9Y5iF+zOGPJQjlVqZUwEltdH24MLSBTc4VdGS2RszRWrlcqjBf2EM\n",
       "VcTyCyRcoBIQn45S+Nd0OBawjxcCeT8N5PYvU0vlobgXpenMTXVLSoHukvYui0ewLoyfcplE/wq4\n",
       "EUAGS2+c+urhtpU9LpS8ZUK2OC462qn2YqM5kFuRnQxLcpZkCBvRghSJZ1ca1B5HJ3Hp9N2fX3LQ\n",
       "LEDLbaku4YPEOj8Kt93zMBKyDWvbIZMrXqz1GMPJvOKZjTnUvYN/OPBzC91LJ/47fS4ZSWvTQTSZ\n",
       "wksl494YTqluFRU5C/uaD45HxTALtFvDldSzA+hSlqypNMBMS1tB2uVGMx4DoOmocZaynJQlLdKH\n",
       "rDudUHgEgT6pU06vROg0SS/sfa/jzjisULuQXbeHkKdXR7p2GEqudoc4zVvIQ+coRVzQl+nNobn0\n",
       "DnNrXCbsmZL14hMXjAHVU2HKrhhS6olDdYRSUlqp33O1ACOIBXoQy8m34jsqqOqvPuP9SmZccNH3\n",
       "Dt6IrqxswApGnB3QeN2xuP8t/jUPrFLXQYlqClK8lO2ABYu0CEypfYTHfa3t30lErPD1BGFdLCud\n",
       "YZZScDn3w8QVmaoKQv5LWnANJxHFi2GD+emcGScsLHOpQCzj9eITNSUCpJrX6ewV3zNbqpxdcLi6\n",
       "zWpOPC/FgIFf/fp8Z8DDw/i9M5LrfrR2jqEiWqEVuJ2L7wsUMewxsV9+9x1EmXli7wSBPsE0zg1e\n",
       "btM7DAA9UupqgrjhhlEzYnk7JW6oIMDDPawd5E2/ppg9XwoPHIeala0OyYEAAAYNAZ5hdEE/A/jw\n",
       "VHSWaA6vD78NzlzQATPVf3owY+Q6tXNvNTfFViqs8kxiiuyL7gpYbfp4bf1NsN1+14hy2k7lTAes\n",
       "KsqEwdWqfXfkg2W9Mtu2vfP1pncsX8UNacs80kv7/tuYfzXXdQqhOByqq6BA/8ocrZ3AR6/zRBNx\n",
       "aBUZdQ+RLf//Rx2hhWVn3EzgaVL+Nws+Y93ewhMxK3gX1X7yixoOV0FwzlTlvNUjld0SHkfxQXu1\n",
       "WkkxHNJjOhvW1bmiIGSrolx8NaD7rDhPclgGTsA0w1CSAHjMEtOZMTtLVzQWAgG6fAaiJg5KkqNQ\n",
       "7PLUrVABQngR0PxgLGruuv5QKUjw21TzBWHFBmzb0pQ9RCcHMrb2X+Zl3j29d27wX/k31bvbqs7Q\n",
       "pFOYvvnMAJ/NG7RcjmQe4LZimHS103Du3Aj+6GhJtduBdePLhdCp0SzoQQfi+81YLdTdG64qAS5l\n",
       "pmfgPzecpO4zzjxCA4x3/suQik/rrkQAHoH86AJ7oZwkqnceZSRPc0plTRe9iZIZOzhovM1QphWe\n",
       "q42UKc5a/YWk+peUzGsr1+rjG8Xc/UjSYnRve8HhpPA7fw3pZfLB9v0i/dk81d85PqyMoEkqXgUa\n",
       "QnU5VTZcmxfd02PfX+fgfTCUSe3fJhD3lfx8muBpQ5Q+Msj8DxxOfhueyGutllnColcj+uqdO/Wc\n",
       "xxaKWRIeY6S7G8cpaNC6s2p62UWljPJVcAStNXCGNP11jYqvmuGjSQo1OXs1CQQwVb3OFOF4i+4j\n",
       "BvdB8PE3lZEhz8Lu8h+Um2Yf9thvdm+3/escFMf7k52SCIrPp2F0Y+T/u/a4dJMIS9ysW5wM37fX\n",
       "+pRr/DKolkw6w5CYAHimZZyimr5tJtdaVlHtRzRK9ZUOkKcCcWlBzTjnM/67q+y/8yPvlp0THqJ7\n",
       "K7n+msQrAO2EapbbMd0q5tXdepINApcAJ+8C5lrJRpka11TjZbLNwxJZyFJvMrJLDJU6Y5tFs11F\n",
       "AxLAkg1z28KOwyylFTT3SdHaCOsGPRTVl/nDMPD2AdIQBU+XC2iyf44+40QPHO/KlZ/CWdi8G/4a\n",
       "/bzLOfZj4Ahe5q51jJFunGOPXzgNgZ1yRsz+jgpvWtgYSUPLzy+kHZNerNJ+cY4mQLYfIN5e/G3o\n",
       "O2oDctGcn1AMF/ibiRK7Kmcw/JLlRvb/HFlKJW/I8YGmbmQHz/gYpwRlndc6rvHiwaZKnfF6Ztsg\n",
       "TuVwbQHXCXjhnT4tMY3xoXVvUWpS37UW/xDvvtgpqaHkgGM9bQSpQEOWwG2n8HbRQg+uSV6L51h/\n",
       "iNa2dA/fZVs6hRbTN2JOvGuPW1kXZqESqSUFMZeDQqD/oBbGddqxLMBCwxtg0Wp/rySAY4bzbhO7\n",
       "2VADWr1ZJYq7SPU4nhCEAk1dJvOiLWuXCsJVMLn3WRh4R00/yiopzqdnEr9B4MV9NR6TVb0Rx405\n",
       "y9OXf/rNYZg1LVCkA/ny/VuBl/UuYdX2XifelE6VycUporlMP7rPZRJHbYe7tJ8z/XmbHAlCJezF\n",
       "JisKxGxo1OmAN4tALySFwzWjWpa55WfpsaBq+wodLCdjzhjgeKlk3t1V3B9IG2wlFQada/KAzt+x\n",
       "2BLpodfpgS367ggztEH2GjFyJML9btAVscxRupc8cSpFaVdb+1Vjm5c7/MILj8vrAV9j0iCPFmZr\n",
       "WBDphGMg/fwCFQNWR/UdN8BMs7LOlAmQF/cu1rv7+80zVNbYM1F/EIWmME/H7SYMHubkeLSY+n5c\n",
       "xI4iDJpPrtywO5vOflAUIusb4IsOpE479tsysIPFAP2Cx4HxDaLnNCZty9n/NmAjl7y/xzqXd31e\n",
       "D6m5zAoYbz0BgXrtc/PASD4cIpMEdEqeIXSxTOMpdvnfwtP+jzHNp7jsrHYDg/ouccl02LCdXdDb\n",
       "Sqq9Ze4OIqOcNTSXZRPlzKj+TfaIsO/cW2Fdjrgr8ZuXx8s75Htaz26lrQSo71wwxlE9qwLmZrOj\n",
       "Gyl4Ne2kfCVsHbkEbmNMgjSr4j62/SqiiDGpDbf7MKhqBbF6oEWhhx+1xtfS02TXsYql63yiq85S\n",
       "YAAAAIMBnmNqQT8D+GC2m/A/GKANwACZ15kG0MKu1GUnGeRLs/RCoiRqc4fwFF16CbkNMHxspMRx\n",
       "nGXJms0Lmgr0c28i8AX5KtIrkO/JTqhlZ5hfyiEp45D4aaSpoyPS8EH/GMQ/spWz9DGd+Zaoa8/E\n",
       "QsEZcosA7UYK3Y+56KTJUQ/pg9ytGwAAAJBBmmhJqEFomUwIL//+2qIk8A9Y/gAAvefnlDZleRHr\n",
       "B0B5wcVrBulp1VaKklnkdjEVowggXxu3fb+Cfi910KN7EJNfpCIN0cNlKc5IXtiYQwRtIhrdvkIZ\n",
       "VJkERHerD/59GBw7/TzhWrUUdH4fPj//qNqf/XuPTHej0dMXrq/bvdqZ8DMjQo6heReI7ajm4mEA\n",
       "AABkQZ6GRREsFP8DGqODC+fgcw1jV+t5O0IANHOpySR3XQfuQBbts8JuyVqNqqS+F/x/suhvVo+D\n",
       "3HugCQ29mrusZ+g/CXNTv2zSxRCJyfPxaVtrF5U8vioZcVHn//y4nGaZlnpgQQAAAE0BnqV0QT8D\n",
       "+PXsqJ9thUGcQAJmQqBYu+DRguQp/Xu9ZdEV0I7MCmDYDVlVHYhXbv0kbXs7ti0iIpTN6F/TxLON\n",
       "MUkaspYOZXcaeigRcQAAAEYBnqdqQT8D91IYC6XyKny0u9LqwAE1Dt+Ue2dxbfOTydXF61KsqCtn\n",
       "YFcIGyqTiy5ZxdsctpK8iEwilu+telFKQz/XUgIOAAAAw0GarEmoQWyZTAgv//7aeG9Gz7a4gJnb\n",
       "RdtAEoxZAs1XhdfXieeZcpIKmJRMMNaf73+wXiJQa58M+ZPfmlMwe96i2DG68bLfsyh1iQQeBgH+\n",
       "3Wyzqz5UemnpGComB/i/Lg8ehyTgjgBHa/oAcKBHuGVyq/gOUrOZeuMo4B+G/yfZ9vWD+wcx33N3\n",
       "DMbGFEtwzXEzObUXAEa5L6/A0K+IDrdgODSmV2zGx9JX/a4nVGybu3HyNTGnP7sOefCc6OMb1wBq\n",
       "QAAAAGBBnspFFSwU/wbH7uXz2jbPTn8suAA4qvz+w3BCyYTgR+oIsW286LJbm6U6BBZOtyqtxtFf\n",
       "u2AdxmLqvzVONtXcdhpf5zFvYufCJrjx4DJw42YgL2UfV6yJF6JHaHfBvNEAAABcAZ7pdEE/CJLs\n",
       "Bgt9VIop+ofkIV6GZgAh0dzKYIDSMAnDRgXy0ZZPX2dKBGGT5PcpPOHBIWQGoVYm8nDiZ2wwoF5q\n",
       "hWVVFQoXjgayle2rGonOs6qVptB8mapAIOAAAABGAZ7rakE/CIwdUtCuL6RNYufgA1bJKUhfExcV\n",
       "ZWvvAyeWkZeoZuds69RNNaOha6z4YuGcPOY2IsSdCG7c5Zjp99/S1SAQcAAAAHtBmvBJqEFsmUwI\n",
       "L//+2nej/3VhtK3SAA4vKyCJxRbCZT0dkuFgmwBPOjdpoAtUC+6IcW2zxtic2iEtYJIFqaRZ+DId\n",
       "gBtXgarxkY0GIRAu//8Gwf4QShHHA//mdYj1FbFoaWz6SVRGu//iPD1pI1+oVgDffu2gSAg4HHEA\n",
       "AACCQZ8ORRUsFP8Gyjv+guAA4o4VjpxDM6Os6S9xkObK/Ed7bVOK+0KxQFHFSmefCUCmtS8jiFtG\n",
       "7yfbKoUrWtNzJkDG6BVvOPuDGGQsnrqnYTn945Q/H4ntU6qaZRz9aBDlLj7qaWOP/dchS6qxGNQE\n",
       "RRZowTmwtqXlXe5eiR2cyq3mgQAAAGcBny10QT8IjNqpaFhd6wRXmRln4ANYuZyaZ87VaLFxJzmh\n",
       "emlpnK2gZGDpBou2L5wjO05Y70N9jE1KGQ/IAg4/aDBKKDOPdlk6jsHhxK7LGQb8LS/ZVzxok6UR\n",
       "4Vb0DJSsd5eiQCDhAAAAWQGfL2pBPwP6ohXRGitJAAQPneBieUzwxTcn7vM/xWHd3w+hKUPssKCw\n",
       "h/+VSP1kKrMdsqD9A4lea3DVp8T8uwrYbfOABma/Vl482uPfFgZ534tEPN9b4GVAAAAA1UGbNEmo\n",
       "QWyZTAgv//7al+VChiAIh6kNOb/rm3hugXo7LNhY17hUYUu96DTm+LQxeDQDI56/r7Hax/12+ukp\n",
       "KYFxYeYdVjyp3V3jE4cMVoDPtiURXqiNLrjrIrSh525c8YVEnBlj9vnsz31+tSdES46QOzPpZwnV\n",
       "bF273/mKEsnHiaRE0yJ4W9R1+MkO3fIU7uiMmSo0Yefk3AtJytTMsTRToae+SOr9OCxFM4hReVHR\n",
       "2GmfG0RYpq7f/7rcUjOBsMWUz7fVcnVfSB34p1ljqZxLWeAk4AAAAHFBn1JFFSwU/wT5ut3ZGYb2\n",
       "rUADWMRODzRdDGZY6GjLxV/lciPI/8kFlFjib1WsWjkRew8gbZ6RKRlPruSCBo2JlxM4fJMdKBDd\n",
       "x4T1UZbk96CNBwX4QB9oK6P4ThS8RCGhYjCIhHyMDNGhyHPmcznYwQAAAFQBn3F0QT8D/hZMf3bh\n",
       "NCwAIRXmN0GI73LFRizcMkMb63ORVEUxJWhN/KzpR8Fw21QAEDdj1UQcPilYLCmC792/hCUqZI8/\n",
       "GdnIbGz1VbTD+VFgFtAAAABeAZ9zakE/BlWhI4xrz4sPySACEvSdqIYCLuJtr93JRvfGypRxMTXm\n",
       "lWbqnu4y1x/NKUJbFHNVh+XOcK/O18ylHj/gChmaTTHVCjNaoaz5xdJ6+VaYI6N6iVLzZqFj5gAA\n",
       "AKpBm3hJqEFsmUwILf/+1p3I++3YdjJUAC+NwSG6A5yvElMUdRwGQpSEQubNdMuOO5dXblE8wzBP\n",
       "jL3/yjULFrd9P1MpUn7dUwB+2WeLmDbURcDmDY9Hbuw/RinkE5+U1nnZgzzxMw9EXadDFhnqExGs\n",
       "F+FvLqm9vGiqwog1u/PZGAHRbW/DMj+nevRuBcfcR8dZR001Lo6hpUd2d4ZMNcIa5PjRIocus0CN\n",
       "gQAAAIhBn5ZFFSwU/wbH+2UZFk5/eho+mzAbfAA1VmOVLVCqx7LnGJo10sganvlq3HjFEkXvofj1\n",
       "8e3HFwe1IiT/E64pCNx8QzoLShYB79kvgNeBBODRNi41vdFv6PkvRSsc94MCW5O1b3pcBO/PxKEf\n",
       "faBcbbj+FqtfG5HIGZiBHyB+dwv3GRA9ctlAAAAASwGftXRBPwiM2qloUuFJqucZugAghuWP8+hU\n",
       "j+OK1HK7lvoXFdKxuioluML2KGJydg0uvf6eSbP7RTUw2MRWx5hOzNDqV0Lfr58PmQAAAG8Bn7dq\n",
       "QT8IjB1SzpJ6deHn4ANYuZyaZ/wjG0OzDUwAMEvqnGAvtDoPl9dPKSCegD4t0KZIEVBv4u9tp7V5\n",
       "L7Q5p05TaoEnipQVNBPB9S2E8mn1xy+ZVeHL7WC9+UZgO0TbHsxs1maHW0L2Ro58PmEAAACHQZu8\n",
       "SahBbJlMCCn//taAkCstyGWTJgAaxWBYHYffjhvMhWpkL3XZKluO/7SdMV5I1bJ26Uts5NYzL8V7\n",
       "oITXbOJ3QTLTR59VNVuPYgdcznSurYUwyyBeC+BPC7C7kDNbPEC+j+s0H3hE3Hbzc/0P9oG+KvdA\n",
       "IoXtu92piMuFBmeGTi+pYLaAAAAAbEGf2kUVLBT/A50QlzgAIT24aGz+N00R+1shV1OySINM3MRw\n",
       "XmCoC6sLEFpVMOABluJQuOtfFTLrtJl8smq255APobwPBhXEMz2KUh1klpyhwgFMNgroZPz92OV/\n",
       "//j72rxpLEQPMZecGbfIewAAAF0Bn/l0QT8D/hY+YSdL34ANMBDl7EiSmNrGlGbVpou29nFxl6N5\n",
       "s0PRKIVth558H/Phx+26G6Mc2vMb7AC+0sOkCM8NJoO9d/9oCDfxiyAecmmt++vGEInKdV32QMAA\n",
       "AABeAZ/7akE/A/3i4iEAcdRiTgA1Zn+6BfcFbyXtq1WE9IZ0aIDbarQWHBnr+LcoOj+RdUjvQFQi\n",
       "8CDUpQHnyAbcljOhrvuijzQJ7pS2aTLqKZoXEwv77dX5Ud3Z3KR6QQAAAH5Bm/1JqEFsmUwIJ//+\n",
       "tR+YnJtCuSAAgZFxA/aCLoo29ZgJJh1+/6slIOvjN9mXKzuDQbj3+3/IM1muRcnyf6iA/eJP1U2b\n",
       "CRAuLA0JfInh5xad+vD/yGNTcTZvzKmTnMjBsrlEsnkxY/6Svo17RnbPkmbE2l6c/wUjUTIBw/MA\n",
       "AASWbW9vdgAAAGxtdmhkAAAAAAAAAAAAAAAAAAAD6AAARlAAAQAAAQAAAAAAAAAAAAAAAAEAAAAA\n",
       "AAAAAAAAAAAAAAABAAAAAAAAAAAAAAAAAABAAAAAAAAAAAAAAAAAAAAAAAAAAAAAAAAAAAAAAAAA\n",
       "AgAAA8B0cmFrAAAAXHRraGQAAAADAAAAAAAAAAAAAAABAAAAAAAARlAAAAAAAAAAAAAAAAAAAAAA\n",
       "AAEAAAAAAAAAAAAAAAAAAAABAAAAAAAAAAAAAAAAAABAAAAAASAAAAEgAAAAAAAkZWR0cwAAABxl\n",
       "bHN0AAAAAAAAAAEAAEZQAAAwAAABAAAAAAM4bWRpYQAAACBtZGhkAAAAAAAAAAAAAAAAAAAoAAAC\n",
       "0ABVxAAAAAAALWhkbHIAAAAAAAAAAHZpZGUAAAAAAAAAAAAAAABWaWRlb0hhbmRsZXIAAAAC421p\n",
       "bmYAAAAUdm1oZAAAAAEAAAAAAAAAAAAAACRkaW5mAAAAHGRyZWYAAAAAAAAAAQAAAAx1cmwgAAAA\n",
       "AQAAAqNzdGJsAAAAs3N0c2QAAAAAAAAAAQAAAKNhdmMxAAAAAAAAAAEAAAAAAAAAAAAAAAAAAAAA\n",
       "ASABIABIAAAASAAAAAAAAAABAAAAAAAAAAAAAAAAAAAAAAAAAAAAAAAAAAAAAAAAAAAAGP//AAAA\n",
       "MWF2Y0MBZAAM/+EAGGdkAAys2UEgloQAAAMADAAAAwAoPFCmWAEABmjr48siwAAAABx1dWlka2hA\n",
       "8l8kT8W6OaUbzwMj8wAAAAAAAAAYc3R0cwAAAAAAAAABAAAAHgAAGAAAAAAUc3RzcwAAAAAAAAAB\n",
       "AAAAAQAAAQBjdHRzAAAAAAAAAB4AAAABAAAwAAAAAAEAAHgAAAAAAQAAMAAAAAABAAAAAAAAAAEA\n",
       "ABgAAAAAAQAAeAAAAAABAAAwAAAAAAEAAAAAAAAAAQAAGAAAAAABAAB4AAAAAAEAADAAAAAAAQAA\n",
       "AAAAAAABAAAYAAAAAAEAAHgAAAAAAQAAMAAAAAABAAAAAAAAAAEAABgAAAAAAQAAeAAAAAABAAAw\n",
       "AAAAAAEAAAAAAAAAAQAAGAAAAAABAAB4AAAAAAEAADAAAAAAAQAAAAAAAAABAAAYAAAAAAEAAHgA\n",
       "AAAAAQAAMAAAAAABAAAAAAAAAAEAABgAAAAAAQAAMAAAAAAcc3RzYwAAAAAAAAABAAAAAQAAAB4A\n",
       "AAABAAAAjHN0c3oAAAAAAAAAAAAAAB4AACdfAAAKwwAABcEAAAYRAAAAhwAAAJQAAABoAAAAUQAA\n",
       "AEoAAADHAAAAZAAAAGAAAABKAAAAfwAAAIYAAABrAAAAXQAAANkAAAB1AAAAWAAAAGIAAACuAAAA\n",
       "jAAAAE8AAABzAAAAiwAAAHAAAABhAAAAYgAAAIIAAAAUc3RjbwAAAAAAAAABAAAALAAAAGJ1ZHRh\n",
       "AAAAWm1ldGEAAAAAAAAAIWhkbHIAAAAAAAAAAG1kaXJhcHBsAAAAAAAAAAAAAAAALWlsc3QAAAAl\n",
       "qXRvbwAAAB1kYXRhAAAAAQAAAABMYXZmNTguMjkuMTAw\n",
       "\">\n",
       "  Your browser does not support the video tag.\n",
       "</video>"
      ],
      "text/plain": [
       "<IPython.core.display.HTML object>"
      ]
     },
     "execution_count": 24,
     "metadata": {},
     "output_type": "execute_result"
    }
   ],
   "source": [
    "# This step may not work if you don't have ffmpeg in your system.\n",
    "HTML(anim.to_html5_video())"
   ]
  },
  {
   "cell_type": "markdown",
   "metadata": {
    "slideshow": {
     "slide_type": "slide"
    }
   },
   "source": [
    "## Self-study\n",
    "\n",
    "* Experiment with the learning rate ($\\alpha$). How it impacts learning? Do you remember if we have seen another similar parameter in previous classes?\n",
    "* Create a new data set with a non-linear boundary. What happens now with our perceptron? How would you fix it?"
   ]
  },
  {
   "cell_type": "markdown",
   "metadata": {
    "slideshow": {
     "slide_type": "slide"
    }
   },
   "source": [
    "## Suggested reading\n",
    "\n",
    "* Minsky M. L. and Papert S. A. (1969). *Perceptrons*. Cambridge, MA: MIT Press.\n",
    "* Gallant, S. I. (1990). *Perceptron-based learning algorithms*. IEEE Transactions on Neural Networks, vol. 1, no. 2, pp. 179–191.\n",
    "* Mikel Olazaran (1996). *A Sociological Study of the Official History of the Perceptrons Controversy*. Social Studies of Science 26 (3): 611–659. doi:10.1177/030631296026003005."
   ]
  },
  {
   "cell_type": "markdown",
   "metadata": {
    "slideshow": {
     "slide_type": "slide"
    }
   },
   "source": [
    "## The XOR issue \n",
    "\n",
    "Take a dataset that contains all the possible value combination of the logical XOR function:"
   ]
  },
  {
   "cell_type": "code",
   "execution_count": 25,
   "metadata": {},
   "outputs": [],
   "source": [
    "X = np.array([[0, 1], [1, 0], [0, 0], [1, 1]])\n",
    "Y = np.array([1, 1, 0, 0])\n",
    "N = Y.shape[0]"
   ]
  },
  {
   "cell_type": "markdown",
   "metadata": {},
   "source": [
    "The data set has ones (represented in black) when $x_1 = 1$ and $x_2 = 0$ or when $x_1 = 0$ and $x_2 = 1$, as defined for the XOR function."
   ]
  },
  {
   "cell_type": "code",
   "execution_count": 26,
   "metadata": {
    "slideshow": {
     "slide_type": "slide"
    }
   },
   "outputs": [
    {
     "data": {
      "image/png": "[encoded data removed]",
      "text/plain": [
       "<Figure size 432x288 with 1 Axes>"
      ]
     },
     "metadata": {
      "image/png": {
       "height": 280,
       "width": 405
      },
      "needs_background": "light"
     },
     "output_type": "display_data"
    }
   ],
   "source": [
    "plt.scatter(X[:, 0], X[:, 1], c=Y, edgecolor='k', cmap=cm.gray_r, s=100)\n",
    "plt.xlabel('$x_1$');plt.ylabel('$x_2$');"
   ]
  },
  {
   "cell_type": "markdown",
   "metadata": {},
   "source": [
    "It is evident that a perceptron is unable to solve this simple problem as it is only able to separate the space by a hyperplane."
   ]
  },
  {
   "cell_type": "markdown",
   "metadata": {
    "slideshow": {
     "slide_type": "slide"
    }
   },
   "source": [
    "To solve the XOR problem we need to stack perceptrons"
   ]
  },
  {
   "cell_type": "markdown",
   "metadata": {},
   "source": [
    "<div class=\"container-fluid\">\n",
    "  <div class=\"row\">\n",
    "      <div class=\"col-md-2\"><span/></div>\n",
    "      <div class=\"col-md-8\">\n",
    "              <img class='img-thumbnail' alt='Perceptron' src='imgs/xor.png'/>\n",
    "      </div>\n",
    "      <div class=\"col-md-2\" align='center'><span/></div>\n",
    "  </div>\n",
    "</div>"
   ]
  },
  {
   "cell_type": "markdown",
   "metadata": {
    "slideshow": {
     "slide_type": "slide"
    }
   },
   "source": [
    "But, how can we train the weights from neurons 1 and 2?\n",
    "* This is known as a credit assignment problem.\n",
    "* Our current method for Perceptron learning determine how the weights of neurons 1 and 2 influence the error.\n",
    "* Let's visualize it."
   ]
  },
  {
   "cell_type": "markdown",
   "metadata": {
    "slideshow": {
     "slide_type": "slide"
    }
   },
   "source": [
    "### A \"handcoded\" XOR neural network\n",
    "\n",
    "Forward propagation for 2 inputs $(x_1, x_2)$, 2 hidden nodes, 1 output.\n",
    "* We will be extending the Perceptron activation as the logistic (*logit*) function\n",
    "$$\\hat{y} = f(\\text{net}) = \\frac{1}{1+\\exp{\\left(-\\text{net}\\right)}}.$$"
   ]
  },
  {
   "cell_type": "code",
   "execution_count": 27,
   "metadata": {},
   "outputs": [],
   "source": [
    "def logit(a): \n",
    "    return 1.0 / (1+np.exp(-a))"
   ]
  },
  {
   "cell_type": "code",
   "execution_count": 28,
   "metadata": {
    "slideshow": {
     "slide_type": "slide"
    }
   },
   "outputs": [],
   "source": [
    "def fprop(x1, x2,\n",
    "          w1= 0.1, w2= 0.2,  b1= 0.1, \n",
    "          w3=-0.2, w4= 0.2,  b2=-0.1,\n",
    "          w5=-0.3, w6=-0.25, b3=0.2):\n",
    "    y_hat_1 = logit(b2 + w3*x1 + w4*x2) # N1\n",
    "    y_hat_2 = logit(b3 + w5*x1 + w6*x2) # N2\n",
    "    return logit(b1 + w1*y_hat_1 + w2*y_hat_2)"
   ]
  },
  {
   "cell_type": "markdown",
   "metadata": {
    "slideshow": {
     "slide_type": "slide"
    }
   },
   "source": [
    "## Error Surface of the XOR Problem"
   ]
  },
  {
   "cell_type": "code",
   "execution_count": 29,
   "metadata": {},
   "outputs": [
    {
     "data": {
      "application/vnd.jupyter.widget-view+json": {
       "model_id": "4a41812a5b6b40c4ab7d5f8106ce1a07",
       "version_major": 2,
       "version_minor": 0
      },
      "text/plain": [
       "interactive(children=(IntSlider(value=5, description='i', max=6, min=1), IntSlider(value=6, description='j', m…"
      ]
     },
     "metadata": {},
     "output_type": "display_data"
    }
   ],
   "source": [
    "@interact(i=(1,6), j=(1,6)) \n",
    "def error_plot(i=5, j=6):\n",
    "    W1, W2 = np.meshgrid(np.arange(-10, 10, 0.5), np.arange(-10, 10, 0.5))\n",
    "    E = np.sum([(fprop(X[n, 0], X[n, 1],\n",
    "                       **{\"w%d\"%(i) : W1, \"w%d\"%(j) : W2})-Y[n])**2\n",
    "                 for n in range(N)], axis=0)\n",
    "    ax = plt.figure(figsize=(7, 4.5)).add_subplot(111, projection=\"3d\")\n",
    "    surf = ax.plot_surface(W1, W2, E, rstride=1, cstride=1, cmap=cm.viridis, lw=0.11, alpha=0.74)\n",
    "    plt.setp(ax, xlabel=\"$w_%d$\" % (i), ylabel=\"$w_%d$\" % (j), zlabel=\"$E()$\");\n",
    "    plt.tight_layout()\n",
    "    plt.show()"
   ]
  },
  {
   "cell_type": "markdown",
   "metadata": {
    "slideshow": {
     "slide_type": "slide"
    }
   },
   "source": [
    "## Local Minima "
   ]
  },
  {
   "cell_type": "code",
   "execution_count": 30,
   "metadata": {},
   "outputs": [
    {
     "data": {
      "application/vnd.jupyter.widget-view+json": {
       "model_id": "dcc7afaae05b4f67a4a9f38df66a1e69",
       "version_major": 2,
       "version_minor": 0
      },
      "text/plain": [
       "interactive(children=(IntSlider(value=0, description='i', max=5), IntSlider(value=1, description='j', max=5), …"
      ]
     },
     "metadata": {},
     "output_type": "display_data"
    }
   ],
   "source": [
    "@interact(i=(0,5), j=(0,5)) \n",
    "def errors_plot(i=0, j=1):\n",
    "    plt.figure(figsize=(12, 3))\n",
    "    W = np.arange(-10, 10, 0.25)\n",
    "    errors = [(fprop(X[n, 0], X[n, 1], **{\"w%d\"%(i+1) : W, \"w%d\"%(j+1) : W+2})-Y[n])**2 for n in range(N)]\n",
    "    plt.subplot(1, 2, 1)\n",
    "    for n in range(N): \n",
    "        plt.plot(W, errors[n], label=\"$E^{(%d)}$\" % (n+1))\n",
    "    plt.setp(plt.gca(), xlabel=\"$w$\", ylabel=\"$E$\", title='Split errors');plt.legend(loc=\"best\", frameon=True)\n",
    "    plt.subplot(1, 2, 2)\n",
    "    plt.plot(W, np.sum(errors, axis=0), label=\"$E(\\cdot)$\")\n",
    "    plt.setp(plt.gca(), xlabel=\"$w$\", ylabel=\"$E$\", title='Total error');plt.legend(loc=\"best\", frameon=True);\n",
    "    plt.show()"
   ]
  },
  {
   "cell_type": "markdown",
   "metadata": {
    "slideshow": {
     "slide_type": "slide"
    }
   },
   "source": [
    "# The Multilayer Perceptron (MLP)"
   ]
  },
  {
   "cell_type": "markdown",
   "metadata": {},
   "source": [
    "The composition of layers of perceptrons can capture complex relations between inputs and outputs in a hierarchical way."
   ]
  },
  {
   "cell_type": "markdown",
   "metadata": {},
   "source": [
    "<div class=\"container-fluid\">\n",
    "  <div class=\"row\">\n",
    "      <div class=\"col-md-2\"><span/></div>\n",
    "      <div class=\"col-md-8\">\n",
    "              <img class='img-thumbnail' alt='Perceptron' src='imgs/mlp.png'/>\n",
    "      </div>\n",
    "      <div class=\"col-md-2\" align='center'><span/></div>\n",
    "  </div>\n",
    "</div>"
   ]
  },
  {
   "cell_type": "markdown",
   "metadata": {},
   "source": [
    "...but how can we adapt the weights of the neurons in the hidden layers?"
   ]
  },
  {
   "cell_type": "markdown",
   "metadata": {
    "slideshow": {
     "slide_type": "slide"
    }
   },
   "source": [
    "## Improving the notation"
   ]
  },
  {
   "cell_type": "markdown",
   "metadata": {},
   "source": [
    "In order to proceed we need to improve the notation we have been using. That for, for each layer $1\\geq l\\geq L$, the activations and outputs are calculated as:\n",
    "\n",
    "$$\\text{net}^l_j = \\sum_i w^l_{ji} x^l_i\\,,$$\n",
    "$$y^l_j = f^l(\\text{net}^l_j)\\,,$$\n",
    "\n",
    "where:\n",
    "\n",
    "* $y^l_j$ is the $j$th output of layer $l$,\n",
    "* $x^l_i$ is the $i$th input to layer $l$,\n",
    "* $w^l_{ji}$ is the weight of the $j$-th neuron connected to input $i$,\n",
    "* $\\text{net}^l_{j}$ is called net activation, and\n",
    "* $f^l(\\cdot)$ is the activation function of layer $l$, e.g. $\\tanh()$, in the hidden layers and the identity in the last layer (for regression)"
   ]
  },
  {
   "cell_type": "markdown",
   "metadata": {
    "slideshow": {
     "slide_type": "slide"
    }
   },
   "source": [
    "## Error function (SSE)\n",
    "\n",
    "* For $\\Psi=\\left\\{\\left<\\vec{x}^{(1)},\\vec{y}^{(1)}\\right>,\\ldots,\\left<\\vec{x}^{(k)},\\vec{y}^{(k)}\\right>,\\ldots\\left<\\vec{x}^{(K)},\\vec{y}^{(K)}\\right>\\right\\}$:\n",
    "\n",
    "$$\n",
    "E = \n",
    "\\frac{1}{2} \\sum_{k=1}^{K}{\\ell(\\hat{\\vec{y}}_j^{L}(\\vec{x}^{(k)}), \\vec{y}^{(k)})} =\n",
    "\\frac{1}{2} \\sum_{k=1}^{K} \\sum_{j=1}^{m} \\left( \\hat{y}_j^{L}(\\vec{x}^{(k)}) - y_j^{(k)} \\right)^2\\,.\n",
    "$$"
   ]
  },
  {
   "cell_type": "markdown",
   "metadata": {
    "slideshow": {
     "slide_type": "slide"
    }
   },
   "source": [
    "## Training MLPs with Backpropagation\n",
    "\n",
    "* Backpropagation of errors is a procedure to compute the **gradient of the error function with respect to the weights** of a neural network.\n",
    "* We can use the gradient from backpropagation to apply **gradient descent**!"
   ]
  },
  {
   "cell_type": "markdown",
   "metadata": {
    "slideshow": {
     "slide_type": "slide"
    }
   },
   "source": [
    "#### A math flashback\n",
    "\n",
    "The **chain rule** can be applied in composite functions as,\n",
    "$$\n",
    "\\left( f \\circ g\\right)'(x) = \\left(f\\left(g\\left(x\\right)\\right)\\right)'= f'\\left(g(x)\\right)g'(x).\n",
    "$$\n",
    "or, in Leibniz notation,\n",
    "$$\n",
    "\\frac{\\partial f\\left(g\\left(x\\right)\\right)}{\\partial x} =\n",
    "\\frac{\\partial f\\left(g\\left(x\\right)\\right)}{\\partial g\\left(x\\right)} \\cdot\n",
    "\\frac{\\partial g\\left(x\\right)}{\\partial x}\n",
    "$$\n",
    "\n",
    "The **total derivative** of $f(x_1,x_2,...x_n)$ on $x_i$ is\n",
    "$$\n",
    "\\frac{\\partial f}{\\partial x_i}=  \n",
    "\\sum_{j=1}^n{\\frac{\\partial f}{\\partial x_j}\\cdot\\frac{\\partial x_j}{\\partial x_i}}\n",
    "$$"
   ]
  },
  {
   "cell_type": "markdown",
   "metadata": {
    "slideshow": {
     "slide_type": "slide"
    }
   },
   "source": [
    "#### To apply gradient descent we need... to calculate the gradients\n",
    "\n",
    "Applying the chain rule,\n",
    "$$\n",
    "\\frac{\\partial \\ell}{\\partial w^l_{ji}}=\n",
    "\\color{blue}{\\overbrace{\\frac{\\partial \\ell}{\\partial \\text{net}^l_j}}^{\\delta^l_j}}\n",
    "\\color{forestgreen}{\\underbrace{\\frac{\\partial{\\text{net}^l_j}}{\\partial w^l_{ji}}}_{\\frac{\\partial\\left(\\sum_{i}w^l_{ji}x^l_i\\right)}{\\partial w^l_{ji}}=x^l_i}}\n",
    "$$\n",
    "hence we can write\n",
    "$$\n",
    "\\frac{\\partial \\ell}{\\partial w^l_{ji}}=\n",
    "\\color{blue}{\\delta^l_j}\n",
    "\\color{forestgreen}{x^l_i}\n",
    "$$"
   ]
  },
  {
   "cell_type": "markdown",
   "metadata": {
    "slideshow": {
     "slide_type": "slide"
    }
   },
   "source": [
    "#### For the output layer ($l=L$)\n",
    "$$\n",
    "\\delta^L_j = \\frac{\\partial \\ell}{\\partial \\text{net}^L_j} =\n",
    "\\color{red}{\n",
    "  \\overbrace{\n",
    "    \\frac{\\partial \\ell}{\\partial\\hat{y}^L_j}}^{\\frac{\\partial\\left(\\frac{1}{2}\\sum_j{\\left(y_j-\\hat{y}^L_j\\right)^2} \\right)}\n",
    "    {\\partial\\hat{y}^L_j}=\\left(y_j-\\hat{y}^L_j\\right)}}\n",
    "\\cdot\n",
    "\\color{magenta}{\n",
    "\\underbrace{\\frac{\\partial\\hat{y}^L_j}{\\text{net}^l_j}}_{f'(\\text{net}_j^L)}}\n",
    "=\\color{red}{\\left(y_j-\\hat{y}^L_j\\right)}\\color{magenta}{f'(\\text{net}_j^L)}.\n",
    "$$\n",
    "therefore\n",
    "$$\n",
    "\\frac{\\partial \\ell}{\\partial w^L_{ji}}=\n",
    "\\color{red}{\\left(y_j-\\hat{y}^L_j\\right)}\\color{magenta}{f'(\\text{net}_j^L)}\n",
    "\\color{forestgreen}{x^L_i}\n",
    "$$"
   ]
  },
  {
   "cell_type": "markdown",
   "metadata": {
    "slideshow": {
     "slide_type": "slide"
    }
   },
   "source": [
    "#### What about the hidden layers ($1\\leq l<L$)?\n",
    "\n",
    "We can express the loss $\\ell$ as a function of the activations of the subsequent layer,\n",
    "\n",
    "$$\n",
    "\\ell = \\ell\\left(\\text{net}^{l+1}_1,\\ldots,\\text{net}^{l+1}_K\\right)\\,,\n",
    "$$\n",
    "\n",
    "therefore, applying total derivatives,\n",
    "\n",
    "$$\n",
    "\\frac{\\partial \\ell}{\\partial\\hat{y}^l_j} = \n",
    "\\frac{\\partial \\ell\\left(\\text{net}^{l+1}_1,\\ldots,\\text{net}^{l+1}_K\\right)}{\\partial\\hat{y}^l_j}\\,.\n",
    "$$"
   ]
  },
  {
   "cell_type": "markdown",
   "metadata": {
    "slideshow": {
     "slide_type": "slide"
    }
   },
   "source": [
    "#### Applying total derivatives we get\n",
    "\n",
    "$$\n",
    "\\frac{\\partial \\ell}{\\partial\\hat{y}^l_j} = \n",
    "\\sum_{k}{\n",
    "\\color{orange}{\n",
    "\\overbrace{\n",
    "\\frac{\\partial \\ell}{\\partial\\text{net}^{l+1}_k}}^{\\delta^{l+1}_k}}\n",
    "\\color{purple}{\n",
    "\\underbrace{\\frac{\\partial \\text{net}^{l+1}_{k}}{\\partial\\hat{y}^l_j}\n",
    "}_{\\frac{\\partial{\\sum_{j}{w^{l+1}_{kj}\\hat{y}^l_j}}}{\\partial\\hat{y}^l_j}=w^{l+1}_{kj}}}\n",
    "} =\n",
    "\\sum_{k}{\\color{orange}{\\delta^{l+1}_k}\\color{purple}{w^{l+1}_{kj}}}\n",
    "$$"
   ]
  },
  {
   "cell_type": "markdown",
   "metadata": {
    "slideshow": {
     "slide_type": "slide"
    }
   },
   "source": [
    "#### Back-propagating the errors to the hidden layer\n",
    "\n",
    "The $\\delta$s of the subsequent layers are used to calculate the $\\delta$s of the more internal ones.\n",
    "\n",
    "$$\n",
    "\\delta^{l}_j =\n",
    "\\frac{\\partial\\ell}{\\partial\\text{net}^l_j} =\n",
    "\\overbrace{\\frac{\\partial\\ell}{\\partial\\hat{y}^l_j}}^\n",
    "{\\sum_{k}{\n",
    "  \\color{orange}{\\delta^{l+1}_k}\n",
    "  \\color{purple}{w^{l+1}_{kj}}}}\n",
    "\\color{forestgreen}{\\underbrace{\\frac{\\partial\\hat{y}^l_j}{\\partial\\text{net}^l_j}}_\n",
    "{f'(\\text{net}^l_j)}}=\n",
    "\\sum_{k}{\\left(\n",
    "  \\color{orange}{\\delta^{l+1}_k}\n",
    "  \\color{purple}{w^{l+1}_{kj}}\n",
    "  \\right)}\\color{forestgreen}{f'(\\text{net}^l_j)}\n",
    "$$"
   ]
  },
  {
   "cell_type": "markdown",
   "metadata": {
    "slideshow": {
     "align_type": "Left",
     "slide_type": "slide"
    }
   },
   "source": [
    "## Backpropagation in brief"
   ]
  },
  {
   "cell_type": "markdown",
   "metadata": {
    "slideshow": {
     "align_type": "Left",
     "slide_type": "slide"
    }
   },
   "source": [
    "In each layer (we will omit the sample index $k$ and layer $l$)\n",
    "\n",
    "$$\n",
    "\\delta_j = \n",
    "   \\begin{cases}\n",
    "   \\hat{y}_j - y_j & \\text{in the output layer,}\\\\\n",
    "   \\\\ f'(\\text{net}_j) \\sum_k \\frac{\\partial \\ell}{\\partial \\hat{y}_k} & \\text{otherwise.}\n",
    "   \\end{cases}\n",
    "$$\n",
    "\n",
    "$$\\frac{\\partial \\ell}{\\partial w_{ji}} = \\delta_j x_i\\,;\\quad \\frac{\\partial \\ell}{\\partial x_i} = \\delta_j w_{ji}\\,.$$\n",
    "\n",
    "where\n",
    "\n",
    "* all nodes $k$ are in the layer after $j$;\n",
    "* $\\text{net}_j$ is known from propagation: $\\sum_i w_{ji} x_i$;\n",
    "* actually you do not have to save $a_j$ because $g'(a_j)$ usually can be computed from $y_j$, e.g.\n",
    "    * identity function: $f'(\\text{net}_j) = 1$,\n",
    "    * $\\tanh$: $f'(\\text{net}_j) = 1 - y_j^2$;\n",
    "* $\\frac{\\partial \\ell}{\\partial w_{ji}}$ will be used to update the weight $w_{ji}$ in gradient descent;\n",
    "* $\\frac{\\partial \\ell}{\\partial x_i}$ will be passed to the previous layer to compute the deltas;\n",
    "\n",
    "**Do not forget to sum up the gradient with respect to the weights for each training example!**"
   ]
  },
  {
   "cell_type": "markdown",
   "metadata": {
    "slideshow": {
     "align_type": "Left",
     "slide_type": "slide"
    }
   },
   "source": [
    "## Efficient Implementation for Fully Connected Layers"
   ]
  },
  {
   "cell_type": "markdown",
   "metadata": {
    "slideshow": {
     "align_type": "Left",
     "slide_type": "fragment"
    }
   },
   "source": [
    "* Make sure that you have an efficient **linear algebra library**.\n",
    "* Organize your data in matrices, i.e.\n",
    "    * The matrix $\\boldsymbol{X}$ contains an input vector in each row. Note that you must expand each row by the bias 1.\n",
    "    * The matrix $\\boldsymbol{T}$ contains an output (of the network) in each row.\n",
    "* Each layer should have the functions\n",
    "    * `fprop(W, X, f) -> Y`\n",
    "    * `backprop(W, X, f_derivative, Y, d_loss/dY) -> d_loss/dX, d_lossdW`"
   ]
  },
  {
   "cell_type": "markdown",
   "metadata": {
    "slideshow": {
     "slide_type": "slide"
    }
   },
   "source": [
    "<div class=\"container-fluid\">\n",
    "  <div class=\"row\">\n",
    "      <div class=\"col-md-3\" align='center'>\n",
    "      </div>\n",
    "      <div class=\"col-md-6\">\n",
    "      <div class='well well-sm'>\n",
    "              <img src='imgs/05/backprop.svg'/>\n",
    "      </div>\n",
    "      </div>\n",
    "      <div class=\"col-md-3\" align='center'>\n",
    "      </div>\n",
    "  </div>\n",
    "</div>"
   ]
  },
  {
   "cell_type": "markdown",
   "metadata": {
    "slideshow": {
     "align_type": "Left",
     "slide_type": "slide"
    }
   },
   "source": [
    "## Efficient forward propagation"
   ]
  },
  {
   "cell_type": "markdown",
   "metadata": {
    "slideshow": {
     "align_type": "Left",
     "slide_type": "-"
    }
   },
   "source": [
    "In each layer\n",
    "\n",
    "$$\\boldsymbol{NET} = \\boldsymbol{X} \\boldsymbol{W}^\\intercal$$\n",
    "$$\\boldsymbol{\\hat{Y}} = f(\\boldsymbol{NET})$$\n",
    "\n",
    "where\n",
    "\n",
    "* $\\boldsymbol{Y} \\in \\mathbb{R}^{N \\times J}$ contains an output vector in each row, i.e. $\\boldsymbol{Y}_{kj} = y^{(k)}_j$\n",
    "* $\\boldsymbol{X} \\in \\mathbb{R}^{N \\times I}$ contains an input vector (the output of the previous layer) in each row, i.e. $\\boldsymbol{X}_{ki} = x^{(k)}_i$\n",
    "* $\\boldsymbol{W} \\in \\mathbb{R}^{J \\times I}$ is the weight matrix of the layer, i.e. $\\boldsymbol{W}_{ji}$ is the weight between input $i$ and output $j$.\n",
    "* $f$ is the activation function (implemented to work with matrices)\n",
    "* $I$ is the number of inputs, i.e. the number of outputs of the previous layer plus 1 (for the bias)\n",
    "* $J$ is the number of outputs\n",
    "\n",
    "**Make sure that you add the bias entry in each row before you pass $Y$ as input to the next layer!**"
   ]
  },
  {
   "cell_type": "markdown",
   "metadata": {
    "slideshow": {
     "slide_type": "slide"
    }
   },
   "source": [
    "Error function (SSE)\n",
    "\n",
    "$$E = \\frac{1}{2} ||\\boldsymbol{Y} - \\boldsymbol{T}||_2^2$$\n",
    "\n",
    "where\n",
    "\n",
    "* $||\\cdot||_2$ is the [Frobenius norm](http://en.wikipedia.org/wiki/Matrix_norm#Frobenius_norm)."
   ]
  },
  {
   "cell_type": "markdown",
   "metadata": {
    "slideshow": {
     "align_type": "Left",
     "slide_type": "slide"
    }
   },
   "source": [
    "# Efficient Backpropagation"
   ]
  },
  {
   "cell_type": "markdown",
   "metadata": {
    "slideshow": {
     "align_type": "Left",
     "slide_type": "-"
    }
   },
   "source": [
    "In each layer:\n",
    "\n",
    "$$\\Delta = f'(\\boldsymbol{NET}) \\ast \\frac{\\partial \\ell}{\\partial \\boldsymbol{Y}}\\,,$$\n",
    "$$\\frac{\\partial \\ell}{\\partial \\boldsymbol{W}} = \\Delta^T \\cdot \\boldsymbol{X}\\,,$$\n",
    "$$\\frac{\\partial \\ell}{\\partial \\boldsymbol{X}} = \\Delta \\cdot \\boldsymbol{W}\\,.$$\n",
    "\n",
    "where:\n",
    "\n",
    "* $*$ is the [Hadamard product](http://en.wikipedia.org/wiki/Hadamard_product_%28matrices%29) or Schur product or entrywise product\n",
    "* $\\frac{\\partial \\ell}{\\partial \\boldsymbol{Y}}$ contains derivatives of the error function with respect to the outputs ($\\boldsymbol{Y} - \\boldsymbol{T} = \\frac{\\partial \\ell}{\\partial \\boldsymbol{Y}}$ in the last layer)\n",
    "* $\\frac{\\partial \\ell}{\\partial \\boldsymbol{X}} \\in \\mathbb{R}^{N \\times I}$ contains derivatives of the error function with respect to the inputs and will be passed to the previous layer\n",
    "* $\\Delta \\in \\mathbb{R}^{N \\times J}$ contains deltas: $\\delta_j^{(n)} = \\Delta_{jn}$\n",
    "* $g'$ is the derivative of $g$ and can be computed based only on $\\boldsymbol{Y}$\n",
    "* $\\frac{\\partial \\ell}{\\partial \\boldsymbol{W}} \\in \\mathbb{R}^{J \\times I}$ contains the derivatives of the error function with respect to $\\boldsymbol{W}$ and will be used to optimize the weights of the ANN\n",
    "\n",
    "**Make sure that you remove the bias entry in each row before you pass $\\frac{\\partial \\ell}{\\partial \\boldsymbol{X}}$ to the previous layer!**"
   ]
  },
  {
   "cell_type": "markdown",
   "metadata": {
    "slideshow": {
     "slide_type": "slide"
    }
   },
   "source": [
    "## Pseudocode of backpropagation\n",
    "\n",
    "```pseudo\n",
    "initialize network weights (often small random values)\n",
    "  do\n",
    "     foreach training example, x\n",
    "        prediction = neural-net-output(network, x)                 // forward pass\n",
    "        actual = teacher-output(x)\n",
    "        compute error (prediction - actual) at the output units\n",
    "        compute deltas for all weights from hidden layer to output layer  // backward pass\n",
    "        compute deltas for all weights from input layer to hidden layer   // backward pass continued\n",
    "        update network weights                                            // input layer not modified by error estimate\n",
    "  until all examples classified correctly or another stopping criterion satisfied\n",
    "  return the network\n",
    "```"
   ]
  },
  {
   "cell_type": "markdown",
   "metadata": {
    "slideshow": {
     "align_type": "Left",
     "slide_type": "slide"
    }
   },
   "source": [
    "## Tips for Your Implementations"
   ]
  },
  {
   "cell_type": "markdown",
   "metadata": {
    "slideshow": {
     "align_type": "Left",
     "slide_type": "fragment"
    }
   },
   "source": [
    "* Depending on the problem type you have to select different activation functions for the output layer.\n",
    "* Check your gradients with finite differences:\n",
    "$$\\frac{\\partial f}{\\partial x} = \\frac{f(x + \\varepsilon) - f(x - \\varepsilon)}{2 \\varepsilon} + \\mathcal{O}(\\varepsilon^2)\\,.$$"
   ]
  },
  {
   "cell_type": "markdown",
   "metadata": {
    "slideshow": {
     "align_type": "Left",
     "slide_type": "slide"
    }
   },
   "source": [
    "### How to initialize weights $\\boldsymbol{w}$?"
   ]
  },
  {
   "cell_type": "code",
   "execution_count": 31,
   "metadata": {
    "slideshow": {
     "align_type": "Left",
     "slide_type": "fragment"
    }
   },
   "outputs": [
    {
     "data": {
      "text/plain": [
       "array([ 0.05684154,  0.00421037, -0.05951495, -0.00341802, -0.05121395,\n",
       "        0.01390122,  0.00607147, -0.1280164 ,  0.03140415, -0.02486368])"
      ]
     },
     "execution_count": 31,
     "metadata": {},
     "output_type": "execute_result"
    }
   ],
   "source": [
    "np.random.randn(10) * 0.05"
   ]
  },
  {
   "cell_type": "markdown",
   "metadata": {
    "slideshow": {
     "align_type": "Left",
     "slide_type": "fragment"
    }
   },
   "source": [
    "* Draw components of $\\boldsymbol{w}$ iid (independent and identically distributed) from a Gaussian distribution with **small** standard deviation, e.g. 0.05.\n",
    "* Initialization with 0 will prevent the gradient from flowing back to the lower layers as\n",
    "\n",
    "$$\\frac{\\partial \\ell}{\\partial x_i} = \\delta_j w_{ji}\\,.$$\n",
    "\n",
    "* It has been shown that initialization of weights is a key to have good results. See:\n",
    "    - <small>Glorot, X., &amp; Bengio, Y. (2010). *Understanding the difficulty of training deep feedforward neural networks*. Proceedings of the 13th International Conference on Artificial Intelligence and Statistics (AISTATS), 9, 249–256. http://doi.org/10.1.1.207.2059</small>"
   ]
  },
  {
   "cell_type": "code",
   "execution_count": 32,
   "metadata": {
    "slideshow": {
     "slide_type": "subslide"
    }
   },
   "outputs": [],
   "source": [
    "def plot_afun(x, y, sp_idx, label=None):\n",
    "    \"\"\"Plot activation function.\"\"\"\n",
    "    ax = plt.subplot(2, 4, sp_idx)\n",
    "    if label is not None: \n",
    "        plt.title(label)\n",
    "    plt.setp(ax, xlim=(np.min(x), np.max(x)), ylim=(np.min(y)-0.5, np.max(y)+0.5))\n",
    "    plt.plot(x, y)"
   ]
  },
  {
   "cell_type": "code",
   "execution_count": 33,
   "metadata": {
    "slideshow": {
     "align_type": "Left",
     "slide_type": "slide"
    }
   },
   "outputs": [
    {
     "data": {
      "image/png": "[encoded data removed]",
      "text/plain": [
       "<Figure size 720x288 with 8 Axes>"
      ]
     },
     "metadata": {
      "image/png": {
       "height": 297,
       "width": 622
      },
      "needs_background": "light"
     },
     "output_type": "display_data"
    }
   ],
   "source": [
    "plt.figure(figsize=(10, 4))\n",
    "x = np.linspace(-5, 5, 100)\n",
    "plot_afun(x, x, 1, label=\"Identity\")\n",
    "plot_afun(x, np.tanh(x), 2, label=\"tanh\")\n",
    "plot_afun(x, logit(x), 3, label=\"Logistic (logit)\")\n",
    "plot_afun(x, np.max((x, np.zeros_like(x)), axis=0), 4, label=\"Rectified \\nLinear Unit (ReLU)\")\n",
    "plot_afun(x, np.ones_like(x), 5)\n",
    "plot_afun(x, 1-np.tanh(x)**2, 6)\n",
    "plot_afun(x, logit(x)*(1-logit(x)), 7)\n",
    "plot_afun(x, np.max((np.sign(x), np.zeros_like(x)), axis=0), 8)"
   ]
  },
  {
   "cell_type": "markdown",
   "metadata": {
    "slideshow": {
     "align_type": "Left",
     "slide_type": "slide"
    }
   },
   "source": [
    "## Derivatives of Activation Functions"
   ]
  },
  {
   "cell_type": "markdown",
   "metadata": {
    "slideshow": {
     "align_type": "Left",
     "slide_type": "fragment"
    }
   },
   "source": [
    "* Identity\n",
    "\n",
    "$$\\hat{y} = f(\\text{net}) = a;\\quad f'(\\text{net}) = 1\\,.$$"
   ]
  },
  {
   "cell_type": "markdown",
   "metadata": {
    "slideshow": {
     "align_type": "Left",
     "slide_type": "fragment"
    }
   },
   "source": [
    "* Hyperbolic tangent\n",
    "\n",
    "$$\\hat{y} = f(\\text{net}) = \\tanh(\\text{net});\\quad f'(\\text{net}) = 1 - \\tanh^2(\\text{net}) = 1-\\hat{y}^2\\,.$$"
   ]
  },
  {
   "cell_type": "markdown",
   "metadata": {
    "slideshow": {
     "align_type": "Left",
     "slide_type": "fragment"
    }
   },
   "source": [
    "* Logistic function\n",
    "\n",
    "$$y = f(\\text{net}) = \\frac{1}{1+\\exp{\\left(-\\text{net}\\right)}}\\,,$$\n",
    "$$f'(\\text{net}) = f(\\text{net}) (1 - f(\\text{net})) = \\hat{y} (1-\\hat{y})\\,.$$"
   ]
  },
  {
   "cell_type": "markdown",
   "metadata": {
    "slideshow": {
     "slide_type": "slide"
    }
   },
   "source": [
    "# Summarizing\n",
    "\n",
    "* We now know how to compute the $\\frac{\\partial\\ell}{\\partial w^l_{ji}}$ for all neurons.\n",
    "* For the neurons on the hidden layers we use the $\\delta$s of the next layer.\n",
    "* We know how to updates the weights as:\n",
    "$$\n",
    "\\Delta w^l_{ji}=-\\eta\\frac{\\partial\\ell}{w^l_{ji}}=-\\eta\\delta^l_j x^l_i. \n",
    "$$"
   ]
  },
  {
   "cell_type": "markdown",
   "metadata": {
    "slideshow": {
     "slide_type": "slide"
    }
   },
   "source": [
    "## Difficulties\n",
    "\n",
    "* There are many **local minima**.\n",
    "* The optimization problem is **ill-conditioned**.\n",
    "* There are many **flat regions** (saddle points).\n",
    "* There is **no guarantee** to reach the global minimum.\n",
    "* Deep architectures suffer from the **vanishing gradient** problem.\n",
    "* Neural networks are *usually* considered to be the **blackest box** of all learning algorithms.\n",
    "* There are sooo many **hyperparameters** (number of layers/nodes, activation function, connectivity, weight initialization, loss function, regularization, ...).\n",
    "* Training neural networks has been regarded as **black magic** by many researchers.\n",
    "* And here is the grimoire: [Neural Networks: Tricks of the Trade](http://link.springer.com/book/10.1007%2F978-3-642-35289-8) (1st edition: 1998; 2nd edition: 2012).\n"
   ]
  },
  {
   "cell_type": "markdown",
   "metadata": {
    "slideshow": {
     "slide_type": "slide"
    }
   },
   "source": [
    "## Theoretical features\n",
    "\n",
    "**Universal approximation theorem**:\n",
    "\n",
    "> A feed-forward network with **a single hidden** layer containing a finite number of neurons can approximate any continuous functions on compact subsets of $\\mathbb{R}^n$, under mild assumptions on the activation function. \n",
    "\n",
    "Hornik showed in 1991 that it is not the specific choice of the activation function, but rather the multilayer feedforward architecture itself which gives neural networks the potential of being universal approximators. \n",
    "\n",
    "<small>Kurt Hornik (1991) Approximation Capabilities of Multilayer Feedforward Networks, Neural Networks, 4(2), 251–257</small>"
   ]
  },
  {
   "cell_type": "markdown",
   "metadata": {
    "slideshow": {
     "slide_type": "slide"
    }
   },
   "source": [
    "There have been three hypes around ANNs:\n",
    "\n",
    "* Perceptron (50s-XOR problem)\n",
    "* Backpropagation (80s-SVM)\n",
    "* Deep Learning (2006-now)\n",
    "\n",
    "And they work incredibly well in practice."
   ]
  },
  {
   "cell_type": "markdown",
   "metadata": {
    "slideshow": {
     "slide_type": "slide"
    }
   },
   "source": [
    "### But... why do neural nets work well in practice?\n",
    "* Universal function approximation property.\n",
    "* Stochastic gradient descent finds **sufficiently good** local minima.\n",
    "* We don't want to find the global minimum $\\implies$ ** fights overfitting!**\n",
    "* Neural nets learn **feature hierarchies** to represent functions *efficiently*.\n",
    "    * **features will be learned** automatically\n",
    "    * allows learning of **hierarchical features** which is much more efficient than just one layer of abstraction\n",
    "* **multiclass classification** can be integrated with linear complexity (softmax activation function, cross-entropy error function)\n",
    "* it is a **parametric** model, it does not store any training data directly."
   ]
  },
  {
   "cell_type": "markdown",
   "metadata": {
    "slideshow": {
     "slide_type": "slide"
    }
   },
   "source": [
    "### Drawbacks\n",
    "\n",
    "* input has to be a **vector of real numbers**, e.g. text must be converted before classification\n",
    "* in general, the **optimization problem** is very difficult because it is **ill-conditioned** and **non-separable**\n",
    "* objective function is **not convex**, there are many local minima and flat regions\n",
    "* **black box**: in most cases it is very difficult to interpret the weights of a neural network although it is possible!\n",
    "* **catastrophic forgetting**: learning one instance can change the whole network"
   ]
  },
  {
   "cell_type": "markdown",
   "metadata": {
    "slideshow": {
     "slide_type": "skip"
    }
   },
   "source": [
    "<hr/>\n",
    "<div class=\"container-fluid\">\n",
    "      <div class=\"row\">\n",
    "          <div class=\"col-md-3\" align='center'>\n",
    "              <img align='center' alt=\"Creative Commons License\" style=\"border-width:0\" src=\"https://i.creativecommons.org/l/by-nc-sa/4.0/88x31.png\"/>\n",
    "          </div>\n",
    "          <div class=\"col-md-9\">\n",
    "              This work is licensed under a [Creative Commons Attribution-NonCommercial-ShareAlike 4.0 International License](http://creativecommons.org/licenses/by-nc-sa/4.0/).\n",
    "          </div>\n",
    "      </div>\n",
    "</div>"
   ]
  },
  {
   "cell_type": "code",
   "execution_count": 34,
   "metadata": {
    "slideshow": {
     "slide_type": "skip"
    }
   },
   "outputs": [
    {
     "data": {
      "application/json": {
       "Software versions": [
        {
         "module": "Python",
         "version": "3.6.10 64bit [GCC 4.2.1 Compatible Clang 4.0.1 (tags/RELEASE_401/final)]"
        },
        {
         "module": "IPython",
         "version": "7.11.1"
        },
        {
         "module": "OS",
         "version": "Darwin 19.2.0 x86_64 i386 64bit"
        },
        {
         "module": "scipy",
         "version": "1.3.2"
        },
        {
         "module": "numpy",
         "version": "1.18.1"
        },
        {
         "module": "matplotlib",
         "version": "3.1.1"
        },
        {
         "module": "sklearn",
         "version": "0.22.1"
        }
       ]
      },
      "text/html": [
       "<table><tr><th>Software</th><th>Version</th></tr><tr><td>Python</td><td>3.6.10 64bit [GCC 4.2.1 Compatible Clang 4.0.1 (tags/RELEASE_401/final)]</td></tr><tr><td>IPython</td><td>7.11.1</td></tr><tr><td>OS</td><td>Darwin 19.2.0 x86_64 i386 64bit</td></tr><tr><td>scipy</td><td>1.3.2</td></tr><tr><td>numpy</td><td>1.18.1</td></tr><tr><td>matplotlib</td><td>3.1.1</td></tr><tr><td>sklearn</td><td>0.22.1</td></tr><tr><td colspan='2'>Thu Jan 30 07:46:48 2020 -03</td></tr></table>"
      ],
      "text/latex": [
       "\\begin{tabular}{|l|l|}\\hline\n",
       "{\\bf Software} & {\\bf Version} \\\\ \\hline\\hline\n",
       "Python & 3.6.10 64bit [GCC 4.2.1 Compatible Clang 4.0.1 (tags/RELEASE\\_401/final)] \\\\ \\hline\n",
       "IPython & 7.11.1 \\\\ \\hline\n",
       "OS & Darwin 19.2.0 x86\\_64 i386 64bit \\\\ \\hline\n",
       "scipy & 1.3.2 \\\\ \\hline\n",
       "numpy & 1.18.1 \\\\ \\hline\n",
       "matplotlib & 3.1.1 \\\\ \\hline\n",
       "sklearn & 0.22.1 \\\\ \\hline\n",
       "\\hline \\multicolumn{2}{|l|}{Thu Jan 30 07:46:48 2020 -03} \\\\ \\hline\n",
       "\\end{tabular}\n"
      ],
      "text/plain": [
       "Software versions\n",
       "Python 3.6.10 64bit [GCC 4.2.1 Compatible Clang 4.0.1 (tags/RELEASE_401/final)]\n",
       "IPython 7.11.1\n",
       "OS Darwin 19.2.0 x86_64 i386 64bit\n",
       "scipy 1.3.2\n",
       "numpy 1.18.1\n",
       "matplotlib 3.1.1\n",
       "sklearn 0.22.1\n",
       "Thu Jan 30 07:46:48 2020 -03"
      ]
     },
     "execution_count": 34,
     "metadata": {},
     "output_type": "execute_result"
    }
   ],
   "source": [
    "%load_ext version_information\n",
    "%version_information scipy, numpy, matplotlib, sklearn"
   ]
  },
  {
   "cell_type": "code",
   "execution_count": 35,
   "metadata": {
    "slideshow": {
     "slide_type": "skip"
    }
   },
   "outputs": [
    {
     "data": {
      "text/html": [
       "<link rel=\"stylesheet\" href=\"https://files.inria.fr/dircom/extranet/fonts-inria-sans.css\" rel=\"stylesheet\">\n",
       "<link rel=\"stylesheet\" href=\"https://files.inria.fr/dircom/extranet/fonts-inria-serif.css\" rel=\"stylesheet\">\n",
       "<link href=\"https://fonts.googleapis.com/css?family=Inconsolata\" rel=\"stylesheet\">\n",
       "<style>\n",
       ".text_cell_render {\n",
       "font-style: regular;\n",
       "font-family: \"Inria Serif\", Georgia, serif; \n",
       "display: block;\n",
       "}\n",
       "/*font-weight: 200;*/\n",
       "/*text-align: left;\n",
       "line-height: 100%;\n",
       "display: block;\n",
       "}*/\n",
       ".text_cell_render h1 {\n",
       "/*font-size: 24pt;*/\n",
       "font-family: 'Inria Sans', \"Helvetica Neue\", Arial, \"Noto Sans\", sans-serif;\n",
       "font-weight: bold;\n",
       "margin-bottom: 0.1em;\n",
       "margin-top: 0.5em;\n",
       "color:#4a4a4a;\n",
       "}\n",
       "\n",
       ".reveal h1 {\n",
       "font-family: 'Inria Sans', \"Helvetica Neue\", Arial, \"Noto Sans\", sans-serif;\n",
       "/*font-size: 24pt;*/\n",
       "font-weight: bold;\n",
       "margin-bottom: 0.47em;\n",
       "margin-top: 0.74em;\n",
       "color:#4a4a4a;\n",
       "}\n",
       ".text_cell_render h2 {\n",
       "/*font-size: 21pt;*/\n",
       "    font-family: 'Inria Sans', \"Helvetica Neue\", Arial, \"Noto Sans\", sans-serif;\n",
       "margin-bottom: 0.29em;\n",
       "margin-top: 0.38em;\n",
       "color:#595959;\n",
       "}\n",
       ".text_cell_render h3 {\n",
       "    font-family: 'Inria Sans', \"Helvetica Neue\", Arial, \"Noto Sans\", sans-serif;\n",
       "/*font-size: 19pt;*/\n",
       "margin-bottom: 0.1em;\n",
       "margin-top: 0.3em;\n",
       "color:#595959;\n",
       "}\n",
       ".text_cell_render h4 {\n",
       "    font-family: 'Inria Sans', \"Helvetica Neue\", Arial, \"Noto Sans\", sans-serif;\n",
       "/*font-size: 17pt;*/\n",
       "margin-bottom: 0.1em;\n",
       "margin-top: 0.3em;\n",
       "color:#595959;\n",
       "}\n",
       ".text_cell_render h5 {\n",
       "    font-family: 'Inria Sans', \"Helvetica Neue\", Arial, \"Noto Sans\", sans-serif;\n",
       "/*font-size: 15pt;*/\n",
       "margin-bottom: 0.1em;\n",
       "margin-top: 0.3em;\n",
       "color:#595959;\n",
       "}\n",
       "div.text_cell_render{\n",
       "line-height: 120%;\n",
       "font-size: 100%;\n",
       "font-weight: 400;\n",
       "text-align: justify;\n",
       "margin-left:0em;\n",
       "margin-right:0em;\n",
       "}\n",
       ".reveal div.text_cell_render{\n",
       "line-height: 120%;\n",
       "font-size: 74%;\n",
       "font-weight: 400;\n",
       "text-align: justify;\n",
       "margin-left:0em;\n",
       "margin-right:0em;\n",
       "}\n",
       "\n",
       ".reveal h2 {\n",
       "font-family: 'Inria Sans', \"Helvetica Neue\", Arial, \"Noto Sans\", sans-serif;\n",
       "/*font-size: 24pt;*/\n",
       "font-weight: bold;\n",
       "margin-bottom: 0.1em;\n",
       "margin-top: 0.5em;\n",
       "color:#595959;\n",
       "}\n",
       ".reveal h3 {\n",
       "font-family: 'Inria Sans', \"Helvetica Neue\", Arial, \"Noto Sans\", sans-serif;\n",
       "/*font-size: 24pt;*/\n",
       "font-weight: bold;\n",
       "margin-bottom: 0.1em;\n",
       "margin-top: 0.5em;\n",
       "color:#595959;\n",
       "}\n",
       ".reveal h4 {\n",
       "font-family: 'Inria Sans', \"Helvetica Neue\", Arial, \"Noto Sans\", sans-serif;\n",
       "font-weight: bold;\n",
       "margin-bottom: 0.1em;\n",
       "margin-top: 0.5em;\n",
       "color:#595959;\n",
       "}\n",
       ".reveal .code_cell {\n",
       "    font-size: 92%;\n",
       "}\n",
       ".reveal code {\n",
       "font-family: 'Inconsolata', monospace;\n",
       "}\n",
       ".reveal pre {\n",
       "font-family: 'Inconsolata', monospace;\n",
       "}\n",
       "code {\n",
       "font-family: 'Inconsolata', monospace;\n",
       "}\n",
       "pre {\n",
       "font-family: 'Inconsolata', monospace;\n",
       "}\n",
       ".CodeMirror{\n",
       "font-family: \"Inconsolata\", monospace;\n",
       "}\n",
       "</style>\n"
      ],
      "text/plain": [
       "<IPython.core.display.HTML object>"
      ]
     },
     "execution_count": 35,
     "metadata": {},
     "output_type": "execute_result"
    }
   ],
   "source": [
    "# this code is here for cosmetic reasons\n",
    "from IPython.core.display import HTML\n",
    "from urllib.request import urlopen\n",
    "HTML(urlopen('https://raw.githubusercontent.com/lmarti/jupyter_custom/master/custom.include').read().decode('utf-8'))"
   ]
  },
  {
   "cell_type": "markdown",
   "metadata": {},
   "source": [
    "---"
   ]
  }
 ],
 "metadata": {
  "anaconda-cloud": {},
  "kernelspec": {
   "display_name": "Python 3",
   "language": "python",
   "name": "python3"
  },
  "language_info": {
   "codemirror_mode": {
    "name": "ipython",
    "version": 3
   },
   "file_extension": ".py",
   "mimetype": "text/x-python",
   "name": "python",
   "nbconvert_exporter": "python",
   "pygments_lexer": "ipython3",
   "version": "3.6.10"
  },
  "varInspector": {
   "cols": {
    "lenName": 16,
    "lenType": 16,
    "lenVar": 40
   },
   "kernels_config": {
    "python": {
     "delete_cmd_postfix": "",
     "delete_cmd_prefix": "del ",
     "library": "var_list.py",
     "varRefreshCmd": "print(var_dic_list())"
    },
    "r": {
     "delete_cmd_postfix": ") ",
     "delete_cmd_prefix": "rm(",
     "library": "var_list.r",
     "varRefreshCmd": "cat(var_dic_list()) "
    }
   },
   "types_to_exclude": [
    "module",
    "function",
    "builtin_function_or_method",
    "instance",
    "_Feature"
   ],
   "window_display": false
  },
  "widgets": {
   "state": {
    "878631a4f0884d5092825922635ea567": {
     "views": [
      {
       "cell_index": 70
      }
     ]
    },
    "d417166c65934750bb40d7d27fd422bf": {
     "views": [
      {
       "cell_index": 72
      }
     ]
    }
   },
   "version": "1.2.0"
  }
 },
 "nbformat": 4,
 "nbformat_minor": 2
}
