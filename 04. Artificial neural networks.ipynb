{
 "cells": [
  {
   "cell_type": "markdown",
   "metadata": {},
   "source": [
    "<div align='left' style=\"width:38%;overflow:hidden;\">\n",
    "<a href='http://inria.fr'>\n",
    "<img src='https://github.com/lmarti/jupyter_custom/raw/master/imgs/inr_logo_rouge.png' alt='Inria logo' title='Inria'/>\n",
    "</a>\n",
    "</div>"
   ]
  },
  {
   "cell_type": "markdown",
   "metadata": {
    "slideshow": {
     "align_type": "Left",
     "slide_type": "-"
    }
   },
   "source": [
    "# Machine Learning with `scikit-learn`\n",
    "\n",
    "# 4. Artificial Neural Networks\n",
    "\n",
    "## by [Nayat Sánchez Pi](http://www.nayatsanchezpi.com) and [Luis Martí](http://lmarti.com)\n",
    "\n",
    "$\\renewcommand{\\vec}[1]{\\boldsymbol{#1}}$"
   ]
  },
  {
   "cell_type": "markdown",
   "metadata": {
    "slideshow": {
     "slide_type": "skip"
    }
   },
   "source": [
    "### About the notebook/slides\n",
    "\n",
    "* The slides are _programmed_ as a [Jupyter](http://jupyter.org)/[IPython](https://ipython.org/) notebook.\n",
    "* **Feel free to try them and experiment on your own by launching the notebooks.**\n",
    "\n",
    "* You can run the notebook online: [![Binder](https://mybinder.org/badge.svg)](https://mybinder.org/v2/gh/rio-group/machine-learning-course/master)"
   ]
  },
  {
   "cell_type": "markdown",
   "metadata": {
    "slideshow": {
     "slide_type": "skip"
    }
   },
   "source": [
    "If you are using [nbviewer](http://nbviewer.jupyter.org) you can change to slides mode by clicking on the icon:\n",
    "\n",
    "<div class=\"container-fluid\">\n",
    "  <div class=\"row\">\n",
    "      <div class=\"col-md-3\"><span/></div>\n",
    "      <div class=\"col-md-6\">\n",
    "              <img src='imgs/view-as-slides.png'/>\n",
    "      </div>\n",
    "      <div class=\"col-md-3\" align='center'><span/></div>\n",
    "  </div>\n",
    "</div>"
   ]
  },
  {
   "cell_type": "code",
   "execution_count": 1,
   "metadata": {
    "slideshow": {
     "slide_type": "skip"
    }
   },
   "outputs": [],
   "source": [
    "import random, itertools\n",
    "import numpy as np\n",
    "import pandas as pd\n",
    "import matplotlib as mpl\n",
    "import matplotlib.pyplot as plt\n",
    "import matplotlib.cm as cm\n",
    "from mpl_toolkits.mplot3d import Axes3D"
   ]
  },
  {
   "cell_type": "code",
   "execution_count": 2,
   "metadata": {
    "slideshow": {
     "slide_type": "skip"
    }
   },
   "outputs": [],
   "source": [
    "plt.rc('font', family='serif')\n",
    "\n",
    "import seaborn\n",
    "seaborn.set(style='whitegrid'); seaborn.set_context('talk')\n",
    "\n",
    "%matplotlib inline\n",
    "%config InlineBackend.figure_format = 'retina'"
   ]
  },
  {
   "cell_type": "code",
   "execution_count": 3,
   "metadata": {
    "slideshow": {
     "slide_type": "skip"
    }
   },
   "outputs": [],
   "source": [
    "random.seed(a=42)"
   ]
  },
  {
   "cell_type": "code",
   "execution_count": 4,
   "metadata": {
    "slideshow": {
     "slide_type": "skip"
    }
   },
   "outputs": [],
   "source": [
    "from ipywidgets import interact, interactive, fixed\n",
    "import ipywidgets as widgets"
   ]
  },
  {
   "cell_type": "code",
   "execution_count": 5,
   "metadata": {
    "slideshow": {
     "slide_type": "skip"
    }
   },
   "outputs": [],
   "source": [
    "# tikzmagic extesion for figures\n",
    "# !pip install git+git://github.com/mkrphys/ipython-tikzmagic.git\n",
    "%load_ext tikzmagic"
   ]
  },
  {
   "cell_type": "markdown",
   "metadata": {
    "slideshow": {
     "slide_type": "slide"
    }
   },
   "source": [
    "# Why to study bio-inspired methods\n",
    "\n",
    "* Nature is one of the best problem-solvers we know.\n",
    "* Evolutionary optimization.\n",
    "* Natural intelligence and artificial intelligence\n",
    "    * Cellular automata\n",
    "    * **Neural computation**\n",
    "    * Evolutionary computation\n",
    "    * Swarm intelligence\n",
    "    * Artificial immune systems\n",
    "    * Membrane computing\n",
    "    * Amorphous computing"
   ]
  },
  {
   "cell_type": "markdown",
   "metadata": {
    "slideshow": {
     "slide_type": "slide"
    }
   },
   "source": [
    "## Pigeons as art connoisseurs (Watanabe et al., 1995)\n",
    "* Pigeons were put in a Skinner box, and\n",
    "* presented with photos of paintings by Monet and Picasso. \n",
    "* They were rewarded if they recognized correctly the painter they were presented with.\n",
    "<hr/>\n",
    "<div class=\"container-fluid\">\n",
    "  <div class=\"row\">\n",
    "      <div class=\"col-md-4\" align='center'>\n",
    "      <a href='https://en.wikipedia.org/wiki/Operant_conditioning_chamber'>Skinner box</a>\n",
    "      <img class='img-thumbnail' width='96%' src='imgs/05/pigeon.png'/>\n",
    "      </div>\n",
    "      <div class=\"col-md-4\" align='center'>\n",
    "      <a href='https://en.wikipedia.org/wiki/Claude_Monet'>Claude Monet</a>\n",
    "      <img class='img-thumbnail' src='imgs/05/monet.jpg'/>\n",
    "      </div>\n",
    "      <div class=\"col-md-4\" align='center'>\n",
    "      <a href='https://en.wikipedia.org/wiki/Pablo_Picasso'>Pablo Picasso</a>\n",
    "      <img class='img-thumbnail' width='83%' src='imgs/05/picasso.jpg'/>\n",
    "      </div>\n",
    "  </div>\n",
    "</div>"
   ]
  },
  {
   "cell_type": "markdown",
   "metadata": {
    "slideshow": {
     "slide_type": "skip"
    }
   },
   "source": [
    "<small>Watanabe, S., Sakamoto, J., &amp; Wakita, M. (1995). Pigeons’ discrimination of paintings by Monet and Picasso. Journal of the Experimental Analysis of Behavior, 63(2), 165–174. http://doi.org/10.1901/jeab.1995.63-165</small>"
   ]
  },
  {
   "cell_type": "markdown",
   "metadata": {
    "slideshow": {
     "slide_type": "slide"
    }
   },
   "source": [
    "## Results\n",
    "\n",
    "* Pigeons were capable of discriminate between painters with an accuracy of **95%** when confronted with paintings on the **training set**.\n",
    "* Surprinsingly, they scored a **85%** on paintings they had never seen during training (**validation set**).\n",
    "* They were not just learning exhaustively which painting belonged to each painter.\n",
    "* They were able to recognize **styles** or **patterns** and\n",
    "* to **generalize** from what they had seen before.\n",
    "\n",
    "> In AI, we have been trying to replicate this capacity (and many others) in a computer for about 60 years."
   ]
  },
  {
   "cell_type": "markdown",
   "metadata": {
    "slideshow": {
     "slide_type": "slide"
    }
   },
   "source": [
    "# Artificial neural networks\n",
    "\n",
    "* Inspired (at different degrees) on the brain and the nervous system.\n",
    "* Massive parallelization of relatively simple processing units.\n",
    "* Simple principles lead to complex behaviours.\n",
    "* Capable of learn form data."
   ]
  },
  {
   "cell_type": "markdown",
   "metadata": {
    "slideshow": {
     "slide_type": "slide"
    }
   },
   "source": [
    "## Creating [artificial neurons](https://en.wikipedia.org/wiki/Artificial_neuron) \n",
    "\n",
    "Artificial neurons are designed to mimic aspects of their biological counterparts.\n",
    "<hr/>\n",
    "<div class=\"container-fluid\">\n",
    "  <div class=\"row\">\n",
    "      <div class=\"col-md-4\" align='center'>\n",
    "      <img class='img-thumbnail' src='https://upload.wikimedia.org/wikipedia/commons/a/a9/Complete_neuron_cell_diagram_en.svg'/>\n",
    "          <small>Taken from <a href=\"https://en.wikipedia.org/wiki/Neuron\">Wikipedia - Neuron</a>.</small>\n",
    "      </div>\n",
    "      <div class=\"col-md-8\">\n",
    "<ul>\n",
    "<li>**Dendrites** – act as the input receptor, allowing the cell to receive signals from a large (>1000) number of neighboring neurons. Each dendrite is able to perform a \"multiplication\" by that dendrite's \"weight value.\"\n",
    "\n",
    "<li>**Soma** – acts as a summation function. As positive and negative signals (exciting and inhibiting, respectively) arrive in the soma from the dendrites they are added together.\n",
    "\n",
    "<li>**Axon** – gets its signal from the summation behavior which occurs inside the soma. The opening to the axon  samples the electrical potential inside the soma. Once the soma reaches a certain potential, the axon will transmit an all-in signal pulse down its length. \n",
    "<li>In this regard, the axon behaves as the ability for us to connect our artificial neuron to other artificial neurons.\n",
    "</ul>\n",
    "</div>\n",
    "</div>\n",
    "</div>\n",
    "\n"
   ]
  },
  {
   "cell_type": "markdown",
   "metadata": {
    "slideshow": {
     "slide_type": "skip"
    }
   },
   "source": [
    "#### Note:\n",
    "\n",
    "* Unlike most artificial neurons, biological neurons fire in discrete pulses. \n",
    "* Each time the electrical potential inside the soma reaches a certain threshold, a pulse is transmitted down the axon. \n",
    "* This pulsing can be translated into continuous values. The rate (activations per second, etc.) at which an axon fires converts directly into the rate at which neighboring cells get signal ions introduced into them. \n",
    "* The faster a biological neuron fires, the faster nearby neurons accumulate electrical potential (or lose electrical potential, depending on the \"weighting\" of the dendrite that connects to the neuron that fired). \n",
    "* It is this conversion that allows computer scientists and mathematicians to simulate biological neural networks using artificial neurons which can output distinct values (often from −1 to 1)."
   ]
  },
  {
   "cell_type": "markdown",
   "metadata": {
    "slideshow": {
     "slide_type": "slide"
    }
   },
   "source": [
    "The first artificial neuron was the **Threshold Logic Unit (TLU)**, proposed by McCulloch and Pitts (1943). \n",
    "* The model was specifically targeted as a computational model of the \"nerve net\" in the brain.\n",
    "* As a transfer function, it employed a threshold, equivalent to using the Heaviside step function. \n",
    "* A simple model was considered, with binary inputs and outputs, and \n",
    "* restrictions on the possible weights, and a more flexible threshold value.\n",
    "\n",
    "* Any Boolean function could be implemented by networks of such devices, what is easily seen from the fact that one can implement the `AND` and `OR` functions, and use them in the disjunctive or the conjunctive normal form. \n",
    "* Cyclic TLU networks, with feedbacks through neurons, could define dynamical systems with memory, but\n",
    "* most research concentrated (and still does) on strictly feed-forward networks because of the smaller difficulty they pose."
   ]
  },
  {
   "cell_type": "markdown",
   "metadata": {
    "slideshow": {
     "slide_type": "skip"
    }
   },
   "source": [
    "<small>McCulloch, W. and Pitts, W. (1943). A logical calculus of the ideas immanent in nervous activity. Bulletin of Mathematical Biophysics, 5:115–133. http://link.springer.com/article/10.1007%2FBF02478259</small>"
   ]
  },
  {
   "cell_type": "markdown",
   "metadata": {
    "slideshow": {
     "slide_type": "slide"
    }
   },
   "source": [
    "## Artificial neuron as a neuron abstraction"
   ]
  },
  {
   "cell_type": "markdown",
   "metadata": {},
   "source": [
    "<div class=\"container-fluid\">\n",
    "  <div class=\"row\">\n",
    "      <div class=\"col-md-2\"><span/></div>\n",
    "      <div class=\"col-md-8\">\n",
    "              <img class='img-thumbnail' alt='Perceptron' src='imgs/perceptron.png'/>\n",
    "      </div>\n",
    "      <div class=\"col-md-2\" align='center'><span/></div>\n",
    "  </div>\n",
    "</div>"
   ]
  },
  {
   "cell_type": "markdown",
   "metadata": {
    "slideshow": {
     "slide_type": "fragment"
    }
   },
   "source": [
    "In general terms, an input $\\vec{x}\\in\\mathbb{R}^n$ is multiplied by a weight vector $\\vec{w}$ and added a bias $b$ producing the net activation, $\\text{net}$. $\\text{net}$ is passed to the *activation function* $f()$ that computed the neuron's output $\\hat{y}$.\n",
    "$$\n",
    "\\hat{y} = f\\left(\\text{net}\\right)= f\\left(\\vec{w}\\cdot\\vec{x}+b\\right) = f\\left(\\sum_{i=1}^{n}{w_i x_i + b}\\right).\n",
    "$$"
   ]
  },
  {
   "cell_type": "markdown",
   "metadata": {
    "slideshow": {
     "slide_type": "skip"
    }
   },
   "source": [
    "**Note:** This is a rather simplistic approximation of natural neurons. See [Spiking Neural Networks](https://en.wikipedia.org/wiki/Spiking_neural_network) for a more biologically plausible representation."
   ]
  },
  {
   "cell_type": "markdown",
   "metadata": {
    "slideshow": {
     "slide_type": "slide"
    }
   },
   "source": [
    "# The Perceptron\n",
    "\n",
    "The [Perceptron](https://en.wikipedia.org/wiki/Perceptron) and its learning algorithm pioneered the research in neurocomputing.\n",
    "\n",
    "* The perceptron is an algorithm for learning a linear binary classifier. \n",
    "* That is a function that maps its input $\\vec{x}\\in\\mathbb{R}^n$ (a real-valued vector) to an output value $f(\\vec{x})$ (a single binary value) as,\n",
    "\n",
    "$$\n",
    "f(\\vec{x}) = \\begin{cases}\n",
    "                1 & \\text{if }\\vec{w} \\cdot \\vec{x} + b > 0\\,,\\\\\n",
    "                0 & \\text{otherwise};\n",
    "             \\end{cases}\n",
    "$$\n",
    "\n",
    "where $\\vec{w}$ is a vector of real-valued *weights*, $\\vec{w} \\cdot \\vec{x}$ is the *dot product* $\\sum_{i=1}^n w_i x_i$, and $b$ is known as the *bias*. "
   ]
  },
  {
   "cell_type": "markdown",
   "metadata": {
    "slideshow": {
     "slide_type": "slide"
    }
   },
   "source": [
    "## Perceptron learning\n",
    "\n",
    "Learning goes by calculating the prediction of the perceptron, $\\hat{y}$, as\n",
    "\n",
    "$$\\hat{y} = f\\left(\\vec{w}\\cdot\\vec{x} + b) = f( w_{1}x_{1} + w_2x_{2} + \\cdots + w_nx_{n}+b\\right)\\,.$$\n",
    "\n",
    "After that, we update the weights and the bias using the perceptron rule:\n",
    "\n",
    "$$\n",
    "\\begin{align*}\n",
    "w_i & = w_i + \\alpha (y - \\hat{y}) x_{i} \\,,\\  i=1,\\ldots,n\\,;\\\\\n",
    "b & = b + \\alpha (y - \\hat{y})\\,.\n",
    "\\end{align*}\n",
    "$$\n",
    "\n",
    "Here $\\alpha\\in\\left(0,1\\right]$ is known as the *learning rate*."
   ]
  },
  {
   "cell_type": "markdown",
   "metadata": {
    "slideshow": {
     "slide_type": "slide"
    }
   },
   "source": [
    "## Mark I: The Perceptron implementation\n",
    "\n",
    "<hr/>\n",
    "<div class=\"container-fluid\">\n",
    "   <div class=\"col-md-1\">&nbsp;</div>\n",
    "  <div class=\"row\">\n",
    "      <div class=\"col-md-4\">\n",
    "              <img src='imgs/04/mark1.png'/>\n",
    "      </div>\n",
    "      <div class=\"col-md-6\">\n",
    "      <ul><li>An array of cadmium sulfide photocells was used for capturing 20x20 (400) pixel images that were used as inputs.\n",
    "      <li>A switchboard was used for manually selecting which input elements (pixels) were passed to the perceptrons.\n",
    "      <li>They used potentiometers as variable weights.\n",
    "      <li>Electric motors automatically modified the weights.</ul>\n",
    "      </div>\n",
    "      <div class=\"col-md-1\">&nbsp;</div>\n",
    "  </div>\n",
    "</div>"
   ]
  },
  {
   "cell_type": "markdown",
   "metadata": {
    "slideshow": {
     "slide_type": "slide"
    }
   },
   "source": [
    "# Implementing the Perceptron\n",
    "\n",
    "We are going to start implementing a perceptron as a class. "
   ]
  },
  {
   "cell_type": "code",
   "execution_count": 7,
   "metadata": {},
   "outputs": [],
   "source": [
    "class Perceptron:\n",
    "    'A simple Perceptron implementation.'\n",
    "    def __init__(self, weights, bias, alpha=0.1):\n",
    "        self.weights = weights\n",
    "        self.bias = bias\n",
    "        self.alpha = alpha\n",
    "    \n",
    "    def propagate(self, x):\n",
    "        return self.activation(self.net(x)) \n",
    "        \n",
    "    def activation(self, net):\n",
    "        if net > 0:\n",
    "            return 1\n",
    "        return 0\n",
    "    \n",
    "    def net(self, x):\n",
    "        return np.dot(self.weights, x) + self.bias\n",
    "    \n",
    "    def learn(self, x, y):\n",
    "        y_hat = self.propagate(x)\n",
    "        self.weights = [ w_i + self.alpha*x_i*(y-y_hat) for (w_i, x_i) in zip(self.weights, x)]\n",
    "        self.bias = self.bias + self.alpha*(y-y_hat)\n",
    "        return np.abs(y_hat - y)"
   ]
  },
  {
   "cell_type": "markdown",
   "metadata": {
    "slideshow": {
     "slide_type": "skip"
    }
   },
   "source": [
    "**Note**: Bear in mind that I have made the implementation as clear and easy to follow as possible and, therefore, I have sacrificed performance in the sake of clarity. There are many points where it can be improved."
   ]
  },
  {
   "cell_type": "markdown",
   "metadata": {
    "slideshow": {
     "slide_type": "slide"
    }
   },
   "source": [
    "### Testing our `Perceptron` class.\n",
    "\n",
    "After having the perceptron implementation ready we need an example data set.\n",
    "\n",
    "We are going to create a dataset containing random points in $\\left[0,1\\right]^2$."
   ]
  },
  {
   "cell_type": "code",
   "execution_count": 8,
   "metadata": {},
   "outputs": [],
   "source": [
    "size = 50 # size of data set"
   ]
  },
  {
   "cell_type": "code",
   "execution_count": 9,
   "metadata": {},
   "outputs": [],
   "source": [
    "data = pd.DataFrame(columns=('$x_1$', '$x_2$'),\n",
    "                    data=np.random.uniform(size=(size,2)))"
   ]
  },
  {
   "cell_type": "markdown",
   "metadata": {
    "slideshow": {
     "slide_type": "slide"
    }
   },
   "source": [
    "So far, our data set looks like this (we are showning only the first ten elements):"
   ]
  },
  {
   "cell_type": "code",
   "execution_count": 10,
   "metadata": {},
   "outputs": [
    {
     "data": {
      "text/html": [
       "<div>\n",
       "<style scoped>\n",
       "    .dataframe tbody tr th:only-of-type {\n",
       "        vertical-align: middle;\n",
       "    }\n",
       "\n",
       "    .dataframe tbody tr th {\n",
       "        vertical-align: top;\n",
       "    }\n",
       "\n",
       "    .dataframe thead th {\n",
       "        text-align: right;\n",
       "    }\n",
       "</style>\n",
       "<table border=\"1\" class=\"dataframe\">\n",
       "  <thead>\n",
       "    <tr style=\"text-align: right;\">\n",
       "      <th></th>\n",
       "      <th>$x_1$</th>\n",
       "      <th>$x_2$</th>\n",
       "    </tr>\n",
       "  </thead>\n",
       "  <tbody>\n",
       "    <tr>\n",
       "      <th>0</th>\n",
       "      <td>0.274988</td>\n",
       "      <td>0.397073</td>\n",
       "    </tr>\n",
       "    <tr>\n",
       "      <th>1</th>\n",
       "      <td>0.882587</td>\n",
       "      <td>0.676248</td>\n",
       "    </tr>\n",
       "    <tr>\n",
       "      <th>2</th>\n",
       "      <td>0.372899</td>\n",
       "      <td>0.613391</td>\n",
       "    </tr>\n",
       "    <tr>\n",
       "      <th>3</th>\n",
       "      <td>0.518696</td>\n",
       "      <td>0.816785</td>\n",
       "    </tr>\n",
       "    <tr>\n",
       "      <th>4</th>\n",
       "      <td>0.066361</td>\n",
       "      <td>0.889757</td>\n",
       "    </tr>\n",
       "    <tr>\n",
       "      <th>5</th>\n",
       "      <td>0.378809</td>\n",
       "      <td>0.071391</td>\n",
       "    </tr>\n",
       "    <tr>\n",
       "      <th>6</th>\n",
       "      <td>0.597048</td>\n",
       "      <td>0.746399</td>\n",
       "    </tr>\n",
       "    <tr>\n",
       "      <th>7</th>\n",
       "      <td>0.733814</td>\n",
       "      <td>0.412320</td>\n",
       "    </tr>\n",
       "    <tr>\n",
       "      <th>8</th>\n",
       "      <td>0.382323</td>\n",
       "      <td>0.478999</td>\n",
       "    </tr>\n",
       "    <tr>\n",
       "      <th>9</th>\n",
       "      <td>0.792565</td>\n",
       "      <td>0.290235</td>\n",
       "    </tr>\n",
       "  </tbody>\n",
       "</table>\n",
       "</div>"
      ],
      "text/plain": [
       "      $x_1$     $x_2$\n",
       "0  0.274988  0.397073\n",
       "1  0.882587  0.676248\n",
       "2  0.372899  0.613391\n",
       "3  0.518696  0.816785\n",
       "4  0.066361  0.889757\n",
       "5  0.378809  0.071391\n",
       "6  0.597048  0.746399\n",
       "7  0.733814  0.412320\n",
       "8  0.382323  0.478999\n",
       "9  0.792565  0.290235"
      ]
     },
     "execution_count": 10,
     "metadata": {},
     "output_type": "execute_result"
    }
   ],
   "source": [
    "data.head(10)"
   ]
  },
  {
   "cell_type": "markdown",
   "metadata": {
    "slideshow": {
     "slide_type": "slide"
    }
   },
   "source": [
    "We need to add a *target* or *classification* attribute. In this example, we are going to make this target to be equal to one if the point lies in the upper-right triangle of the $\\left[0,1\\right]\\times\\left[0,1\\right]$ square and zero otherwise:\n",
    "\n",
    "<div class=\"container-fluid\">\n",
    "  <div class=\"row\">\n",
    "      <div class=\"col-md-4\">&nbsp;</div>\n",
    "      <div class=\"col-md-4\">\n",
    "              <img src='imgs/04/dataset.jpeg' alt='description of the data set' title='description of the data set'/>\n",
    "      </div>\n",
    "      <div class=\"col-md-4\">&nbsp;</div>\n",
    "  </div>\n",
    "</div>"
   ]
  },
  {
   "cell_type": "markdown",
   "metadata": {
    "slideshow": {
     "slide_type": "slide"
    }
   },
   "source": [
    "We can formalize this condition as:\n",
    "\n",
    "$$\n",
    "y = \\begin{cases}\n",
    "    1 & \\ \\text{if}\\ x_1 + x_2 > 1\\,,\\\\\n",
    "    0 & \\ \\text{otherwise}\\,.\n",
    "    \\end{cases}\n",
    "$$"
   ]
  },
  {
   "cell_type": "markdown",
   "metadata": {
    "slideshow": {
     "slide_type": "fragment"
    }
   },
   "source": [
    "Lets code it..."
   ]
  },
  {
   "cell_type": "code",
   "execution_count": 11,
   "metadata": {},
   "outputs": [],
   "source": [
    "def condition(x):\n",
    "    return int(np.sum(x) > 1)"
   ]
  },
  {
   "cell_type": "markdown",
   "metadata": {
    "slideshow": {
     "slide_type": "fragment"
    }
   },
   "source": [
    "...and apply it to the data set."
   ]
  },
  {
   "cell_type": "code",
   "execution_count": 12,
   "metadata": {},
   "outputs": [],
   "source": [
    "data['y'] = data.apply(condition, axis=1)"
   ]
  },
  {
   "cell_type": "markdown",
   "metadata": {
    "slideshow": {
     "slide_type": "subslide"
    }
   },
   "source": [
    "The resulting data set looks like this:"
   ]
  },
  {
   "cell_type": "code",
   "execution_count": 13,
   "metadata": {},
   "outputs": [
    {
     "data": {
      "text/html": [
       "<div>\n",
       "<style scoped>\n",
       "    .dataframe tbody tr th:only-of-type {\n",
       "        vertical-align: middle;\n",
       "    }\n",
       "\n",
       "    .dataframe tbody tr th {\n",
       "        vertical-align: top;\n",
       "    }\n",
       "\n",
       "    .dataframe thead th {\n",
       "        text-align: right;\n",
       "    }\n",
       "</style>\n",
       "<table border=\"1\" class=\"dataframe\">\n",
       "  <thead>\n",
       "    <tr style=\"text-align: right;\">\n",
       "      <th></th>\n",
       "      <th>$x_1$</th>\n",
       "      <th>$x_2$</th>\n",
       "      <th>y</th>\n",
       "    </tr>\n",
       "  </thead>\n",
       "  <tbody>\n",
       "    <tr>\n",
       "      <th>0</th>\n",
       "      <td>0.274988</td>\n",
       "      <td>0.397073</td>\n",
       "      <td>0</td>\n",
       "    </tr>\n",
       "    <tr>\n",
       "      <th>1</th>\n",
       "      <td>0.882587</td>\n",
       "      <td>0.676248</td>\n",
       "      <td>1</td>\n",
       "    </tr>\n",
       "    <tr>\n",
       "      <th>2</th>\n",
       "      <td>0.372899</td>\n",
       "      <td>0.613391</td>\n",
       "      <td>0</td>\n",
       "    </tr>\n",
       "    <tr>\n",
       "      <th>3</th>\n",
       "      <td>0.518696</td>\n",
       "      <td>0.816785</td>\n",
       "      <td>1</td>\n",
       "    </tr>\n",
       "    <tr>\n",
       "      <th>4</th>\n",
       "      <td>0.066361</td>\n",
       "      <td>0.889757</td>\n",
       "      <td>0</td>\n",
       "    </tr>\n",
       "    <tr>\n",
       "      <th>5</th>\n",
       "      <td>0.378809</td>\n",
       "      <td>0.071391</td>\n",
       "      <td>0</td>\n",
       "    </tr>\n",
       "    <tr>\n",
       "      <th>6</th>\n",
       "      <td>0.597048</td>\n",
       "      <td>0.746399</td>\n",
       "      <td>1</td>\n",
       "    </tr>\n",
       "    <tr>\n",
       "      <th>7</th>\n",
       "      <td>0.733814</td>\n",
       "      <td>0.412320</td>\n",
       "      <td>1</td>\n",
       "    </tr>\n",
       "    <tr>\n",
       "      <th>8</th>\n",
       "      <td>0.382323</td>\n",
       "      <td>0.478999</td>\n",
       "      <td>0</td>\n",
       "    </tr>\n",
       "    <tr>\n",
       "      <th>9</th>\n",
       "      <td>0.792565</td>\n",
       "      <td>0.290235</td>\n",
       "      <td>1</td>\n",
       "    </tr>\n",
       "  </tbody>\n",
       "</table>\n",
       "</div>"
      ],
      "text/plain": [
       "      $x_1$     $x_2$  y\n",
       "0  0.274988  0.397073  0\n",
       "1  0.882587  0.676248  1\n",
       "2  0.372899  0.613391  0\n",
       "3  0.518696  0.816785  1\n",
       "4  0.066361  0.889757  0\n",
       "5  0.378809  0.071391  0\n",
       "6  0.597048  0.746399  1\n",
       "7  0.733814  0.412320  1\n",
       "8  0.382323  0.478999  0\n",
       "9  0.792565  0.290235  1"
      ]
     },
     "execution_count": 13,
     "metadata": {},
     "output_type": "execute_result"
    }
   ],
   "source": [
    "data.head(10)"
   ]
  },
  {
   "cell_type": "markdown",
   "metadata": {
    "slideshow": {
     "slide_type": "slide"
    }
   },
   "source": [
    "We can now take a better look at the data set in graphical form. Elements with $y=1$ are shown in green ($\\color{green}{\\bullet}$) and those with $y=0$ are shown in red ($\\color{red}{\\bullet}$):"
   ]
  },
  {
   "cell_type": "code",
   "execution_count": 14,
   "metadata": {},
   "outputs": [],
   "source": [
    "def plot_data(data, ax):\n",
    "    data[data.y==1].plot(kind='scatter', \n",
    "                         x='$x_1$', y='$x_2$', \n",
    "                         color='green', ax=ax)\n",
    "    data[data.y==0].plot(kind='scatter', \n",
    "                         x='$x_1$', y='$x_2$', \n",
    "                         color='red', ax=ax)\n",
    "    ax.set_xlim(-0.1,1.1); ax.set_ylim(-0.1,1.1)"
   ]
  },
  {
   "cell_type": "code",
   "execution_count": 15,
   "metadata": {
    "slideshow": {
     "slide_type": "slide"
    }
   },
   "outputs": [
    {
     "data": {
      "image/png": "[encoded data removed]",
      "text/plain": [
       "<Figure size 360x360 with 1 Axes>"
      ]
     },
     "metadata": {
      "image/png": {
       "height": 334,
       "width": 349
      },
      "needs_background": "light"
     },
     "output_type": "display_data"
    }
   ],
   "source": [
    "fig = plt.figure(figsize=(5,5))\n",
    "plot_data(data, fig.gca())"
   ]
  },
  {
   "cell_type": "markdown",
   "metadata": {
    "slideshow": {
     "slide_type": "slide"
    }
   },
   "source": [
    "## Iterating the data set\n",
    "\n",
    "Having the data set we can now code how the perceptron learns it by iterating throu it."
   ]
  },
  {
   "cell_type": "code",
   "execution_count": 16,
   "metadata": {},
   "outputs": [],
   "source": [
    "def learn_data(perceptron, data):\n",
    "    'Returns the number of errors made.'\n",
    "    count = 0 \n",
    "    for i, row in data.iterrows():\n",
    "        count += perceptron.learn(row[0:2], row[2])\n",
    "    return count"
   ]
  },
  {
   "cell_type": "markdown",
   "metadata": {
    "slideshow": {
     "slide_type": "slide"
    }
   },
   "source": [
    "## Visualizing learning\n",
    "\n",
    "We need now to plot the decision boundary or threshold of the perceptron.\n",
    "\n",
    "To calculate it we start with the equation that describes the boundary,\n",
    "$$w_1x_1+w_2x_2 + b =0.$$\n",
    "\n",
    "From it we can obtain $x_2$ from a given $x_1$ applying a fairy simple math,\n",
    "$$x_2 = \\frac{-w_1x_1-b}{w_2}.$$"
   ]
  },
  {
   "cell_type": "code",
   "execution_count": 17,
   "metadata": {},
   "outputs": [],
   "source": [
    "def threshold(perceptron, x_1):\n",
    "    return (-perceptron.weights[0] * x_1 - perceptron.bias) / perceptron.weights[1]"
   ]
  },
  {
   "cell_type": "code",
   "execution_count": 18,
   "metadata": {
    "slideshow": {
     "slide_type": "skip"
    }
   },
   "outputs": [],
   "source": [
    "def plot_perceptron_threshold(perceptron, ax):\n",
    "    xlim = ax.get_xlim(); ylim = ax.get_ylim()\n",
    "    \n",
    "    x2s = [threshold(perceptron, x1) for x1 in xlim]\n",
    "    ax.plot(xlim, x2s)\n",
    "    \n",
    "    ax.set_xlim(-0.1,1.1); ax.set_ylim(-0.1,1.1)"
   ]
  },
  {
   "cell_type": "markdown",
   "metadata": {
    "slideshow": {
     "slide_type": "skip"
    }
   },
   "source": [
    "A function that plots a perceptron as the threshold and the data set."
   ]
  },
  {
   "cell_type": "code",
   "execution_count": 19,
   "metadata": {
    "slideshow": {
     "slide_type": "skip"
    }
   },
   "outputs": [],
   "source": [
    "def plot_all(perceptron, data, t, ax=None):\n",
    "    if ax==None:\n",
    "        fig = plt.figure(figsize=(5,4))\n",
    "        ax = fig.gca()\n",
    "    plot_data(data, ax)\n",
    "    plot_perceptron_threshold(perceptron, ax)\n",
    "    \n",
    "    ax.set_title('$t='+str(t+1)+'$')"
   ]
  },
  {
   "cell_type": "markdown",
   "metadata": {
    "slideshow": {
     "slide_type": "slide"
    }
   },
   "source": [
    "## Our perceptron in action\n",
    "\n",
    "All set now! Let's create a perceptron and train it. \n",
    "\n",
    "**Note**: Normally the initial weights and the bias should be set to *small* random values. I am setting them by hand to a value that I know that looks good in the examples."
   ]
  },
  {
   "cell_type": "code",
   "execution_count": 20,
   "metadata": {
    "slideshow": {
     "slide_type": "fragment"
    }
   },
   "outputs": [],
   "source": [
    "perceptron = Perceptron([0.1,-0.1], 0.02)"
   ]
  },
  {
   "cell_type": "code",
   "execution_count": 21,
   "metadata": {
    "slideshow": {
     "slide_type": "slide"
    }
   },
   "outputs": [
    {
     "data": {
      "image/png": "[encoded data removed]",
      "text/plain": [
       "<Figure size 648x504 with 12 Axes>"
      ]
     },
     "metadata": {
      "image/png": {
       "height": 494,
       "width": 639
      },
      "needs_background": "light"
     },
     "output_type": "display_data"
    }
   ],
   "source": [
    "f, axarr = plt.subplots(3, 4, sharex=True, sharey=True, figsize=(9,7))\n",
    "axs = list(itertools.chain.from_iterable(axarr))\n",
    "for t in range(12):\n",
    "    plot_all(perceptron, data, t, ax=axs[t])\n",
    "    learn_data(perceptron, data)\n",
    "f.tight_layout()"
   ]
  },
  {
   "cell_type": "markdown",
   "metadata": {},
   "source": [
    "It is clear how the Perceptron threshold is progresively adjusted according to the data set."
   ]
  },
  {
   "cell_type": "markdown",
   "metadata": {
    "slideshow": {
     "slide_type": "slide"
    }
   },
   "source": [
    "## Animating the Perceptron\n",
    "\n",
    "This results are better understood in animated from."
   ]
  },
  {
   "cell_type": "code",
   "execution_count": 22,
   "metadata": {
    "slideshow": {
     "slide_type": "skip"
    }
   },
   "outputs": [],
   "source": [
    "from matplotlib import animation\n",
    "from IPython.display import HTML"
   ]
  },
  {
   "cell_type": "code",
   "execution_count": 23,
   "metadata": {
    "slideshow": {
     "slide_type": "skip"
    }
   },
   "outputs": [],
   "source": [
    "def animate(frame_index, perceptron, data, ax):\n",
    "    ax.clear()\n",
    "    plot_data(data, ax=ax)\n",
    "    ax.set_title('$t='+str(frame_index)+'$')\n",
    "    \n",
    "    if not frame_index:\n",
    "        return None\n",
    "    plot_perceptron_threshold(perceptron, ax=ax)\n",
    "    learn_data(perceptron, data)\n",
    "    return None"
   ]
  },
  {
   "cell_type": "code",
   "execution_count": 24,
   "metadata": {},
   "outputs": [],
   "source": [
    "fig = plt.figure(figsize=(4,4))\n",
    "ax = fig.gca()\n",
    "perceptron = Perceptron([0.1,-0.1], 0.02)\n",
    "anim = animation.FuncAnimation(fig, lambda i: animate(i, perceptron, data, ax), frames=30, interval=600, \n",
    "                               blit=False)\n",
    "plt.tight_layout()\n",
    "plt.close()"
   ]
  },
  {
   "cell_type": "code",
   "execution_count": 25,
   "metadata": {},
   "outputs": [
    {
     "data": {
      "text/html": [
       "<video width=\"288\" height=\"288\" controls autoplay loop>\n",
       "  <source type=\"video/mp4\" src=\"data:video/mp4;base64,AAAAHGZ0eXBNNFYgAAACAGlzb21pc28yYXZjMQAAAAhmcmVlAABofW1kYXQAAAKfBgX//5vcRem9\n",
       "5tlIt5Ys2CDZI+7veDI2NCAtIGNvcmUgMTUyIC0gSC4yNjQvTVBFRy00IEFWQyBjb2RlYyAtIENv\n",
       "cHlsZWZ0IDIwMDMtMjAxNyAtIGh0dHA6Ly93d3cudmlkZW9sYW4ub3JnL3gyNjQuaHRtbCAtIG9w\n",
       "dGlvbnM6IGNhYmFjPTEgcmVmPTMgZGVibG9jaz0xOjA6MCBhbmFseXNlPTB4MzoweDExMyBtZT1o\n",
       "ZXggc3VibWU9NyBwc3k9MSBwc3lfcmQ9MS4wMDowLjAwIG1peGVkX3JlZj0xIG1lX3JhbmdlPTE2\n",
       "IGNocm9tYV9tZT0xIHRyZWxsaXM9MSA4eDhkY3Q9MSBjcW09MCBkZWFkem9uZT0yMSwxMSBmYXN0\n",
       "X3Bza2lwPTEgY2hyb21hX3FwX29mZnNldD0tMiB0aHJlYWRzPTYgbG9va2FoZWFkX3RocmVhZHM9\n",
       "MSBzbGljZWRfdGhyZWFkcz0wIG5yPTAgZGVjaW1hdGU9MSBpbnRlcmxhY2VkPTAgYmx1cmF5X2Nv\n",
       "bXBhdD0wIGNvbnN0cmFpbmVkX2ludHJhPTAgYmZyYW1lcz0zIGJfcHlyYW1pZD0yIGJfYWRhcHQ9\n",
       "MSBiX2JpYXM9MCBkaXJlY3Q9MSB3ZWlnaHRiPTEgb3Blbl9nb3A9MCB3ZWlnaHRwPTIga2V5aW50\n",
       "PTI1MCBrZXlpbnRfbWluPTEgc2NlbmVjdXQ9NDAgaW50cmFfcmVmcmVzaD0wIHJjX2xvb2thaGVh\n",
       "ZD00MCByYz1jcmYgbWJ0cmVlPTEgY3JmPTIzLjAgcWNvbXA9MC42MCBxcG1pbj0wIHFwbWF4PTY5\n",
       "IHFwc3RlcD00IGlwX3JhdGlvPTEuNDAgYXE9MToxLjAwAIAAACUFZYiEABf//vfUt8yy7VNvtguo\n",
       "96KeJl9DdUQIkR0h2n2IA40dS5T4et9iaWyNlpcx3tP84jF6zfFFRprgLhtieZVLC1CBA+7z9lWZ\n",
       "1CCrRJF6p/LPf1NyI/jLJY48PYyOS2oTNVNRaR3k4RX//XFFsml2cwuXnDa0/3ZHwLXuhBGXPRMv\n",
       "GXAHR/+GBLGYYPV0jNz89sKJXpq+Z5OY97lGcKzzuyi5UtSRePvn+VO7t2FxyhfUKJSAGgxPk+pM\n",
       "akiTPeo6153SCJ6Y2shdiA5fBaNnixtGiTMu7Lj3ehPw2HN5FPkXswKWknfAHtahDKti6Ji+wWl/\n",
       "yUgXVKWXtEj+gNHegEGk7vqtyjgddQc3yg2ubM/xdqTK19p8zKA2/0GwB1yTOWmh1a++kmbm3xNo\n",
       "BaGsMACCrnbuNM1mzc7zi9dDKn61q08wsyd9NaVGvBcMh5m2BTmhYhp+UfNs7XdrN73/7fFbym24\n",
       "r30JfUXO3eDuqgMRLfSa2gGzCNyjOE3rF0EZfmul/lgpYkF2ecNfn+xXfYltN+Ycx27g9rGKAZTc\n",
       "O+kxxaZYSHrY2dJ0f/DnAcoqXC9FFu6aef/6AYN946wESzLzfuakzFBZIlgGGEWB3jlGlFsqKXSR\n",
       "aXvJlivvpB6RkVp/kEXSGmNnES2cmPvOH6qNbA9MIM4IGc4XTcQ8LQcmYyE8nmqyfQ47yPp+Qa8g\n",
       "PylkgBmQw6IqWyv32R6iGBKV+NgOJU7p/7RUvEA+43tatT1RMGeC2/TIpE4uvWXl1SdS4dT8fokZ\n",
       "Ob0qQfjYtfqCM1AJe9asvq40qfV8yVWzmwHPF5uo0Wh2NPxXmMFfr9TgHKUoDdFakdMzKdMhghbc\n",
       "hgAEYx2BsSBGZ6Ayf3VXfvRWLzrt4rAs7W7jpVK0UiUarymd4DhdRDVaro6N2oeuABl6NXODInSs\n",
       "0ksIpgOZpLyOKJocZWtpXIrhrEKBPC7oESeqRWPzkgj59ziVKKfIR73tCZkTiO2f3Of0F3Fc/5l2\n",
       "vnqlGGrifdK0JB0jjOAZ35AamlSumqxS2kvtKNZfjMdL3p0sX8+BeZCIZiCz2lGDnl9YyD/TmWVW\n",
       "4euJYHmMqZ5NLUf/fczioMjk1jaZGk3RpM6qJiZu3reRmtLOhEAncCjPrmyx+Pn4xBBH/IHfYhcV\n",
       "zMcpBsNOLksiNvbDEumn2TVzrIPkM1gnVcfl4/qsaytPPGmcnACNFBUqvJfE4DA1d19CH9QcLoc0\n",
       "pBC0d7VnPiBil2uGvM8IMuDJlpc3e9nVTYsevNmXbaZJkL3LEA4YtwRG4D9kJohPSChUJDHIus6i\n",
       "AqVfxkiMXacrykngXFVNpb1IluySI35rI4J+4d1Ik93ARPbZUqX+QmzZYFZUQBGFZ1HBB7BwKf5o\n",
       "ikzFCq3dfSQo7CipU3iB4G/DqtGFAQ9RIL/uSkEIHWFxNL9GWE0oKA45zpl8LbCoZL3e32La0O4Q\n",
       "I5giRQNwEb/fjLDLh3S81RlrFmD0FOxq/9ybZ/QQS4htWkUY0vNgNkC4t9NBRcR+OFYSfMZVxSr+\n",
       "K0xZJnGzVp8bgGjMP+KQqk+YuIxx1cg3XcfN+7if9nwzOzT4YTah8DAwkFAHbzJoaHXr8j2Lkyto\n",
       "MfiPgQLDT61mcDK/YCfM32McbeAdpDRvXQg56/HN7xoop5M8f4mvfaKc4d9NsV7JJciBPxxpCc6f\n",
       "PncDurJ8acoH0XAQT3cBJBLqO9SgNeJpdQCeBh0kmA3NLBCT4dwv+slLNwx6CFA8tyABiyGh0hjM\n",
       "Cd1LPf1a02wYHP96n833tz/+QlBFbRqsVyfksWuOBmKDQZq5Z6XJDN/jyBZOiRmtwxKm9Tuis0lJ\n",
       "MpSYgHc5tJ8DNyDQgSeDt5AKpUrpmQpEfLh/rJ3yE7/MLKfWLcYFjysDjd0++/C7VuPfvUjLgABN\n",
       "xob4oB6oMXFqco8zYzA6q6RKfWqd3qLatQDN02sK6qpkXu9XppmWpsUe/lvATYsIfIvzp3Eufzcs\n",
       "pu1UV8mvBQuNu4TBWf6GBM1Im0cDGi1gocSSWPiWP2+6okUIcZKlvUHAIKn8oBit93MyI64Ecm9a\n",
       "XaQIKFjkYHfcdHZes8EphYKq18mR7nNNMH5j762L76RL17RljaCVmfcrMXMfiKbMvbB0xI/V26A6\n",
       "6xeKL6uTDVAOmkg5S3l6uCMeeWtw0hNptXQlDG5/xZIYBy1ixG27/enIHH0p/quRUwoDo3O0c3qt\n",
       "n+eX6hqWQ+FP3dj60gBHNlZLLonsipZEjZj7KldM12NnHuEDGeOlIjs5AsMqQarzl9KGIH22dTeA\n",
       "GUxBRTfvINyQS00ju5z89WZkEXmiNwZ1YxgymsnGiWKQmqPoO5VaX5R8/O698CkSBlPE7adlVC7U\n",
       "ls8O9mz4fCfPBFJVQQ1JYtT0xW3lZ8tDGzHTYUehD3QLWrXmI6p2G5EyDZ8xyPIJ/HIPI/IPNkR9\n",
       "u7/Dvo4ylp4ra3H0fZskP2FKMoa4QfGLBg5+zvZoqei2syCA18F//vEd4hs14IK0tFrQuRSC46Th\n",
       "L/jxlpgoifLRI2s90BCe+smQMz0yvSRpKa4YxWuGe3YeNcrAfq7gYfRHqZAsZsXjdCKrtNywBm2c\n",
       "/MgR7wjVaHkAkmcQph6Tu26lCCslUOhaJPHn2MXMoGzgPe39MVu5DnJSE5/dWtrzsDuZ2lzbgtQg\n",
       "lIAlZjWBUbQy1Akoq74MRyoAS+Wi9rOHFm57yUpvUJsosP45ONPlS8H9pDMKV1MCwIgrjXupPoXG\n",
       "EknaGJiVqUjYxW9P5LtBdpgUFM0r4kYEzhHCBcqYUp5nNiHCIuT6jL80/8A3JJomi9VeNQAAazn7\n",
       "2yJCjftwQr0Bdj4pM8EdpFBcqUXGQlJx5Ki4/Cjtc75vKNBsDkc5a+0qG3e3L0EIk5xl1jJ+6ZJz\n",
       "fLFKYjPHHgzQO3wdabOm+hOlwB9CJ0HekzyNRDpOVQiuivm982Zys0lyK82g5kM2agIYEXFBxm3C\n",
       "H1VnLOUhAyYTt/WTWcEn2l+qIkyqKUGu/9uMvKXukVSCtOGyznpBvfwinVmt6oQKT8gHZdT1fww5\n",
       "AH5KLWlc8RKOwOt25VKSy25pKQDo2UTQ2vWJ8+OWelW/MVNBvtfFz3PAdyBaKJYpHmLV2uwqaoZ3\n",
       "KZSgATRhS5m0Jtga843U9e11DYxXKPtVfZON2Q1iVB7yc0OLS41cbSLgjRzN6+AB8/Ica60w7+S3\n",
       "kP77u1kCL37Wr2Zy3JHcMoTE87MaKDBsRMMNo85iqzmFZu2glCSCnz3KdYgI1efRA8Et5EzNuUav\n",
       "sVfr6/SNKx7LASJr1P48BMkDNjfklavUb8z//8ovt1MD8FF147rgz72v0QH08qFVaStiUV8frbkQ\n",
       "BPQ23ky66lBeeDRavEA9j5qYqPlJDCDK4w3rLd0G4ipthMHrt4h/vHeQ9qZjXljxBEX27RHnQeLC\n",
       "SydVmQXatxk4lTmwU7He2A4quM166uuwRpMfcDus0t3JQISrpEn7OPM+Rv/O+anaIHuc9tCXzYrH\n",
       "bZiuwhG2MzOhSh4qSbO8EHerpd38Iscgvc6SBxysRqUjw4mnvI4I37TJsCRf8C/9K3sJ0BfMopdw\n",
       "U3HWx5Al34PLAl+ktXbJjqPlAlJM1njGWM+ZXtu9tE53tDUYIIkvuhNVbojPsa/LJVset6o4ueSE\n",
       "a+nYomoFmL/Pz7Uaoq95Uf+kPr8KFdvYeTvJB66nY7uvsifmxwtpGaJbYHRpaJYvh6wEF9qZVXOy\n",
       "1rYLndayUB0oEifW6PpTOO/etqWCh5U6U9tsf1X2kbZKzwjcW8byb+wzHx9qEerYcmORIvVU4IVD\n",
       "o0cZZCSGnVy3kmbWp+/8UhdsGZPKjtUHkvFCHqvLpMKpANFOoZaIYEj8ShnUdJKL/OxhWP5CPVyt\n",
       "R4GN3NzlYAAcwA1fQlus797X0DqbCbfGixnniymqJu3VxTfmN/9P9t44R+lgIKwjcIascLdtFnNE\n",
       "poXY2GMTTwiaorKdEZ/o7t++uJwfUhxapjmdHo7u4Vu6wPC+adp4mpcUXkSXOT8Du4FEFtMtAV8l\n",
       "GPMauAZ88ADSTGGLwjh7JCk2F2zqr7Ggd/fSXz39gW9zpeITytpw3Bf3HN0j4PG86ju7tfYEOSoR\n",
       "Kb6zviLEwODCZYqzv+ukKrNeftttjLsNGX2ZGv3zi0zkhMJClX98kWVfXopE3VJ3boz6WVBtAzbX\n",
       "xHJNh1m3WwNGWUM50OL0PqL/cFm+/P4NhsPOmpvPF7PjQ0Y1X9jtsU9LupvzOvqa1CPhMPeVh+7p\n",
       "NkY1UzO7oZzJGdX0KU1PmsN7HC/5pBbPTEG5/LUIf50SDQznrgJFVFVMLGJz29RXRj+tSgX5D2cN\n",
       "bPRy5+CqX5E5K/cfeU/wJ2ilniT2pw5o13xBr3WPIEpS3w8t51+amvWArQeDlOam/CFula1TATHZ\n",
       "u7e7zYOvWhJAawdpHELFUtnz/zxEhLmJ3eyzNHxf8G0SWhGqCV8E9iiroEoevNLToiG8ZvzRH3MM\n",
       "6TxAU1VfgtkHQ3w7WNlnMqnb5AqCXOJ4q/5RS0+an7ymUuaN0YGdsX0fso9QGGLs6cmOepHflSZH\n",
       "UsWrb0dyAnkSBlmkfMkxO/UrHR22e7XIOn5/WA2VZFkxEl0ojYXR2PSVihsokfzhI7zQ//YU2Lxw\n",
       "rPqiOjMRkHKoh2nO5LiBCMZwXQGygd6XrPKjORWu3nRs3eyXKjWNe4Yy3YylEMpPFeFtd9CwzxeJ\n",
       "KcSGsdXl1DT1bIuyV8A2Jw6rrEIp03ZJtdun+YQukmdUjiORjR4+GlyBSq8sqs/dlxOKAg2Er+gU\n",
       "5/oLPKpLb0ELqXBJ6+er0xslS0KcfZjkJxODiJPtexjiUKO+bJmfsnGMPWyxQhCKFSphEdRdwM4a\n",
       "A0p40SyGodes1O5mXWW+1mKmgWKzJIC7V7lWAenxf9s+LEtOEAxJgMPiggKtDJE9wTzB/zzXBJtC\n",
       "e7wo4fYnaMyXTvsc2E23UJ6ey+LkVLarXHuxxDiVMDM2bXb2oqSrxYXAHfk1hc8E5b22Cca5NHfE\n",
       "To9vdvS6ShDhsU9bL1qGm/IPsrutpyZLOM8GZ+dwN4BXAESG4r0f/LCnlbUP8lb2bwDcWRjFRrIx\n",
       "Vf3P8JQDwtpjvrEysLBepp1WI+JevcHomWzaq8a9O3Jfth9ddFVSBalh6rtw40dCfjYEQATe84fo\n",
       "Dp53ZEHNkQFn4qnYSVbP/////rcGnJP8p4xh4QxGjnsScqEhYioAd4Q9H3eT9RWxgpjwNYIQxafP\n",
       "N99uU8R8J6v45CtoxxOHyTAVg94BjeiA2yHoeOtb+jusvIGY3lin6euQ09L5/2PuPRfutgftWz7X\n",
       "DCpItXkVomRHBUpYupXCdg5biLI3H3cOvb43YJTQ1tSBtv9oKfGQoPZM5B4YOPBKsDJd6pdJcIKN\n",
       "DJCx2Gy8jVXZKjz362a2D9I1vEzyR2dQGSet+L10zexevjMK0uvDft4ai5+MsEfKyoqLkZyVZB84\n",
       "P8mo4JjQzfaXXoTSpWGX2skgyWie/6DaB8HRjyZVSUqDV2w5+Puy9NxncImt3yJYXY7v9FXXLpQp\n",
       "2H6+braNlmEebSaXRHgi3xbIJSg9QujJvG167yW+vO+p8JHBBgyO6AUd3fA5ZjOiaF43DIl6TbMJ\n",
       "BnhmlJZCrZ6eo00K7XnMl4P5cw+UrCtR6vTg9HPpwCkX+DIHCqrLwYQ8NS5EAT5GlwKIoblICA3+\n",
       "h6W9pDchrUu+Qa00hLtJ1INUVim6pFGwczEdM9crmgq9rcBC1xphLxow3XSKr3jXoiMdaet+Zzkj\n",
       "m9WAAtnoePpLcJf454oZMWCr1xGKlO2CPkPFFhTX2ozFHHkp3G+LrkjLV0bJlHPM5LNkKQGJ1BRQ\n",
       "oAMC7YMviz8cL4QJ4oYOexYLzqG7WLZh6+7r4INg31HMk4nOJZoZV1AouwU2ockPooYd9AGjv5Z2\n",
       "lui96q2nh9Khc2nfaZ6SRaJE/KYOkE+Pl5fTW6p7VcUgAAp4rUpClKaTChgmlci2zFKvlm1WQTj4\n",
       "Y7OZKSaifsEeGXI0v0DWFjLBo7Yldb/BM0pu0NntsKAVUSZr4PiXc+N6tjAOSqfG0nJnHDjVzXw/\n",
       "VdbDHDdpJFPT6oSZf5EUByAvbGqLsc1muxP8VLRfWAoptyDHm2kx6phyi531z5/tMyaoJ/ZRRdBz\n",
       "AvWIEKCX+z7vc5Ehax0iZRuG4/jBkh+/BRXVG9KlDe1J31BIOBoqlcNG/zEXngcYPPJNK5Ij82Xz\n",
       "CSjFXwV0iGkfeDfwY/aD/ZYK6CAjso/Vpz9lCdirnCXoZ9Wjh0eNkjPkYeRJBZxpgwaio7ZSFaH9\n",
       "gwdndhu4rLjq29dOQq65BdZEcBWLFyPsXbT8AoBEnuK9FvQ+dbjhz6WSN6M4NODIxhBKeiUNkVEB\n",
       "ZYLqM5xAsX84YJFkv3PG0vNVsQfaAA/Oxchrtr03tONafkA7Dc9Aey8X/KFXqqgdbrNFaHNE4cnU\n",
       "DmrpPsrcl0IZjFpNyTWnXMTH8Z/1O9e64dwNtr1FsrgFytWpz0ZBtEtLZi8h/4Tu0WQSBM3WktJM\n",
       "0hHxnksk9FCvz2ZFrwdvmJOxgTqLgpqF2G9cbS+3eOT4LBiw14VjbXdNQjAyrL5R0VG626rJrJSV\n",
       "pCov+6iAOKffzf85KgBpaZNsWGY918vVKEbSfW0rCsQG4f1am3q0cBWu7wAohuErK+4lKlUTBhDd\n",
       "SNzKSACMpCYhfFAaHPzkUBkBX+/bxMuRNb0LUB48yWkkt5rn3S9RKPA09wJEzbAoMlbJFoIXgBLo\n",
       "RsO0ox7//OkWoYtZMfhOX96sr2HmYheCWdF+fcf4bi6sXU+yTGYdV9Kle+sWCKPwx4P5WvAaMN1K\n",
       "vj9Qw3qn8e25lxwHSiU0fNmwzeaoe3A/05N1aZHp+Bgof/vtDbraRyZy7Vo32IcrqSQl3QLQIjpK\n",
       "XOjPpZEvxS+Qn/5dEpUnIatmAMHaC8yajb+74p7OpbMWj9wAlm6DyrxV7KV6GN6q3faAZsb73+ck\n",
       "NZJGbJarXbAKw5y+4mCZYV46dkTc8vxUz53V0899+2wDOHGHqgEQOJaRL2f7zm9gCkXFEyfeIVHL\n",
       "Cc8R6fc6jZeghUySk5zbAmwPSUHtx/Iqch5ZHhGGcPFb3D4uRTBV+n1zkdSDZUaQqYZzDLwa/KV5\n",
       "E8fZLeBBfe3SblexXKoGD63DhvdxEzoR7goSiZC2m/kWFmOxOmleoaf8hUophKmdEsAqfHdAqbHx\n",
       "f2t4QUdnms8V/UO7JkT8N2SfR2oTlSCwuCsmROXKzmSnQdUXMrn4gU4BC5vV3tlDOi1U+i02k8Ta\n",
       "4z7+yBp8yjMoxNujQ2Go2K1y01qNONpTOEbYB4ZdnBIFYGNpLY98cPabsp/nT6eb6bPbycgft1zj\n",
       "ouK4uCYLwFLVpJtmMgnD2+T3n1n67wDnaQgkqIPTyKZawXEn8YOB4MTANlfuHjIeEvHAlEw/WdUV\n",
       "fpyF260nUQFrPiN8Vg6EQKpbVym72NXPqFHvPen8V31lGHQn+whN13wXbZKIlJ5dADN4L1IYyE+u\n",
       "z2XaKVqa9wIAANasWXtIKxGcJTpB7jm5n9E2HPO18BsDCtFJfuDMpOB70Y3yjTMRLSEdMMrp2WhU\n",
       "2c8k64yZyWJvONm32ZeZn5IvrX6SG4JmPsrZKM3Dg/MVA3wUTPIJjDT8PtPYId1oQoi2zJLXbErq\n",
       "OhTHiQkNk+rk//1ST2uVf7FOodtZvdGyAyuJ2AZFYGTGPQ3zAmAGRukFPgpO7rELebE6oE8462Bl\n",
       "Xc2TXDTK9baIyChfaUXcOLqpQAGL/WSUH1lyGkSh/S8PxmFo3X4+kXCDmcdLQiV6Sb4bURz2R1MY\n",
       "SQXzrEptYsH2H5XDN80GMmmJDZFWmD4RoV0XOPgLcw8ed3G3Fi5Diw5AlhLqkqypfcvhKDgXxABV\n",
       "lIKD9/VE0GVpT3dBC+1vEUKsCTj+MuoAEz6jYVCE+olkRXJuolNgextoOMOBq8/9bCSfKEWOJBsN\n",
       "9Vp+3pr369Zopqh+IqOLuuooH8NAtkeITMoIdUFPXBn2ha+lovmBBQMzPY1Vrf/WIO8xOnqRk/pY\n",
       "rfAh+lS5rtC5eyxIIN57tZX6E8re4aY+bKjhJljePOHI8rssQmHOI7hp16DR+z4vgipVwnwA7ASU\n",
       "VEgFHFbVaiLmBFdZWVTMRRcADI/Zb+et2Ai0cAnyoiiiEk4V2ZpekFtba5vK5dDkuwV63KG+BB0l\n",
       "rZB8kEDpo/D+sziul3XyK36RWyzJZeL4iQ/0LfyEqCdKef+2fP7S3B/ewIS0qe3HOk9fh3sNBvUp\n",
       "klmHgQ6HhryrbSkYPGb5gbs5ECjBnUWzSSFgnmwz3gqf8Q6FUhndHyMuJ23KsS83Pp1ZFgoEso/J\n",
       "yW+GBdHQIvc4QpXXRK0arf5qUEKWTg68hSiVIlAfzuK4CsOUkJn00u16D2UjRWW8VNtGZdaIYi4y\n",
       "7ZZsyK9kMuOiaSFGYu19dbbWKxoyBIh8WVPnBI34kym4NT+vU8RStQSf6gc4IRmGDZ1klkuO2Zh6\n",
       "AYeoY96HAKdawBE/zn/+G8UoJViKD9J6Fg6HaTFF8880hZTvA59DgFZoN2GFWDQUsfReLORiKn4a\n",
       "sirBREPjEJADSzqenij/macUuDGhBG+eAbPgm6YId69ei4TRremix1uNz1/W6DSiUq7sQAH6fMl2\n",
       "Ic1XoCM5n5Hav6RkK7YDcOsMHe4Yl/3Syxk3L25eTtQs64Lbon3rYHbZEkDH6/CQhDv+RnNDzbZE\n",
       "sgcsocDpfR0s/7EAbAnDXkzvjveNhCPw5ac4OYHNdCVzLm/fC8+wcEAJntKA6VuVX/oTtyDHPs3S\n",
       "Us7QCJ1/9Gh9Zt0bDRwQAUaUnQWYvOAV3zEp6SqFPQqBvOkj7rETFuoH2NzMficsalLPC2kOVomM\n",
       "8l//vD9KgGpRu9bAZymtTij+kxmoWp80LCr/WTZuzx1V/QbUSRoX28iEDiCldH+FVUfZAiG5usYP\n",
       "3ihYd01Seh6Z3nkcZhjSHWlDlsi387mE7gbY4/VB6382YMNZGh/BCA5aepdxcUd9/pY9Pc/etD8A\n",
       "kKC7kf0AcEyqxdXzEil1VWMo5gdrOuFSdybAxDl5py/u0O3/kG+NivtLdF57m69hfSRMAty1xFih\n",
       "MZk45IInrqOZc3i3MpTw/OUp12XdTo+4ph2Gh7GAygj/+7gtMSt5uGibZPMv26my/h6VZe5VFvJv\n",
       "u2Pvt0NWl6nlUACKyRV+4Dsc5xzW6m/v6wrbox+abhwWUpq+g2HeKphBKlrpNWwM2nkVO7or7Jp+\n",
       "WfYkxphQqQfDC2QxLxjgbWVGUmo1mJSHG+f66fhwsXGRZYPn3v0t0w6IXXDfSfEYvRBFwNjFlV3n\n",
       "5JCFnBisF6k+fGrcw908fBhwvNDPlazgyQwPK0/o6Vc0iPgNFcr3giflDrYdil3fxk/3vgRc6g3u\n",
       "Hqm3SxaLnyLq2CtNcz/NHVjs/MQNIE+aB/7RkBw+7ljAEBMJhtc/SYdWbFBR8MaMQ1N21JRxjXSS\n",
       "XD16Zmr1El41yT6eKKv0h1nsxcV4BwUhmLhOpoRvPH2z2hx+WAP+MMY2aAJOGxLklv1dtUPyboP3\n",
       "jrh1aTXM+1JeG8onljG9mLA+yQip8lTrqhAIIWQHPu/WWsmi3+m8gGxuqsKqmkPgOOa/f5OQQ13b\n",
       "F7oRAWf8xPy6LT7b5Rv8wzBdWPVMb92uPErdYYGoNc8ia2ZLHXQi27f2eVIUiMi8OrUhLlOR9NqV\n",
       "m/tgfutvjfXKp0i8/VOIMHSvHgwaYKitUx5TVQ28LeyyE70jjd1meK3uzvWrMi8AFBmWoSj0rIpS\n",
       "PooIxCIFgTP6CKvnHJP5+8lfip+MAVHWY6tFa+m404nHEmMGCavqoAeVJOhgtdE/cTUzUEpfvZtL\n",
       "U9MA2NP/ZtCidf8ygGUCKmyGGXdTH7dU4J/jk42o0oqu8SFLMEyI7RrJNDU00IMFhXi7CfM/vP8V\n",
       "GeMsTHa0ShETsPdrbYce39v1LVVxSUI5iUmwrCH1oTI69di44tDc0ZPxnYNUsI61Cw7ONEqOk/xi\n",
       "6c3JglfT8c/r7NucpXWu8EGiqNTwjby1ry3FR4SFN5uiGX9eJWFc78S7BTenn066BNwc+Tb58pX9\n",
       "q9opdymoQDwbWwRVL0XQbXGhHs3jlp3NH0Q/l3KlfYxhgmVM5IqETUwLK04XlDMp0UYJ+8vmVC4e\n",
       "9m05RAZGUFJrJkkdo8BD6bxvTAvoA4f/JNSeFbMZfrG6c1Bwz3IZnBG4ILPYhVruVUgYDRaElL0z\n",
       "8JZXx609Kcomap6CyNZlM7q2Usxhg5pYF/qzM8mUBa7ylHs/oxGy9/r6pg2F+jwsy/mEDJFDe8Rh\n",
       "+fPX2XKa7ZivUbWN0sGd7/60M35r2isr0ppXc2oRoquiUNhkeS5fsNZN4Qt5k4UABCOeDWdW8SyD\n",
       "zryAXe31wxIg/MPuGJO9PM6gblNYbwEB8kCM5IH1285DJujfrVFTKtdl4iXQq0Grl+Of7UM0phXv\n",
       "/X3OaNvEtJAjmTMqmw/zXqvVGdYWEfXTfKglWU/HijeSc8kDTTdJRQJEQGl1C7mHHq5xiV7a0cbx\n",
       "86v28+lnUSvRo7nKtQKDqVU6nRn10jQHx0VHr7CC/y0V7QlVLjRVXyuxBcbJBP6V/N4NPDjGgKOU\n",
       "S2ttAe8ipvBxn5s0TDKQxUVTFol3z77oyJ4o0p32UALDJp+eAk7sdcDuNg1WfrrTZK/afS2hBBm6\n",
       "BGjas/LRmD8E1z5Fjwoz5qknRQNnrn/g/zcSRzbcp2DvbUIt3ntr0T6kbOJRCgw62r98/QgvVuO1\n",
       "mQRm1MfpqfRRAXJY1+I6BA4RbSOxXnayV3oR6KDapSG44rSnZayvqRbb4QH0YP0cYlfzswGGG5A1\n",
       "mj1w9LpgM+iNppOIyLMk9sngi1aYz8RDKIXWQ6/bx3fj/OWVsHMhovc/n6QSVQqn5bODbLb5GFVe\n",
       "SSpqYCzgFCiYJTfrXoH3efn3kQNi64WkAePG+61cmNqEkfcOFyLMnkOL/UWIwqBjkbjT6fEiHnNX\n",
       "pB89zoUYcJEbsrImaYPGxVe7XmiJcuBjsN/ltiJXjfm8k9XYV7TMgOEEI4WdYSCdgqaSOO/2uV5Z\n",
       "uG/TXHvnOsSLtV4ntamr6Dq2kQ+SYz/uP6/4YmbrF3OTA/lYcJVG1mVmwF2C1dP/8eUBTvGElVyB\n",
       "SvYxBPnX//SZ+0b8RKvFvl3LIP3QvHxlH8/Ov+qw7nxgdAS9Zph+dh7b88BditqaV2n0ebhmfune\n",
       "3muEkZbReix7ksRYpSgx1lHprLPZtjt9DZ8+SLGcQYiZc6emwMJGRDNUeUJZpCsWG3DeNiUXQ1hb\n",
       "akxrS81idh4D4SzCmaqcI1/+tQFB2PkGjiz5eSb8t0AuL6Ue30J2aoJELPz0ktnMS/93uYw2UfAI\n",
       "JpFt1KM7Nm1zbqYtTfOR9ovTbLo79JDv/PfWNPmpatBfLRiCgivHJIDvCIaygFcd2FUzfU55DC2H\n",
       "SWFQu42DmRGvLeE+uiJfL7PWf2w97A8o8ZvxhYRyZGfchUrLG/DmDFjKl60Zeajb5GqeNY//AfwR\n",
       "1AXUm+9YtB9z1MfZfGxUz19EVhm/e1vJ0edprCM2vl/1/cCBauFVBH06e+BYZHIZPnHdUVQpStVV\n",
       "GYY5jas2it2ZFk395GEJPlfi7uYPj5S7riYyrmd9R4VnazOmEo+7rt3uk5SXM7M/e7YfgFu0a/eA\n",
       "oz38PsDibnriHRiiW7G4nkCuK8K/EhYciUCUN4XzUuAIn7JboqZ2mmPumvT5tCAqB4CNbb7oR/uI\n",
       "+QnFkThmcWI0Xn42UF2C1/lQzmqxxS/gNsa1LN1rj3hj8DmTG3QLSCWLU1AWqtXfskxbbANWInas\n",
       "ho6QSEjaoKvGs3Gsn/TAtbviTiKsL3yHiGwBVXqQ89lVlSlppjFFrB0L5EUsJrmlaIyNXa1YQ5tv\n",
       "bSeZbQE/uHhI1olrHzB2lY5onBSn5fwya3cIXSnAx2EhR2JX9fHT7U+aj3DqXXsfQT7bvy26C75a\n",
       "RxEv+2GKQhFILG8nB2GNqY7kgyj63JkjV8iy6WVwmd0gaBLIYGcc2e4ScDlIefwvXg+UMuzT1fFy\n",
       "p98rQCMXFDTqzCRUvWxmVa5R4iX56at6uOhjori+i7FwUbKrIXdW7MroiSGOdRsuMZMmMRTEh+v0\n",
       "GsmMsAUQBe3nCwWxiweBLHe8C9ECJeO6l6Hkniz0WCOe08XB4ta73hswhXM+kIUF5rcOJMnk1b1B\n",
       "IH8lejStySiM9uEumYmqcOWCwVEvOUtIPudWUMUKv/hpfTaMSFfukPDUkhOgQ6U6D9OHK3GrrvTa\n",
       "ylzMQlGGKad/MwRSnyyyQFfUERojPCO2MgAyFT/iiIKQMtmr/+P77R20v1Sc7BMQw4JQSGTbhray\n",
       "+3/JQv/harkleCiHIwXgO48Qe+TpWA1FLKncJ4Tb5dACizFa7bt8a2RMhZvpiHXeuHQJmyAER285\n",
       "Bo7bvdYm33P5lNEHfq/Y0KfEovWHfetPk4E2ypL3+MlkQmmnSQPFfDvChpqRr1RI1RDCpM3tqcgz\n",
       "qRCZSwx5dP8B/ABUr2yrorq3QlXSCIcSYcZqwpvI0iRUSnPETOJGTcFeJGSOvZgPn4VAzVEFAAAF\n",
       "p0GaJGxBf/7aoub3pD2wkYlABl1YzGnL/o3oHgAkxaZg12iy1wmHAY36BjEuPuqlXNKTHJDdhsKf\n",
       "P4j5ih4ZBzfu7VOHRYhVycqQKXoq8akApwA9nfRWh8thbXdREA+7jnW+4styKgoWvRwxNkt/bvAj\n",
       "RFJo8HnsprydQCPDfcsFkVPW0vEXsKicZUn5rBjyi2lswTim/lUlClozHdRN0QeA1i0/Q4yQtaI0\n",
       "1d+iPEVnVnBjuQck6YxaC1P0hEAKjUj0evP5ZOIy0oMzzsn5k+CghJ0KBhz2EZJzsaPErOctt0Cr\n",
       "qbWUuWER1FhZkVruc+/k0YI10Uy2zHchx91yNLdWjaSp9TEIhTGbSnFpnMOb8v9GBOXEeislxlq6\n",
       "Xl3LZOGXIqYmDgnRI2iXurpncpZNUufJ2AisAeSz5GKqF/UX3ECOnz4aKjwQAH1of0Q8V0Qml0nW\n",
       "RcohmRc2EmvNgrzNM8GzcxiwI4E8bSEhitdh8M2OnP0Dsuw0hCpaoKQZocbTHHWVbsw5hQSoA3Vx\n",
       "3Fseyzkw9vzztegiuSXcZ+0wyWPpKra32uBJEv4Oyl+CvDM0jAgoWYi3SN8TriIgzZRvJ/akHFSU\n",
       "dnffsUpSqXxjvE0PGA3kGnsBW0FVJkvYHPDT1WHqh+RkyowTs5jBoAV51bX6Pg4+NuB8Pl5Yn6QM\n",
       "Lfod21/DBYDWg1kvs2rKxRIqS4gO0+EH0H5/E59pGnFGkFZuU/4W1Os2fmyo/1kNv177CvvmaQKq\n",
       "XITgismzhBJecGj6Tl5p+QEg8aEtrsOs4PTrQdYMwy4LgwJxtcWIQsT+L7rFVuzVRC2q6FI6FAZ+\n",
       "zeiRE4xZzIcrGP57n930PeeMsufbPHWQcICleXPsLjkLkxqZ+Y9zp0+k90sGV5m2gkS3ea37UpIu\n",
       "fA9Ew/9rGmJVeZmlt9swT/2S3wgc4ztWCWxJ2/+28aeVtMxk4ailPRvPZtqIVhkv6UIN/KFZMsVj\n",
       "3SIWcCgsd5RkjepqJin4ldME4znStymZ/0NJIECAOSgyG/GkFSGkWIgUTZlFT1DMn0faZoj4pqYJ\n",
       "pQ4U8cuWARpdtZbs8jDmSvGZDvJBJnsM7RvHOwaN1awuoQARzif6NdBBBkKqOT37rgJX59MjcWWA\n",
       "oSuhbVfmS7gIEmRZJrb64DknhwK3wy/Zr6sG7W4ohChowC0FmYROi+mC5WkVGnLbAKUMrAE/6mdX\n",
       "H77ynf6EDVyjyilzh5jVUI1VwOTgMaPKpANMjytNsZZQMcFAL99HWAjfM/rizx7IUBKwChgfFVtl\n",
       "UDbtyuCUX3ht2oDFQT8EEAmpfnlo57w6GVnb+EEQz0WC8nrbg3jDqokoXEnFItKXGZlr31p/kJed\n",
       "AVPJPFJ29jYxN/k28E/7AQHY5mX6Lvs3tuYj2zBm3daXLjEvkeDZ/y45GS44xW0uEu5lj4+4t8NZ\n",
       "J7htzU/x7DmyDEFDhdi5dV9Fx9QKqfW7Tl4GeTSGeP+pa6IauOJ7VEmVi/VXP5f0bLRicHEDweLu\n",
       "hQDNfnXdbp0GFX39kue6GSq/K9G9073FsiELU+tRWwciezgASfVdCVE/aHG76n1d/QzynlGNuIi2\n",
       "rFdMfwRuNxS2/2iyuRlJBnyJMMhIGV64oL8XSZPifSect+zXk8hBQMihR5Al3DTLggjW19urlT6h\n",
       "16wmdYreYb4NqMJbV5Zp9CwHSoxBFBTdlVc74+OdOt5iPM78AocWNvlMzIP018zjJiun7DozGR/r\n",
       "JyWAmOgLHTL0KZXpLC623e9DM24wrOdxT6jr9UxgdInwlK0BY9iweH/pzPdf5OO05d5InALgOzPF\n",
       "7IRg0/IZLV0lo0+ZezjdFN3f0N+tAD3459sPfkOp2doaHPdtvPo1fqr/19v4BG3vrvK56A9j1+nZ\n",
       "y4ng0osFiH1djUvPQQ7vHkBOFf2Ue3AAAAXeQZ5CeIKfAx0oW+fQN8kIsJbOyvWQgA2WI+CUi9cJ\n",
       "kcoz0OgTsXm+Jqlo9rOubdX8+mRkiE0sPTuyESl2uXrN+IDpWKwtMuxhNtFtT+94SsuowZJ9s0zk\n",
       "TcgiNJG238aVtO/D7AOGwXjZqqvj6qe4bhjJR2LDzB4q6/29TyxCc0vl7afELLcEjr786NeG1eaf\n",
       "zliDU+poWSKVsMLUn3j6ko26vC7m22KVN722yC7JsPPI4BYBcTR9eHfgYpZqvQ5hgyjT+HJWQAx/\n",
       "d8UP2ZMAR6NcW/t1fZTzMfjIxFBQpqtk7H9D0DYS8BKld1CLv93EeYXv+BByNtaMciySq2q2dceV\n",
       "7K5mzbkCBciQKpgSN3tRjTKGyz433dVziX9cKlkzmCGmocG1iubCUh6/vTmyDAIxVb5ZAyIP0oX2\n",
       "XPxa3BX/Wrir85BU4m38GKU+TPZePfK9gIGkNuUSyv4pTeL6uGHENs3QTlledEzZ7kinRHrZqnF5\n",
       "lFyylPhcIkk0sK+jQHfdLqzKftVN+1YPVPCZ1Lrz5Fmm4OYMpXlryUkVBuP9Jp0IZAfLWSRGGyez\n",
       "iPuL+qqU3V71WP6rN08ubDtlTO2on5SUBOm79A5Tzvw/eKrDPcB7+qW5a6QdcO7wn0RQWktT1SEG\n",
       "Jl8nzkHH6IFwMq6fw/RpGNkZKMk7icmelfVs+fA24NY5YlICt6kScwW/kdAtFNRlCu4uIqa5DTzn\n",
       "tiQjWZcRI6q9fx6eIQ3VgLU9SSC1EOgEMRuAgc/c3TanRPhox0n2QtO6oitpmWsEDGED1onEQX7p\n",
       "Vmup03YXcWYEwcDPmwsIAekeSYs1Y6P7GkzErchNXLHttsHfFLl8DKNTMITHDIwImOH7pTqFgYqN\n",
       "szeAHL0xgQymlepIGnGa2nKY8vxSOfqnZ1hteDKhmFnDVopATm7jtzG6j0dPoojeoN5zGqzq3oAh\n",
       "4xoKKgqtbyO0OWtHDvQq5uv4Jq2F6mW6Xq6Lkhpdx8SlXiwGaouN2fz3C4D90pXCr6qiavUAil0F\n",
       "++kR1sU0j8T6GOek5c/C2vjDStgf6QCHg+FFNa9a55SrYqIJsnnluFY/jUCkriKKp58jMw9ZO8l/\n",
       "im8Y7XwHrPYIFLaSzywRutUxIovrqngyWr9RoG7tPgn5Dn4RpHPZcS1UfUq5eI477QZqJbJA7IsV\n",
       "PQuMNnSfkZybToNwOsb9sRVowsVA4TGSzYWmidPuaeqCaXS5sg1O+DNsmKBJuWKM393jdvNa+Vbb\n",
       "VIH9CWrjGFh5U4umDW8j+h8YnlSZ5IvdAqarXbWgmFkbjLFrJEH1P979H8Sznq28dxXgaNEqFCvM\n",
       "QA2CuTW8SSo1oEoF7K8sekXZ34AmbqPVrF8eSV6Pp6KH9cPCRHVJkuYCU/LVNOZ8YCZd2MF5kUar\n",
       "GfufJNIsSe+Cr0F1BwNi1RVCNP4GymgEaze9HlFgrsNVScbEsKvkKfwufo7N1SS/5oCO7b8PVgzG\n",
       "eU7h4ip0Ay/H/Siov9s4HMRO7K50sZ9MMC8ImPOB5wNbPDR5vu2QFjGDmYIhKktfsm4W5UqiFc4/\n",
       "59df/tsU64hg5AKexAGtwQYgt0yGGv5zH3oHF+K8eXmdHymipr6W626xC8EwUAGw9MWqRtIfryFT\n",
       "pVbKbfqZ3SpMcFtEVc3/M8wi8ai0y5j9yYTzA/iytv32jLQA19lw8+gwuAouby0WrqNT30yp1CMW\n",
       "ux/jG9+JnUtU7FuY6+BQxY6SpAw/JieJuI0ONqzBBdvzPEB89QLtrPuA25s/NyROKkipUUK01Qb9\n",
       "jKWWq+fSpJlSvrAuv7Emyg1M2QI7u2dD9VR6WrnX8Sn8ghrvj2hvkiZIGB5DsHbBSQcheMp2XAHH\n",
       "b3f8ur4/hV2Y+63h7oo73ULB+PgyB7yz6A6H29Jxi+gAvO5eUUDOomy1Woc2lhtuAteCgFl2XyZa\n",
       "LM9WIixlTaKdMO34jOLf4RuRo8AP3J8TPSfpNDBGLY0BP0gNJvqKuDi0SeJiXoEAAAYPAZ5hdEE/\n",
       "A/jwVHSWaA6vD78NzlzQATPVf3owY+Q6tXNvNTfFViqs8kxiiuyL7gpYbfpFtv6nn9VS7YBUncij\n",
       "r1hVlQmDq1T678kGy3plt2175+tM7li/ihrTlnmkl/f9tzD+a67qFUJwOVVXQIH/lDlbO4CPX+aI\n",
       "JuLQKjLqHyJb//6OO0MKys+4mcDSpfxuFnzHu72EGalm72mq/eUWNByuguGcqct4kvdzGPXJaOgy\n",
       "VsGYLM78YlvoEcQrPAFmyI/myQ8cfD6EH6RfyffPhQr6o9bSDAxUnlN5MKOTCtX/ZxhmzUYzomtI\n",
       "pkMM93Kcm7M4bngR0PxgH8yP/1zpbPwMd11BzSm5Cq3o527plktEhyJe4ZB1MurowALk9fc8mfAw\n",
       "7gIYt55l2G41n9TRs141lN2Zkvnfq7cvvcYG4hlxkVAchUXr6o3hfVTeWeLpim1N+SZ4ahDucQN4\n",
       "CsCfKLvcPTvAoE8la9jIB+pMM25yaMICAePQRrUON/GtJPXwQ7RG8kdA2CiWuUxFP39E8fopSYr0\n",
       "weFr/fKZAzgup/GP2w/2pBfxUL5T68KdXVWlUnXA/v+6PJa5GgHB1Yp6ggLoGMHWdEUKSQctpVfn\n",
       "ERpSgATmqhI69V8iRecGaOJuDZGG3kO3mpp7OL0kv6AgmywGb0k4wkwUzhjM4H4WypPfx4vaYghd\n",
       "pD8lBN8eg4/6glC1J7qCU3lsHR5DaYFmiF4kaK7DPyAqv7dEesqmYBKN9ASTbxvF7YUkFLwb0bEb\n",
       "MIvUNMhGc1WDeOkwYyKLa6Yi7EPhdJl3vBukTLGD5a0GSKkwUa2OZZGcwJx4At6w0EKw1dUquANh\n",
       "efoRieHtpDb1jJS3ixkR0Qse2krl5L1g3JoxaeOjrqLDm5s5wGeHVrTdNDhsQYAu6Ws1ByCFvomm\n",
       "Q9FuIJike/KDUCrDRdqqPgg/oAGtbGhWpwMyKTOkFXDpw26Ohpa5wsK/w3m/Go9sdg+S9+9n3raz\n",
       "eQwJAk8Sw/sy/b6GtFRTLDj2LHVVAgakN6AevFIQnWz+x+g3JMSuMRR6Sbrj9+M/Y1gVx5BhOCkK\n",
       "iRlAUjqiX3Iy5VJFKLS4DGwuAdy6flLOcKpoNN+IAniuQEG+l2zLZI5B4y9GP3Ck84xjh5CJX4qq\n",
       "wZvK9kbBEL8M5Kz32F8Ac14c+9gCeKczyy5pxr3cirSXk4sVHkcK6sn1eNv0eIVDSulGqY4im2Jg\n",
       "vy8hnLgC5F1jZNMfCIK4rMGAdiw+0NY10JmiESrU90JhMvKHvx3g9miZQ0ewTpE2qSuu0Dfv6p7Y\n",
       "IzGdRKeOPiyCabD/lQ9tqSqzpWIMoVCK/DXnpyxg2o8zGByqTblxNFjnDQiBdhhDi61DR3Rq6whB\n",
       "OpfrS0SnDFBsqhJO86HD5svfvy0GAAzsz639+FWL7cQlXSZ+biH40mHGotQr+KBt36v8L8h11Qbu\n",
       "0taeju6M+lpOagM76gtnxDu1uqAao+X7enf4xJL0hAtS+ZknRMvKfEdUl926WnX2WWZccRr1c79G\n",
       "Ss4qe2lmrTDSVCO5VZBDcm/B/Z2z37wh5cdUJ2RlmlH4aGJOYgIQq857otlooIXjAJb3QMylaaqJ\n",
       "lNEZJgVecff9ByUDRpB/8edCgb1pZY0jHPRPyWiKAKTuhsHPDdQ2ul0e9bf5gEurSBPr3lpmb5gj\n",
       "+89ue4Q8DnxUy2hxvoljo3Mo3EwlaIQyTbUVRhULwZCK2fa/HKaNqXaKs+2GBXkW7TkJwZnCJH1N\n",
       "l6bCTo/79KgLhhRUZmtOf+q/FcMU4d3+ANDu6Q+D7t2e8BfbFfMXwCiU+2my+uA5UJnZMWGEwePP\n",
       "d+w1UDcdp5DS7T+PVPraaXMtdExkK0tEg0LJvcw+9Cweo5jBo6rA7YaGFFoNVPHq9uukDhX/ZEdB\n",
       "xCeWF5VgKddYye6AHRyDoDclNs55CVVOQV9CExWGhT45DAhXnmT1UUKYuKgt9hnKUjQW1bvu18Am\n",
       "hPwaC3zCwXKU8lCWssPheGE12DBgb9HJB2obm7QPg9knshfmPsnBbLPLKTsaUSy3DO2E/WbScmoA\n",
       "fuJXzkSAAAAE5wGeY2pBPwP4YLab8D8YoA3AAJnXmQbQwq7UZScZ5Euz9EKiJGpzh/AUXXoJuQ0w\n",
       "fGykxHGcZcmazQuaCvRzbyLwBfkq0iuQ78lOqGVnmF/KISnjkPhppKmjI9LwQf8YEFMqVr4BUUXn\n",
       "6U1S4geXLzSGMzb2wXb4k8xrEEup3V89pZd8DZqNSBl3COiYyOtFKjkvmC3dVgDMchI6q0w8Idz0\n",
       "nyQUYzkKXx0aatGT3ZwkMLK9hMpCo95hIY+CFlgTe3wqPsDM06AKRJ6wSH57vJ6/osCIxPJPY99U\n",
       "MorRRWaBDQinxj2ICFnRnqHIkohX+XTCNqQoH9MRDuXKqdOBd6igatZ0+ajQXRkbIYOkCRsuswhk\n",
       "PE/UxDg7E6nSVpxB9HvefnxUs9hVGJK/aGgQ025r44/rahaTfzZYTKuM4k9MzLHzL2ReU6IGcA+i\n",
       "RhZs7+aC6ncJU/agmWVubDCxu+eIzpYuZqvHYuett9NAkx2j0jcVlzc+f/O9mjKKKaW3Uoz1OlTc\n",
       "iMILDVKu1Tclt2iTX1b9Qo8gLM+buNZJOCIy9LF0GPZ5vNTMiuKA8rEsQj21JJLR5uD01WielYid\n",
       "iRrHLmddpFPZow1SVLKzeZZZpetwFtKpYuKB0Cmax8WQuBv0dRJ1PtKrqe3Vj0SAChTplKGcaBSx\n",
       "Gy3pb14FUoV+jpI/k2b3O75+F/MfEwNpwuRuk2rbszcT/m7MuKI+yYsjkrM7ewbsCRDN/UhW+9+f\n",
       "QSFZ30BkzKoCIREaWaGRNIVL0Dbony7+SP5YOJ4z7ZXWiRiWPb6QCPqpJvHg2erWBknkpaOqOp4A\n",
       "ytNBX8kFYPbnApeKfpmOoSfrrmMmhrw+/ksuYpC9zdKjd50NuguAkVtiQ6cusZttItehAhthokBm\n",
       "a53w7u7d4wcvtVUPDPa2RWgAI5HiQDbt2H4znOAKFweTj3P+gbdp00GdE0BqcACSWo+AuUGiDOV+\n",
       "6T+C3bvlZcB5BZ9I3j3tbVAliSkpWDnFKg6YBrnQcYw+PaU2m5cm1hWxhdUtnrvWt1clIj056Wx/\n",
       "/3tNLgLck6YtLrCcss7hDVD1t9sbsK8drSVA8JGG44GftB3sJR11553OoNpZoZaGZnjXsHpkbkbh\n",
       "TnBPDZzA22IPdHzRnHGjDdPStDXRG4T3+S0mgC4jOlXZUXzI4VmUZfui/cLOjIA4qYnFoAOuZsY8\n",
       "A+02oHExs1KNms4PkFxMBVI8dHoAQYCpYgaimi2GFo6LInD2I7nr1FkGqb/Jne+s011hfBEgXJk/\n",
       "fBlfCSVtyavyWjecAedao3e6bHjJuZjAMgmA3jyUBud4TV5MRfrH5hDL7CN6L3W88yZW1b9mB4ps\n",
       "AEx3GTc1YczcfujzvBoGp+Shw3QUnHTJkk5ONmB1wbHhB3Q849LdaJSF/Ao+m/HvSzAOPwEQvHMm\n",
       "gOea0/6j6tKOgU8PHs4wmE/+VFHN55LZVCapip3tFOS8mgmycbPYTU8ZNEn8amYOQqBvQhDGjvl4\n",
       "Wc3EVLnkt0UA5ls4YwYjPRXw2+53JatOY+BMitAwwYgbk/BANM4JkxirszGKUFJnx273VYc8DwzM\n",
       "+ZWdFy+12Lb1m0HOtEMESY3SoihzkwMsWRATmSlpSl5SavAh+vEC7uZ1AO6OcKoD+H6PEsW9L9Cb\n",
       "4FzPL+RpEiNWHRkAAAkrQZpoSahBaJlMCC///tqiJPAPWP4AAL3n55Q2ZXkR6wdAecHFawbpadVW\n",
       "ipJZ5HYxFaMIIF8bt32/gn4vddCjexCTX6QiDdHDZSnOSF7YmEMEbSIa3b5CGVSZBER3qw/+fRgc\n",
       "O/084Vq1FHR+Hz4//6jan/17j0x3o9HTF665n3I2lxPbdhXdqABE4zJwpBAfoz/fNukfGwQF6Qle\n",
       "XwwBopHWFvLuJK616XRZFIGV3nxokGLyybXJdT5yGN4CY879ns6U7CDeQ1FhOTwfNQ9BjDLRby/i\n",
       "4e992NldV9lpIODQ49gA1bKLWnLsWqWquxUNaj1tDl2/6f2jbWJGeosSMzEWzNI6VD5iA7Y0/JiW\n",
       "+7h2xwgwdjy7z7N4LmPJOQtcpU884v59g1B+6I5jo5/OZcjWsfSwZ5PYqa8UqoF8G2BsF20rgHjz\n",
       "9njg10614SrQtyx5lGKnSqQqBvXilfZxszZlG2tK3uSn/8JorkAwmG6F1AJeg+OjDiKJD/rZDqu7\n",
       "gKjmk2b/3yy53+Avkc6XWk3g37dkJpHMH3BippY6u3ixECrEte7DL9U6rgs0aDpAUwqDPpEPz4fF\n",
       "ifnEgibebLrTmLDobsJiCZ8FghESg2sc1clLrtWYMmdzVEjd+IkK1n2J747jp4mBQt9jOoMlvAyv\n",
       "uF9CY8CYtA6dNLD52lNMiBbNmv0Wpqq6J9iAO6DCUC9aDZE1oMj9zxtEViRS8Ee1BVGBx6pAdEq8\n",
       "ARukHTPTMR6p7un0ukycZ9G48qq0JKuEXlzkXfE5b4uoyrwKXycn9ar3moVUo5Dpy6JinEbROTXC\n",
       "AMmbfB5Gyxf3htLTzqXyzaPWTKhASBtdQ0ACt7Q6jPL8Irc2+rlNA+RJVHfCNF7zhIdi78OPAHzf\n",
       "k2cZwfODn30o+gXoFx65Pm5MrEP9t4QiWlieYMGyZAMcRx2N8jJjLVI5TYz+kRpONwao3l2B0ByH\n",
       "Dg+VEAVpj+fI4ndG77jn//JKnfdJz/4EVhbbzsl1cjNwiR39pD4FwCM3INYVgfLOJjwr0VMVqS6L\n",
       "LgKtD2cDpCTVT2Fr9iLDFMwTbJSnkTYbg1DTHTOdS0aBcYmSE2TQI63n9YGOLx/qegAp1WqGatnX\n",
       "tXzEB7IPW/flOwNBp7RBRHyf18pYWSJjTrJTJlzF51BRJMaD48rPlOnI549e9faBstqY3BNT5cVt\n",
       "eJVlY0tslyqaAW6RAbqyX/YPs/lx39yG37cvXXK9QWerEbtNdxTKH93kZP//cqCtebNXewXU5UhZ\n",
       "l662S5x2ztkMuIFvTGx/fFG4i/+jQAnNicoLLlIHpg9O4nK9h8+K5UnYo9J7xZ0033vPlKCecb07\n",
       "mTaRggfexecXtg6QJRm9leQMwUvw8Nvo46OcDQFMDTLpsdAJOoGeuJdaibqHXVN14XNc7KWTW/0f\n",
       "TdLZN5Tbi/1FUOU7DOTUh4kd0JO94QioYDESd3f9/hloiNrz1gwt2SDXn5YUaV7zW6PmyoDCb21R\n",
       "qsC463q9sF5a+Nuecfgaawi+Ue+z/IOmsGSAKHLruGfcSkTjjvM0CuQD0JnyU4USdSUPlqS1Ic7t\n",
       "5QEUt34RtM/R4Rm7Cc90WZ8MB6x23mxffVSOW+sZhNGyOEh33NmXXDoa1T4xb4vBK9IJlXp7PTfz\n",
       "zjRsR6QAcRuGwF9lRX3nbj4JQxlh3gSZDf6p2kIEAJHpsZ6LYHGmyIsPftDxz1aR8fhJRzDjJdWp\n",
       "HbiMWvCBlq+oSrhfk/5H5zAsgnLF16Ko5nJy9fO9mB6tej/p63hGoKqX+hByL16MCV3z44jrlJXx\n",
       "/W8IFquIQBAnpYcSuQAnYdzwBr5sktF5Gs7cmEMYe0nYEls4aEy8adseEJRM3x7on5OVccFDg112\n",
       "OfUBwJx8cLHvVd6J8Gip716XXjI0Nm55HW92JjdmWpjD9g3Jh/XQ0lnUHU6IOy8W57JQv3mIh7/b\n",
       "4rd2t0BuwyGAcM0aDqisXYPtjWjXVeRVNFS8kRy6ZVVjWWA0HBVAsErhCIQER/xEywOZLnnRJxNC\n",
       "Ow5TlpqDdLEf4p27k9sln24D1s7PEOHIUNGnPzIYjTUA9+0Me+NCCqCqsFEMp+MqY8eVNCtPYyBa\n",
       "Urg1WB4MVB2KZUvjVXvH7VH0GUGDRUUyAdr2DgqJNfVvAFac+u+tU1/1tRpkOBofo9iQvbipDmnb\n",
       "xUIM8iX+hiSf9U1cvuWmCO/HikDH2i3kkWGX4eM2B2oWG38A7j+3Zhu28Jc7cx2Z2lhgq0GcRPCC\n",
       "nrjJQcDCumZxetF4M0a67hjzC6NklcDjpxntLm5QxRopDgtG/T9dAjKGhhbnYQQk6gxGnfT4Lzuy\n",
       "7mfuy1qW35OphtyRu7jq9yb+t3WAESX0LDcMqeMuHg9cK4/+eJeEGMgdnaJx0/+WqMuQBolv/yh/\n",
       "C88zyMSHh+iL2D24ZOP9ZjHk/HV1mg5VFqUVgPSPQk4NmC9RQz+tRBNkR0ZNQ6E/q2K7s1NP3+8n\n",
       "0EWs4RVwfyg4/obwbm4xbmKB1BqIBbqxQK8ddIX08Y89aQmpK8f84xizG10Lz+5d1zmDUbtVPKJz\n",
       "TuzjWYqPqPEDQkQ4olIqcspNDjl5hSrzH+PRxWYpXo/wiSyS+61OMQBzlurDjPdyltfryN5ubwvc\n",
       "opumxTX7WIvIHlTtTyVU7SKDkHQ+s9LUUsUHy8R2JqQLVD6n8NFD+m5qAwdMr8f6o8nPv6RvoYkD\n",
       "loVnAKbhEXPd1hEHYDno1sKhWS1oXWzr8ft7I9Yq0H6ZAPa75nyZHNKs03n4FRRV6+GOWiV9bIln\n",
       "khvWm+yrxSjsGkCmdE9EYSSQ6r3ujpWDEksit5eDfML/021+1k+z+ust2gk3sCLuj6fO1IypZOjH\n",
       "u6BIq3flQ3K+IdhqPv/qgAXn3YC6npoh7CsQsyoDZCaZE37txXe9fX2IMo5QBiikzpUHNK7hgINF\n",
       "a0Jl+4f9OzWSqDSocbGroIz/YzuZmC9xcW/KYby0fHoeqiW0oS0mgu+mIN7OIZn0nG/CFHaJw6eY\n",
       "4uwN8LmMBv/LbhAFNXFB/U2pRJBlXYcQczRWkKE04gW+RZf1z/pTry3utQXCUYCM5GEYU+GYGfx0\n",
       "PPgY9pDBcv5lNDm9LudpkQ5bWeUazwb3awAABYpBnoZFESwU/wMao4ML5+BzDWNX63k7QgA0c6nJ\n",
       "JHddB+5AFu2zwm7JWo2qpL4X/H+y6G9Wj4Pce6AJDb2au6xn6D8Jc1O/bNLFEInJ8/FpW2sXlTy+\n",
       "KhlxUef//LxgQ0RaBlc0CLgKEbnY4yM1rIjVDLJGAm231AhVTy/if6ZBesq29FcuEPe+bWs17bV3\n",
       "1KXh3VJ1+Sv+nWrQ6p74dFTvPZbdfdMFRs5sgRGXiSyLSl6IaOfTovBhO/vEYks/UuiUtYjTazhY\n",
       "jQzLAvsNjBC0SZ7g79yHXsfRGwq8NyToZ7Z2aG0XVLLD6go7e9KIwiMU7iRdGkYLKOcrA2NwVllK\n",
       "RGXdJlwYUXAa8OU8tjYy5C1Tm9CVqQuQTA/ffe6EtUn8pqkeBqGmKHL92IEtnvo/nxFeB/yU86ds\n",
       "XhpmwzIp0yfXnEcRR9Z/F6ymudjx6bfSj1X9W7VXYonHeFjyPh5U+obrFDIlASrQhGQjt2ZOsRL7\n",
       "NXXHfrImAoqhodUkpD1SKnUa97A1jXoqt4ZsCeOQYHxLRBh/TC1QBn3YNVpTfXaXzs6qVPoBGA/s\n",
       "yD837RAkTfcZ5ZAY/nuMkdS2vcRFktLvEMKt9XCy7Mu3LUk/xeKWoQ9NRXD9g8s+tofVrExEnAjW\n",
       "bJ9A9rqTnEonwjr2KfDK0QLbxBrQW4HOC72Bkd3Iuellp66dKpZ8Sxem/pTMaPb6wqF3AWdAqlVt\n",
       "ou8Vnig0e/z0d2yn2AhE8XtvWU9RWdPBE2Kf8TGKtAmQOtDck1XdJ7gtKLVN0IlwcawvGT+4Hihp\n",
       "+ZoErj5DP5nPULlqxEzWYFv/cpcWeUT3UfY4EG30wTiGCz2YHx40WkQLugMAos2mP8xSuGOl+b1D\n",
       "hLW4ajfJnRqY49m2vy8nnB02dMJ/L098rHtU4eXxlLr22COuGDNrwbi/669FoNDozz/Cj5Y+IZNz\n",
       "hzYwCTzwza6KnS18p0I0EwyYUVLVkT/dy+5Wa/GF8ttCtaYS5reZnRA5WpyjyXOYgF6mUXrr9LNV\n",
       "iElLeJzG4AAKfXrgHKDPWCfrneX5OenDFIjNrlOh8zQZ5DISNaU5SGnSqIeacKZFr7wmbQBz1f3i\n",
       "hl9SeXn1DYQcXYI4KGHciwdP9z1NdqJW0FDu4tW84TW56nm+5B9TjdWkm3cCdwya3weE8CkFZ5hc\n",
       "YdA8nW5FcqHWP2BnQQoGX9KO4RVICvh8yO0MPm+ltQtzumMqOHve1x7KKlrMCFz6iH/6j/uaCIgM\n",
       "/IfoNBHmuxvK6xNHiqgyx7alfC/2qyWdfH5X6q8VP2lrRlyyzPp3f8zbww8v5C5mUrCBtrZ1o9gx\n",
       "F302qYRoHTkOlIv023m9Rgl6ro8Ie3VMJ0PLoTbXhUnSyuKyuHU0g+pev4gyxbKg/yBpQLTonFHg\n",
       "N0H0z2l7BKWclrpBcVgKLhzbCRRGHCgMlHYL5BPlqPjo6WLTiX3NeMv5ZpT+ZXyDyOp6Dnu9d0C1\n",
       "vIvYR4pjcXneeWZN0S3XrM47Mk/t9CmkliXwVjpdfWFz9K8JRtLxIiPruuuB0qNnNCWqvla6ugYr\n",
       "M/MkLXmizTZhFm+WrrmCsvMcteDvRcJ5vQnVmp8wrKRJB/TD4yB0SwItE1x34gnZTTLxJ9X8m01e\n",
       "83nO/qqQ9+cwc4cW2k3pIn5zGoUpR+5njZm2LbfdgmhuGeU234fWDggUj8+tsml3mipla9MKPryb\n",
       "VlLRhkMZ6ieyM1d3yAZ575WcbaAzhgf5uK+LGQg3P8Fj7J3QuYlhyw3QdPkwP+1M6kdtAeBm97WW\n",
       "AwYo/2BhYspNX+1ABtPfNcZ/LvEgbZBb2envEJ2BiNpSM9zb4lDRKHxYIuIlQpYXeuD4oWKdq1ih\n",
       "xz+mHsXlips6j1XvHKKuI0qib4z6IQAABSMBnqV0QT8D+PXsqJ9thUGcQAJmQqBYu+DRguQp/Xu9\n",
       "ZdEV0I7MCmDYDVlVHYhXbv0kbXs7ti0iIpTN6F/TxLONMUkaspYOZXcbC+vcjhEuv47zgvbwHC3l\n",
       "PHNBx4Pvq48HTHg/QqSCLOsUJke32pT8Lgw4SmkHH63k+Xgi1hrkNk65D1Ch3KTv0rs1KHFXB5Ln\n",
       "uaauhfS8OOQeAqb9aEWBcyv8pxQb3UAkdGUCN5zmsnn/pB0Ls/eV5b5fob8u1aHkse6e7aVaS3fu\n",
       "lBCej0x6ES/Oh27qcFiYiZ8/sokVVS1NYF8tnSo9vk+dnrUsb1HsPuHMC+nzjUW8wVXxry2xHPUJ\n",
       "HDf09M1HwEBNK9DBvDrgWN2O0ZmLN1BcL4ZHRPJ1QhxyAZG3mbIbv6C2wSGDrBsKV+kWn4zikuy1\n",
       "WUg+fJG6VuaaHLZrp3rYdknKQpj9MGgOZWemRkdipsZPmlnYA/g895XV7P3K0aFCsg1V6wAI5PCD\n",
       "YAmHOjmRhnPuhPVHgIU4VZcdMHiRlYs698BAjw1TfmzCahA1K+51c7LIVV201Y9lzQn/1ufwoDb8\n",
       "h9W5cirLVswjrnpBNqY6yuDa3bAG/YPkWrkVKh9ySX5MO7L83GNBXjtvbeJnjBT5BpbLY1rFJOaw\n",
       "nYhtfkA40oE2ScNiYqe218pxCASy40OILBZMYhYG0C8xDz68t5NctiEPBwZ2rlNxoEEK7o9gMEDn\n",
       "0O0fTt/WQS286sdv2akBp9vCUoNxyedmAJ2ma1h9yjP5vCpnb3dmC5LJuF5r6Vv7aU2qKlWnXYCK\n",
       "qAqALjH/F/7CoJAcByC+OSivRsyREKJRiDwT7R/N049EklgBmhTyT443+yBTHaFpE5XYGSlfiTcv\n",
       "QQWPJXrhx6IFbHuwfx2Cq3j/SL1R6Ieu1Du+SUYj1mkXLmZHCpqbUPGTAoMw1E3RQaPv8tC2tg1t\n",
       "MWdvDhq8v2qpi7Mw/1TuAg10aQOCuu3Z8nghd06UhtJTH2UL56bB/2e6ZeVWaeVpw6QgaPoIPOqD\n",
       "lAhH1BCgDaxCjKVSXA965RDl6SizCG8rZU7RqPhm+4j67BEx0ZU9m8H1YT+0HGZgIRflEZyCy3h8\n",
       "qb1+slyB3asGqtu+N/esr0KEU5yPrggroQc7eenSh7bhh/+dJcxvgg+MfZGvL0ZFiv7GYsTQkWap\n",
       "8IOUYqAVpkNCkhL4fKJ+IgsQTgNXI8XUJkW/t3m3NKpv3hMQ7ohfTKAxahpWZIWKkdVHGicODHgb\n",
       "w/WpaLDV+gYbu0FIIeuxLhDXwazHhhXbZ2uS5seQArSR39enkLVI6JMtseRfzJrLMefrcgwQBQzv\n",
       "3qtCHyJdW7k/kvTQLx2CBvAGf7xFP8sC3XKUXNOiZrWnaZDuU6g8p9BQ2Q7ca1fePsYbACPDWqyC\n",
       "mNwVA+Uw6i89sqgIeDWRIYUbOTZtKqT2nXX3EA8PiGeJFJwFI49aLLs5EEpMOGRATAVmG1SzdOqz\n",
       "OTgT16DikSZzHlwiWQaQBhq4eQh9TzzyDqgpbn1mp/RKlh8SrIOsMNP1KbBuWmjc+MIUAHe2zJqx\n",
       "1hlg2o0Vr2EHZzECWYSVZVTHhfFjxLxOwXXUsJu4B1X/N6AEL4JAW1SDoo74ZwiRq/X9fBgZ30EE\n",
       "NtHJh7RiIIgTp2x9qKVg2IiyDd6hXbOvzaO+s7PLHmFSQMj2rBRqWq9EpBXCPC82S4ZHVsOJZQvE\n",
       "JSkdAWh2CfUkIgR3aFK0fAQM/xunX6Bv2+j7876BAAAEBQGep2pBPwP3UhgLpfIqfLS70urAATUO\n",
       "35R7Z3Ft85PJ1cXrUqyoK2dgVwgbKpOLLlnF2xy2kryITCKW7616UUpDP9nPwQKiB8KfAkHQ2XFD\n",
       "7ZxIS1MuNrKzgVJCNQ4OcdiGP2nq48HUqLttQMbeT6fhb6ByfgMfTDkSRor8Cca+yaFYtc9DWN/w\n",
       "ob6duHxskZa0sGN+L5TrsL+HTK/yT0upyO3l1roHgzlV4gn2aVgG+PqSJTYkVebDIWenro+OoliV\n",
       "IqrcTnXEMeTQrlrqQ5RFjxH6wm244L7AqqgP+Uwo6uFpGcC0a4C92DWLbnCYgEqpb7qzne2dJMaa\n",
       "or/Oy9Yo1L5B4f0nGZafX8iSWc9c3toQXQPBj/oFG6r8z3+DjfFi7LTNIVa6S5JLCLlQdBT85SRE\n",
       "vYkmgjxAegLGWNWNED04CD08R7mVfhaWbrweiG+6nZ8C6OP892gE9pMqC4Y/XTk/m+d3KC42tfYS\n",
       "+yqZU2X4BwVLBAxWepuu84s3ZTVhXB9WBjSmAQR/uI8zZEjaGuJcNfL8H2nA3qlW/jzV2WU0P8Hv\n",
       "U13t/Z7t5x40r8i4EvKNGbKNu4drJvK1YAR5anIlNjRcE5Ys37LPQtM0udPNMVsoOrC3Zsn/+w+2\n",
       "GdLmn4vmIjx0WTwJW0vPw4Z2kNMv9/5ONeCkYOMiV1p8ochs2f0D0nl1yoyiSmtxD7fooxt4UE93\n",
       "leQcwH5ryzxNeSSTKFY1yuTi1kYbwOZUgmgwnEO0eDQ7YsWUkhC9kJj1ZmT/jA4/rlEqmfgnk8gt\n",
       "h+FL5MpY+ZHtyTZU9/xG28Y8BYw9HXOfIDTIbPb22c1desZ+Is9/0VZVI04YkpvUZHLuZtXmVPsZ\n",
       "WkL00N1RxRO5wu1FIRv906cx1a0iTx1mAESqTCkHtZUSJlXwYL1EmOE/0jhCpuYSe7Xltz20bp6W\n",
       "BFUvSk1jFslzfuq3ib1RPNzkSacjaH+hpQyWnMKmu7COAnPmrUjuiFPXFX116MaE9JiluxQHCTTN\n",
       "t/FULnweG1Y8C/eLDC/DPE1uO35zdX//chBGsnWaiJaqKei23J/8ciRwwlliY8f2fscclntvNp9o\n",
       "ZBqbvZvz4rU1N67f2uWkasQ1cF2QLiO5NezPUGDluKdacTFD6/imOkVrrV6SHaDbhuVttfUdpb6e\n",
       "KzJRTjTOuP9jYdjE2i9n2d/t1DNwo70gMK9Mfydw5VNRgtXASFzMYPo5UqFmJVa8nw6xJx92qV1O\n",
       "5zaiMSE5Haib22i7f8TQ1v7lViyPFO9DyKoCke4eT6YE3F9eSsVnwjvksEqy1bnDWkM1Rcie24Mo\n",
       "Eqp8mmyMEAwPa14Q5xhKrGB0AEicWsZY1XtisUUnraLKQc1owAAACNVBmqxJqEFsmUwIL//+2nhv\n",
       "Rs+2uICZ20XbQBKMWQLNV4XX14nnmXKSCpiUTDDWn+9/sF4iUGufDPmT35pTMHveotgxuvGy37Mo\n",
       "dYkEHgYB/t1ss6s+VHpp6RgqJgf4vy4PHock4I4AR2v6AHCgR7hlcqv4DlKzmXrjKOAfhv8n2fb1\n",
       "g/sHMd9zdwzGxhRLcM1xMzm1FwBGuS+vwNCviA63YDg0pldsxsfSV/2uJ1Rsm7tx8jUxpz+7wuvM\n",
       "vBf+TnbZsghXlgy5ksy/eRSqgJlCM8SQeFvoo83n6nGyw9WsFEiCY9KO9kk/WnWLo8wLgQOJpxtU\n",
       "ZMVcJxl3lnL7WCZ8EsTKx7WBNrAvvgn3K7H7TxrQL9nDtwnlGYIjEj97/7AiT0YBvWr3BxTUmwGC\n",
       "z6/p7Z8UmQs6R4115EcintI6ak+X89XsNGI9cngmNoBauFEfGvuJSDdBU6nJKBogKVaEEP7fU225\n",
       "ZKQHcIDdvx4miLcmSsv1tTiwUSJx6nIDyteE82DJ7PN6CEDAmx5lSWaoeZNpIbb6qnVIogpcr9pF\n",
       "JWER1Jmf/xK8i1T3ZU3YSYTTzFm+PaWfuj/JizAjvvnB2kHDgUpAhv8epAmhnGa+5Hq/OQTAF8BH\n",
       "NqAZRCmLNLOZxZSaqBMAwrPRFC73ZvZB9Mle0hWHd86YWbXx2LOR5F17Pn6657uHdXAUllM/nfkZ\n",
       "bTAZyoRLk2x8zutNyjEah0ZPdkvA9A032kRh7MarfIlmoWM4KaAastgE8snn6Ep717Hx2Ea7K/XZ\n",
       "Z4SBGhLZAm35gdj5DkMl9P/6D4V34zliSGR5w8P88Kl+nOYec0J9k+GZdccU57Z5Y+T4u7fnPgKU\n",
       "hzwC8PxC/SaMyfgXoUTWHEzArK3J+BEVYn278C/wSSoZuxGJE/Oa3/A5SL+JkPEp9hPiOrK2t04c\n",
       "FOKnuLlcwpgMcPaQSxHmJRCRBkTyOZXgqOJsg+ZoVI89yt54aI/bGbP98h7ObdGaEtwNE1Tp2ygL\n",
       "VSF/8FJ6PfzeQP5HWqEBVVMJ/3YeeqPieU9xxhwqq7NXL6PlOPBVWOXLxuvN2MtmgpLoveFk+pA6\n",
       "CjCafH86/2SDJS38m7CKcG0eB3ZRJ6neOO12Itt+k/J9u0RTMJ7oDMoGJOQhNreLD1pSfTFuDfId\n",
       "VbqW0F3PTQ+MpllzqBWYZ4qXSEEsiJ14vG+m3uM0lYBqrxEve4ifEnhO285D6dEU6SGpU4UE40R/\n",
       "WuYlsDGiDEHEs48YpOKjKsBLqoRWC0FIuEImx5f3UX7RfhUjQlgD3yIuopN6zr9OQrWlL+/vbS4u\n",
       "qC/QeQpoh4tT1FSnrdJisTy0RZ/7yCqJe/x1Proed/pnt36yLLCNC+vjo5UqdO10MBFLrJqQEr5z\n",
       "AQZxsu5mwRb/0JFE3j6CaWlzKUABBCgroQ0hf6r5ETyVuUeKcZSD2TDcuMKtu0f6kj/2Fq6pKPQL\n",
       "qvXEcpghW+LbHAiWEY2AwnkXmJAFYjZFWImiYkt6vLI28JHoK5zMw3FM+enDJAzok/zqxEasfgDF\n",
       "saoVwgq7gSdV9wBwUscNU/kIOMfKO51wxYOPjm6fCo+DfTwHHbUTotfBuc/jAHOkFFImnzQ1019n\n",
       "2SDTok4CNFTsfzTTn50qrFV29GKnw0+N90LvLaHtFr/h7CIhAilKsbLL9crw67V/lIHjPCXvtC09\n",
       "t5umP9ELL+zVR3x6Ru1DR3qWoYcfOpV59AMZGyx9WsktN3NQG3ftqZ68VRpF3NLvS8Z8pHdQynSn\n",
       "x4o3ivj47WccbHERZVwwYpGRN/+EtJAktdeofo+/Y/S1Xsy3vsfLlEUL05Vzd/qgQMxszXIcpv5o\n",
       "kmHDiRpC7BeGNH4TOEmsupFCDOQWJqESjRcIhm3nmdLEe7SaGCblWAmX/UXrqmgjbPT4MvPaUx3i\n",
       "spe/fDHDvDWCl8+EjYl56h8cIK9BzeXZe8cUNv/XjVXZQa0r3fjj9ti+Zf3x4y1hrIBAkUUqGKvQ\n",
       "NvRoIxlabxyDrPRjTgVS7Sajsu6idQnUNRhtFoK8pUhUaJIMVYEEw5Odc5jB6u9Z8kLBl+bIe+lJ\n",
       "J+sGpCxadlXVALy9VmWoXiDUVyGOIKMG0I5JOVDaxLfjStm3VtR5WRWfubzNb3UZ/5/kz+KxRNen\n",
       "aJ3UIv9ugPt5aOe6e7CFTcYiNOeZEsGgcm08fQDoZ4HgDloF9hRE7KHFO/uoMzZ9/xKd7cPUkNOW\n",
       "Cr9dPYFFyRs80n9ZyTah6GodhhiXiDFLv+Nkav8E9ygcyPsyO3GqRU02Z3YAwJ5GO88EiTb8lEAO\n",
       "ek455QOXQGvdwp5uahnqQVMfYXNJyFwt9AUN/rAqzbcD2FGNz7X4lIo//9SA/NHUuGgJkYRXzx9u\n",
       "/pTcFrHWeMteaG63ZYjmp22pmKtdq7v1mNiTi9ueK4p+vXYRsfyv7cl+vTI2rRFo4LKhkwrOpq/i\n",
       "ePaa4MTqCh6P6we5IVxWIz4cuhWwAUiHBnd/oDFsquCii5nhNyDC17etF7kHxbZN6AnvWlE5mgJ0\n",
       "dIBtih3zBnpp6oF99oBIPIBt5Mhno6nUVY93hgKebZZW89atD0GWF4b+mhmdXscttDDWdJfvsCBM\n",
       "iigw8y90wVGNj6BNZWQxUvA2Znz05yhoYVccMT4aBhSTPRL8Vhql0eB1SP+/C/CaJDE5/Zwwdpye\n",
       "EGNvURyoKgheVFIQDXDbdbiHcBFDiflg5bka4N96xIKZbSSJTnRjbSDtRoJofyjTF4LxJ+UGKEt/\n",
       "S+LZRsBlx+Ak36TaMWfgX2N4W8iIn/jy9NYj9KR2RyrawvV6peCUkZiESbKzDqn4giTjVhPXt1Y3\n",
       "n8QPUT5HoXVah6VpLxPdOydB/OjMTmE6cklEs36WhXwTtFkHWTAuCDtpitWtJZw/WM+zlBmjFrVa\n",
       "UxKPQS2u0CxrN82mrvqjX6//6QlJxl7EHMJHLkTP5LiK17OIdE1Mq4KdBuHeczGUUHFzn1RG1wY7\n",
       "lGepPqP2BPwhQazQNFh296pP4SQKCAAAAHVBnspFFSwU/wbH7uXz2jbPTn8suAA4qvz+w3BCyYTg\n",
       "R+oIsW286LJbm6U6BBZOtyqtxtFfu2AdxmLqvzVONtXcdhpf5zFvYufCJrjx4DJw42YgL2UfV6yJ\n",
       "HOa75gWm1P4ajNTbdeRxX1RRvUL71MOlWEO9r2MAAAB5AZ7pdEE/CJLsBgt9VIop+ofkIV6GZgAh\n",
       "0dzKYIDSMAnDRgXy0ZZPX2dKBGGT5PcpPOHBIWQGoVYm8nDiZ2wwoF5qhWVVFQoXjgayle2rGonO\n",
       "s6qVptB8nulT2VV9ANDicr37RYGjk1oKhlfW+iFm7vkUjrux/1+BaAAAAEgBnutqQT8IjB1S0K4v\n",
       "pE1i5+ADVskpSF8TFxVla+8DJ5aRl6hm52zr1E01o6FrrPhi4Zw85jYixJ0IbtzlmOn339LVN0sB\n",
       "aSsAAACVQZrwSahBbJlMCC///tp3o/91YbSt0gAOLysgicUWwmU9HZLhYJsATzo3aaALVAvuiHFt\n",
       "s8bYnNohLWCSBamkWfgyHYAbV4Gq8ZGNBiEQLv//BsH+EEoRxwP/5nWI9RWxaGls+klURrv/4jw9\n",
       "aSNfqFYA337toEgIioTmzL+dysy5p4+9EGU0iJ1UHG3MLcbMcXB0CikAAACEQZ8ORRUsFP8Gyjv+\n",
       "guAA4o4VjpxDM6Os6S9xkObK/Ed7bVOK+0KxQFHFSmefCUCmtS8jiFtG7yfbKoUrWtNzJkDG6BVv\n",
       "OPuDGGQsnrqnYTn945Q/H4ntU6qaZRz9aBDlLj7qaWOP/dchS6qxGNQERRZowTmwtqXlXe5eiUks\n",
       "kLDi3RcxAAAAagGfLXRBPwiM2qloWF3rBFeZGWfgA1i5nJpnztVosXEnOaF6aWmcraBkYOkGi7Yv\n",
       "nCM7TljvQ32MTUoZD8gCDj9oMEooM492WTqOweHErssZBvwtL9lXPGiTpRHhVvQMlKx3l6JD9j8/\n",
       "q0EAAABZAZ8vakE/A/qiFdEaK0kABA+d4GJ5TPDFNyfu8z/FYd3fD6EpQ+ywoLCH/5VI/WQqsx2y\n",
       "oP0DiV5rcNWnxPy7Ctht84AGZr9WXjza498WBnnfi0Q831vgZUAAAADZQZs0SahBbJlMCC///tqX\n",
       "5UKGIAiHqQ05v+ubeG6Bejss2FjXuFRhS73oNOb4tDF4NAMjnr+vsdrH/Xb66SkpgXFh5h1WPKnd\n",
       "XeMThwxWgM+2JRFeqI0uuOsitKHnblzxhUScGWP2+ezPfX61J0RLjpA7M+lnCdVsXbvf+YoSyceJ\n",
       "pETTInhb1HX4yQ7d8hTu6IyZKjRh5+TcC0nK1MyxNFOhp75I6v04LEUziFF5UdHYaZ8bRFimrt//\n",
       "utxSM4GwxZTPt9VydV9IHfinWWOpnEtZ4pw8ljysvAAAAHFBn1JFFSwU/wT5ut3ZGYb2rUADWMRO\n",
       "DzRdDGZY6GjLxV/lciPI/8kFlFjib1WsWjkRew8gbZ6RKRlPruSCBo2JlxM4fJMdKBDdx4T1UZbk\n",
       "96CNBwX4QB9oK6P4ThS8RCGhYjCIhHyMDNGhyHSvk8MjwQAAAFQBn3F0QT8D/hZMf3bhNCwAIRXm\n",
       "N0GI73LFRizcMkMb63ORVEUxJWhN/KzpR8Fw21QAEDdj1UQcPilYLCmC792/hCUqZI8/GdnIbGz1\n",
       "VbTD+VFgFtAAAABgAZ9zakE/BlWhI4xrz4sPySACEvSdqIYCLuJtr93JRvfGypRxMTXmlWbqnu4y\n",
       "1x/NKUJbFHNVh+XOcK/O18ylHj/gChmaTTHVCjNaoaz5xdJ6+VaYI6N2wjuBt7nD+j96AAAAqUGb\n",
       "eEmoQWyZTAgt//7Wncj77dh2MlQAL43BIboDnK8SUxR1HAZClIRC5s10y447l1duUTzDME+Mvf/K\n",
       "NQsWt30/UylSft1TAH7ZZ4uYNtRFwOYNj0du7D9GKeQTn5TWedmDPPEzD0Rdp0MWGeoTEawX4W8u\n",
       "qb28aKrCiDW789kYAdFtb8MyP6d69G4Fx9xHx1lHTTUujqGlR3Z3hkw1whrk+FSWs7rNAjcAAACI\n",
       "QZ+WRRUsFP8Gx/tlGRZOf3oaPpswG3wANVZjlS1Qqsey5xiaNdLIGp75atx4xRJF76H49fHtxxcH\n",
       "tSIk/xOuKQjcfEM6C0oWAe/ZL4DXgQTg0TYuNb3Rb+j5L0UrHPeDAluTtW96XATvz8ShH32gXG24\n",
       "/harXxuRyBmYgR8gfdfmYHvLTr/yPgAAAE0Bn7V0QT8IjNqpaFLhSarnGboAIIblj/PoVI/jitRy\n",
       "u5b6FxXSsboqJbjC9ihicnYNLr3+nkmz+0U1MNjEVseYTszQ6ldC36+npDpDaQAAAHIBn7dqQT8I\n",
       "jB1SzpJ6deHn4ANYuZyaZ/wjG0OzDUwAMEvqnGAvtDoPl9dPKSCegD4t0KZIEVBv4u9tp7V5L7Q5\n",
       "p05TaoEnipQVNBPB9S2E8mn1xy+ZVeHL7WC9+UZgO0TbHsxs1maJJ0L2Rmp5qSfVq6UAAACEQZu8\n",
       "SahBbJlMCCn//taAkCstyGWTJgAaxWBYHYffjhvMhWpkL3XZKluO/7SdMV5I1bJ26Uts5NYzL8V7\n",
       "oITXbOJ3QTLTR59VNVuPYgdcznSurYUwyyBeC+BPC7C7kDNbPEC+j+s0H3hE3Hbzc/0P9oG+KvdA\n",
       "IoXtu92piPWQq4gOh0O6AAAAbUGf2kUVLBT/A50QlzgAIT24aGz+N00R+1shV1OySINM3MRwXmCo\n",
       "C6sLEFpVMOABluJQuOtfFTLrtJl8smq255APobwPBhXEMz2KUh1klpyhwgFMNgroZPz92OV///j7\n",
       "2rxpiEPCu8U1LVx69pkAAABgAZ/5dEE/A/4WPmEnS9+ADTAQ5exIkpjaxpRm1aaLtvZxcZejebND\n",
       "0SiFbYeefB/z4cftuhujHNrzG+wAvtLDpAjPDSaDvXf/aAg38YsgHnJprfvryklbtj3aRVjAMnaY\n",
       "AAAAWwGf+2pBPwP94uIhAHHUYk4ANWZ/ugX3BW8l7atVhPSGdGiA22q0FhwZ6/i3KDo/kXVI70BU\n",
       "IvAg1KUB58gG3JYzoa77oo80Ce6Utmky6imaFxML++3V+VFgFtEAAAB8QZv9SahBbJlMCCf//rUf\n",
       "mJybQrkgAIGRcQP2gi6KNvWYCSYdfv+rJSDr4zfZlys7g0G49/t/yDNZrkXJ8n+ogP3iT9VNmwkQ\n",
       "LiwNCXyJ4ecWnfrw/8hjU3E2b8ypk5zIwbK5RLJ5MWP+kr6Ne0Z2z5JmxNpenP8FOmqBgQAABJZt\n",
       "b292AAAAbG12aGQAAAAAAAAAAAAAAAAAAAPoAABGUAABAAABAAAAAAAAAAAAAAAAAQAAAAAAAAAA\n",
       "AAAAAAAAAAEAAAAAAAAAAAAAAAAAAEAAAAAAAAAAAAAAAAAAAAAAAAAAAAAAAAAAAAAAAAACAAAD\n",
       "wHRyYWsAAABcdGtoZAAAAAMAAAAAAAAAAAAAAAEAAAAAAABGUAAAAAAAAAAAAAAAAAAAAAAAAQAA\n",
       "AAAAAAAAAAAAAAAAAAEAAAAAAAAAAAAAAAAAAEAAAAABIAAAASAAAAAAACRlZHRzAAAAHGVsc3QA\n",
       "AAAAAAAAAQAARlAAADAAAAEAAAAAAzhtZGlhAAAAIG1kaGQAAAAAAAAAAAAAAAAAACgAAALQAFXE\n",
       "AAAAAAAtaGRscgAAAAAAAAAAdmlkZQAAAAAAAAAAAAAAAFZpZGVvSGFuZGxlcgAAAALjbWluZgAA\n",
       "ABR2bWhkAAAAAQAAAAAAAAAAAAAAJGRpbmYAAAAcZHJlZgAAAAAAAAABAAAADHVybCAAAAABAAAC\n",
       "o3N0YmwAAACzc3RzZAAAAAAAAAABAAAAo2F2YzEAAAAAAAAAAQAAAAAAAAAAAAAAAAAAAAABIAEg\n",
       "AEgAAABIAAAAAAAAAAEAAAAAAAAAAAAAAAAAAAAAAAAAAAAAAAAAAAAAAAAAAAAY//8AAAAxYXZj\n",
       "QwFkAAz/4QAYZ2QADKzZQSCWhAAAAwAMAAADACg8UKZYAQAGaOvjyyLAAAAAHHV1aWRraEDyXyRP\n",
       "xbo5pRvPAyPzAAAAAAAAABhzdHRzAAAAAAAAAAEAAAAeAAAYAAAAABRzdHNzAAAAAAAAAAEAAAAB\n",
       "AAABAGN0dHMAAAAAAAAAHgAAAAEAADAAAAAAAQAAeAAAAAABAAAwAAAAAAEAAAAAAAAAAQAAGAAA\n",
       "AAABAAB4AAAAAAEAADAAAAAAAQAAAAAAAAABAAAYAAAAAAEAAHgAAAAAAQAAMAAAAAABAAAAAAAA\n",
       "AAEAABgAAAAAAQAAeAAAAAABAAAwAAAAAAEAAAAAAAAAAQAAGAAAAAABAAB4AAAAAAEAADAAAAAA\n",
       "AQAAAAAAAAABAAAYAAAAAAEAAHgAAAAAAQAAMAAAAAABAAAAAAAAAAEAABgAAAAAAQAAeAAAAAAB\n",
       "AAAwAAAAAAEAAAAAAAAAAQAAGAAAAAABAAAwAAAAABxzdHNjAAAAAAAAAAEAAAABAAAAHgAAAAEA\n",
       "AACMc3RzegAAAAAAAAAAAAAAHgAAJ6wAAAWrAAAF4gAABhMAAATrAAAJLwAABY4AAAUnAAAECQAA\n",
       "CNkAAAB5AAAAfQAAAEwAAACZAAAAiAAAAG4AAABdAAAA3QAAAHUAAABYAAAAZAAAAK0AAACMAAAA\n",
       "UQAAAHYAAACIAAAAcQAAAGQAAABfAAAAgAAAABRzdGNvAAAAAAAAAAEAAAAsAAAAYnVkdGEAAABa\n",
       "bWV0YQAAAAAAAAAhaGRscgAAAAAAAAAAbWRpcmFwcGwAAAAAAAAAAAAAAAAtaWxzdAAAACWpdG9v\n",
       "AAAAHWRhdGEAAAABAAAAAExhdmY1OC4yOS4xMDA=\n",
       "\">\n",
       "  Your browser does not support the video tag.\n",
       "</video>"
      ],
      "text/plain": [
       "<IPython.core.display.HTML object>"
      ]
     },
     "execution_count": 25,
     "metadata": {},
     "output_type": "execute_result"
    }
   ],
   "source": [
    "# This step may not work if you don't have ffmpeg in your system.\n",
    "HTML(anim.to_html5_video())"
   ]
  },
  {
   "cell_type": "markdown",
   "metadata": {
    "slideshow": {
     "slide_type": "slide"
    }
   },
   "source": [
    "## Self-study\n",
    "\n",
    "* Experiment with the learning rate ($\\alpha$). How it impacts learning? Do you remember if we have seen another similar parameter in previous classes?\n",
    "* Create a new data set with a non-linear boundary. What happens now with our perceptron? How would you fix it?"
   ]
  },
  {
   "cell_type": "markdown",
   "metadata": {
    "slideshow": {
     "slide_type": "slide"
    }
   },
   "source": [
    "## Suggested reading\n",
    "\n",
    "* Minsky M. L. and Papert S. A. (1969). *Perceptrons*. Cambridge, MA: MIT Press.\n",
    "* Gallant, S. I. (1990). *Perceptron-based learning algorithms*. IEEE Transactions on Neural Networks, vol. 1, no. 2, pp. 179–191.\n",
    "* Mikel Olazaran (1996). *A Sociological Study of the Official History of the Perceptrons Controversy*. Social Studies of Science 26 (3): 611–659. doi:10.1177/030631296026003005."
   ]
  },
  {
   "cell_type": "markdown",
   "metadata": {
    "slideshow": {
     "slide_type": "slide"
    }
   },
   "source": [
    "## The XOR issue \n",
    "\n",
    "Take a dataset that contains all the possible value combination of the logical XOR function:"
   ]
  },
  {
   "cell_type": "code",
   "execution_count": 26,
   "metadata": {},
   "outputs": [],
   "source": [
    "X = np.array([[0, 1], [1, 0], [0, 0], [1, 1]])\n",
    "Y = np.array([1, 1, 0, 0])\n",
    "N = Y.shape[0]"
   ]
  },
  {
   "cell_type": "markdown",
   "metadata": {},
   "source": [
    "The data set has ones (represented in black) when $x_1 = 1$ and $x_2 = 0$ or when $x_1 = 0$ and $x_2 = 1$, as defined for the XOR function."
   ]
  },
  {
   "cell_type": "code",
   "execution_count": 27,
   "metadata": {
    "slideshow": {
     "slide_type": "slide"
    }
   },
   "outputs": [
    {
     "data": {
      "image/png": "[encoded data removed]",
      "text/plain": [
       "<Figure size 432x288 with 1 Axes>"
      ]
     },
     "metadata": {
      "image/png": {
       "height": 280,
       "width": 405
      },
      "needs_background": "light"
     },
     "output_type": "display_data"
    }
   ],
   "source": [
    "plt.scatter(X[:, 0], X[:, 1], c=Y, edgecolor='k', cmap=cm.gray_r, s=100)\n",
    "plt.xlabel('$x_1$');plt.ylabel('$x_2$');"
   ]
  },
  {
   "cell_type": "markdown",
   "metadata": {},
   "source": [
    "It is evident that a perceptron is unable to solve this simple problem as it is only able to separate the space by a hyperplane."
   ]
  },
  {
   "cell_type": "markdown",
   "metadata": {
    "slideshow": {
     "slide_type": "slide"
    }
   },
   "source": [
    "To solve the XOR problem we need to stack perceptrons"
   ]
  },
  {
   "cell_type": "markdown",
   "metadata": {},
   "source": [
    "<div class=\"container-fluid\">\n",
    "  <div class=\"row\">\n",
    "      <div class=\"col-md-2\"><span/></div>\n",
    "      <div class=\"col-md-8\">\n",
    "              <img class='img-thumbnail' alt='Perceptron' src='imgs/xor.png'/>\n",
    "      </div>\n",
    "      <div class=\"col-md-2\" align='center'><span/></div>\n",
    "  </div>\n",
    "</div>"
   ]
  },
  {
   "cell_type": "markdown",
   "metadata": {
    "slideshow": {
     "slide_type": "slide"
    }
   },
   "source": [
    "But, how can we train the weights from neurons 1 and 2?\n",
    "* This is known as a credit assignment problem.\n",
    "* Our current method for Perceptron learning determine how the weights of neurons 1 and 2 influence the error.\n",
    "* Let's visualize it."
   ]
  },
  {
   "cell_type": "markdown",
   "metadata": {
    "slideshow": {
     "slide_type": "slide"
    }
   },
   "source": [
    "### A \"handcoded\" XOR neural network\n",
    "\n",
    "Forward propagation for 2 inputs $(x_1, x_2)$, 2 hidden nodes, 1 output.\n",
    "* We will be extending the Perceptron activation as the logistic (*logit*) function\n",
    "$$\\hat{y} = f(\\text{net}) = \\frac{1}{1+\\exp{\\left(-\\text{net}\\right)}}.$$"
   ]
  },
  {
   "cell_type": "code",
   "execution_count": 29,
   "metadata": {},
   "outputs": [],
   "source": [
    "def logit(a): \n",
    "    return 1.0 / (1+np.exp(-a))"
   ]
  },
  {
   "cell_type": "code",
   "execution_count": 30,
   "metadata": {
    "slideshow": {
     "slide_type": "slide"
    }
   },
   "outputs": [],
   "source": [
    "def fprop(x1, x2,\n",
    "          w1= 0.1, w2= 0.2,  b1= 0.1, \n",
    "          w3=-0.2, w4= 0.2,  b2=-0.1,\n",
    "          w5=-0.3, w6=-0.25, b3=0.2):\n",
    "    y_hat_1 = logit(b2 + w3*x1 + w4*x2) # N1\n",
    "    y_hat_2 = logit(b3 + w5*x1 + w6*x2) # N2\n",
    "    return logit(b1 + w1*y_hat_1 + w2*y_hat_2)"
   ]
  },
  {
   "cell_type": "markdown",
   "metadata": {
    "slideshow": {
     "slide_type": "slide"
    }
   },
   "source": [
    "## Error Surface of the XOR Problem"
   ]
  },
  {
   "cell_type": "code",
   "execution_count": 31,
   "metadata": {},
   "outputs": [
    {
     "data": {
      "application/vnd.jupyter.widget-view+json": {
       "model_id": "38c956b6d3b74ee8b5627f70e8ca6c33",
       "version_major": 2,
       "version_minor": 0
      },
      "text/plain": [
       "interactive(children=(IntSlider(value=5, description='i', max=6, min=1), IntSlider(value=6, description='j', m…"
      ]
     },
     "metadata": {},
     "output_type": "display_data"
    }
   ],
   "source": [
    "@interact(i=(1,6), j=(1,6)) \n",
    "def error_plot(i=5, j=6):\n",
    "    W1, W2 = np.meshgrid(np.arange(-10, 10, 0.5), np.arange(-10, 10, 0.5))\n",
    "    E = np.sum([(fprop(X[n, 0], X[n, 1],\n",
    "                       **{\"w%d\"%(i) : W1, \"w%d\"%(j) : W2})-Y[n])**2\n",
    "                 for n in range(N)], axis=0)\n",
    "    ax = plt.figure(figsize=(7, 4.5)).add_subplot(111, projection=\"3d\")\n",
    "    surf = ax.plot_surface(W1, W2, E, rstride=1, cstride=1, cmap=cm.viridis, lw=0.11, alpha=0.74)\n",
    "    plt.setp(ax, xlabel=\"$w_%d$\" % (i), ylabel=\"$w_%d$\" % (j), zlabel=\"$E()$\");\n",
    "    plt.tight_layout()\n",
    "    plt.show()"
   ]
  },
  {
   "cell_type": "markdown",
   "metadata": {
    "slideshow": {
     "slide_type": "slide"
    }
   },
   "source": [
    "## Local Minima "
   ]
  },
  {
   "cell_type": "code",
   "execution_count": 32,
   "metadata": {},
   "outputs": [
    {
     "data": {
      "application/vnd.jupyter.widget-view+json": {
       "model_id": "ac39bd66646c43b98b28b5bab8b32f3c",
       "version_major": 2,
       "version_minor": 0
      },
      "text/plain": [
       "interactive(children=(IntSlider(value=0, description='i', max=5), IntSlider(value=1, description='j', max=5), …"
      ]
     },
     "metadata": {},
     "output_type": "display_data"
    }
   ],
   "source": [
    "@interact(i=(0,5), j=(0,5)) \n",
    "def errors_plot(i=0, j=1):\n",
    "    plt.figure(figsize=(12, 3))\n",
    "    W = np.arange(-10, 10, 0.25)\n",
    "    errors = [(fprop(X[n, 0], X[n, 1], **{\"w%d\"%(i+1) : W, \"w%d\"%(j+1) : W+2})-Y[n])**2 for n in range(N)]\n",
    "    plt.subplot(1, 2, 1)\n",
    "    for n in range(N): \n",
    "        plt.plot(W, errors[n], label=\"$E^{(%d)}$\" % (n+1))\n",
    "    plt.setp(plt.gca(), xlabel=\"$w$\", ylabel=\"$E$\", title='Split errors');plt.legend(loc=\"best\", frameon=True)\n",
    "    plt.subplot(1, 2, 2)\n",
    "    plt.plot(W, np.sum(errors, axis=0), label=\"$E(\\cdot)$\")\n",
    "    plt.setp(plt.gca(), xlabel=\"$w$\", ylabel=\"$E$\", title='Total error');plt.legend(loc=\"best\", frameon=True);\n",
    "    plt.show()"
   ]
  },
  {
   "cell_type": "markdown",
   "metadata": {
    "slideshow": {
     "slide_type": "slide"
    }
   },
   "source": [
    "# The Multilayer Perceptron (MLP)"
   ]
  },
  {
   "cell_type": "markdown",
   "metadata": {},
   "source": [
    "The composition of layers of perceptrons can capture complex relations between inputs and outputs in a hierarchical way."
   ]
  },
  {
   "cell_type": "markdown",
   "metadata": {},
   "source": [
    "<div class=\"container-fluid\">\n",
    "  <div class=\"row\">\n",
    "      <div class=\"col-md-2\"><span/></div>\n",
    "      <div class=\"col-md-8\">\n",
    "              <img class='img-thumbnail' alt='Perceptron' src='imgs/mlp.png'/>\n",
    "      </div>\n",
    "      <div class=\"col-md-2\" align='center'><span/></div>\n",
    "  </div>\n",
    "</div>"
   ]
  },
  {
   "cell_type": "markdown",
   "metadata": {},
   "source": [
    "...but how can we adapt the weights of the neurons in the hidden layers?"
   ]
  },
  {
   "cell_type": "markdown",
   "metadata": {
    "slideshow": {
     "slide_type": "slide"
    }
   },
   "source": [
    "## Improving the notation"
   ]
  },
  {
   "cell_type": "markdown",
   "metadata": {},
   "source": [
    "In order to proceed we need to improve the notation we have been using. That for, for each layer $1\\geq l\\geq L$, the activations and outputs are calculated as:\n",
    "\n",
    "$$\\text{net}^l_j = \\sum_i w^l_{ji} x^l_i\\,,$$\n",
    "$$y^l_j = f^l(\\text{net}^l_j)\\,,$$\n",
    "\n",
    "where:\n",
    "\n",
    "* $y^l_j$ is the $j$th output of layer $l$,\n",
    "* $x^l_i$ is the $i$th input to layer $l$,\n",
    "* $w^l_{ji}$ is the weight of the $j$-th neuron connected to input $i$,\n",
    "* $\\text{net}^l_{j}$ is called net activation, and\n",
    "* $f^l(\\cdot)$ is the activation function of layer $l$, e.g. $\\tanh()$, in the hidden layers and the identity in the last layer (for regression)"
   ]
  },
  {
   "cell_type": "markdown",
   "metadata": {
    "slideshow": {
     "slide_type": "slide"
    }
   },
   "source": [
    "## Error function (SSE)\n",
    "\n",
    "* For $\\Psi=\\left\\{\\left<\\vec{x}^{(1)},\\vec{y}^{(1)}\\right>,\\ldots,\\left<\\vec{x}^{(k)},\\vec{y}^{(k)}\\right>,\\ldots\\left<\\vec{x}^{(K)},\\vec{y}^{(K)}\\right>\\right\\}$:\n",
    "\n",
    "$$\n",
    "E = \n",
    "\\frac{1}{2} \\sum_{k=1}^{K}{\\ell(\\hat{\\vec{y}}_j^{L}(\\vec{x}^{(k)}), \\vec{y}^{(k)})} =\n",
    "\\frac{1}{2} \\sum_{k=1}^{K} \\sum_{j=1}^{m} \\left( \\hat{y}_j^{L}(\\vec{x}^{(k)}) - y_j^{(k)} \\right)^2\\,.\n",
    "$$"
   ]
  },
  {
   "cell_type": "markdown",
   "metadata": {
    "slideshow": {
     "slide_type": "slide"
    }
   },
   "source": [
    "## Training MLPs with Backpropagation\n",
    "\n",
    "* Backpropagation of errors is a procedure to compute the **gradient of the error function with respect to the weights** of a neural network.\n",
    "* We can use the gradient from backpropagation to apply **gradient descent**!"
   ]
  },
  {
   "cell_type": "markdown",
   "metadata": {
    "slideshow": {
     "slide_type": "slide"
    }
   },
   "source": [
    "#### A math flashback\n",
    "\n",
    "The **chain rule** can be applied in composite functions as,\n",
    "$$\n",
    "\\left( f \\circ g\\right)'(x) = \\left(f\\left(g\\left(x\\right)\\right)\\right)'= f'\\left(g(x)\\right)g'(x).\n",
    "$$\n",
    "or, in Leibniz notation,\n",
    "$$\n",
    "\\frac{\\partial f\\left(g\\left(x\\right)\\right)}{\\partial x} =\n",
    "\\frac{\\partial f\\left(g\\left(x\\right)\\right)}{\\partial g\\left(x\\right)} \\cdot\n",
    "\\frac{\\partial g\\left(x\\right)}{\\partial x}\n",
    "$$\n",
    "\n",
    "The **total derivative** of $f(x_1,x_2,...x_n)$ on $x_i$ is\n",
    "$$\n",
    "\\frac{\\partial f}{\\partial x_i}=  \n",
    "\\sum_{j=1}^n{\\frac{\\partial f}{\\partial x_j}\\cdot\\frac{\\partial x_j}{\\partial x_i}}\n",
    "$$"
   ]
  },
  {
   "cell_type": "markdown",
   "metadata": {
    "slideshow": {
     "slide_type": "slide"
    }
   },
   "source": [
    "#### To apply gradient descent we need... to calculate the gradients\n",
    "\n",
    "Applying the chain rule,\n",
    "$$\n",
    "\\frac{\\partial \\ell}{\\partial w^l_{ji}}=\n",
    "\\color{blue}{\\overbrace{\\frac{\\partial \\ell}{\\partial \\text{net}^l_j}}^{\\delta^l_j}}\n",
    "\\color{forestgreen}{\\underbrace{\\frac{\\partial{\\text{net}^l_j}}{\\partial w^l_{ji}}}_{\\frac{\\partial\\left(\\sum_{i}w^l_{ji}x^l_i\\right)}{\\partial w^l_{ji}}=x^l_i}}\n",
    "$$\n",
    "hence we can write\n",
    "$$\n",
    "\\frac{\\partial \\ell}{\\partial w^l_{ji}}=\n",
    "\\color{blue}{\\delta^l_j}\n",
    "\\color{forestgreen}{x^l_i}\n",
    "$$"
   ]
  },
  {
   "cell_type": "markdown",
   "metadata": {
    "slideshow": {
     "slide_type": "slide"
    }
   },
   "source": [
    "#### For the output layer ($l=L$)\n",
    "$$\n",
    "\\delta^L_j = \\frac{\\partial \\ell}{\\partial \\text{net}^L_j} =\n",
    "\\color{red}{\n",
    "  \\overbrace{\n",
    "    \\frac{\\partial \\ell}{\\partial\\hat{y}^L_j}}^{\\frac{\\partial\\left(\\frac{1}{2}\\sum_j{\\left(y_j-\\hat{y}^L_j\\right)^2} \\right)}\n",
    "    {\\partial\\hat{y}^L_j}=\\left(y_j-\\hat{y}^L_j\\right)}}\n",
    "\\cdot\n",
    "\\color{magenta}{\n",
    "\\underbrace{\\frac{\\partial\\hat{y}^L_j}{\\text{net}^l_j}}_{f'(\\text{net}_j^L)}}\n",
    "=\\color{red}{\\left(y_j-\\hat{y}^L_j\\right)}\\color{magenta}{f'(\\text{net}_j^L)}.\n",
    "$$\n",
    "therefore\n",
    "$$\n",
    "\\frac{\\partial \\ell}{\\partial w^L_{ji}}=\n",
    "\\color{red}{\\left(y_j-\\hat{y}^L_j\\right)}\\color{magenta}{f'(\\text{net}_j^L)}\n",
    "\\color{forestgreen}{x^L_i}\n",
    "$$"
   ]
  },
  {
   "cell_type": "markdown",
   "metadata": {
    "slideshow": {
     "slide_type": "slide"
    }
   },
   "source": [
    "#### What about the hidden layers ($1\\leq l<L$)?\n",
    "\n",
    "We can express the loss $\\ell$ as a function of the activations of the subsequent layer,\n",
    "\n",
    "$$\n",
    "\\ell = \\ell\\left(\\text{net}^{l+1}_1,\\ldots,\\text{net}^{l+1}_K\\right)\\,,\n",
    "$$\n",
    "\n",
    "therefore, applying total derivatives,\n",
    "\n",
    "$$\n",
    "\\frac{\\partial \\ell}{\\partial\\hat{y}^l_j} = \n",
    "\\frac{\\partial \\ell\\left(\\text{net}^{l+1}_1,\\ldots,\\text{net}^{l+1}_K\\right)}{\\partial\\hat{y}^l_j}\\,.\n",
    "$$"
   ]
  },
  {
   "cell_type": "markdown",
   "metadata": {
    "slideshow": {
     "slide_type": "slide"
    }
   },
   "source": [
    "#### Applying total derivatives we get\n",
    "\n",
    "$$\n",
    "\\frac{\\partial \\ell}{\\partial\\hat{y}^l_j} = \n",
    "\\sum_{k}{\n",
    "\\color{orange}{\n",
    "\\overbrace{\n",
    "\\frac{\\partial \\ell}{\\partial\\text{net}^{l+1}_k}}^{\\delta^{l+1}_k}}\n",
    "\\color{purple}{\n",
    "\\underbrace{\\frac{\\partial \\text{net}^{l+1}_{k}}{\\partial\\hat{y}^l_j}\n",
    "}_{\\frac{\\partial{\\sum_{j}{w^{l+1}_{kj}\\hat{y}^l_j}}}{\\partial\\hat{y}^l_j}=w^{l+1}_{kj}}}\n",
    "} =\n",
    "\\sum_{k}{\\color{orange}{\\delta^{l+1}_k}\\color{purple}{w^{l+1}_{kj}}}\n",
    "$$"
   ]
  },
  {
   "cell_type": "markdown",
   "metadata": {
    "slideshow": {
     "slide_type": "slide"
    }
   },
   "source": [
    "#### Back-propagating the errors to the hidden layer\n",
    "\n",
    "The $\\delta$s of the subsequent layers are used to calculate the $\\delta$s of the more internal ones.\n",
    "\n",
    "$$\n",
    "\\delta^{l}_j =\n",
    "\\frac{\\partial\\ell}{\\partial\\text{net}^l_j} =\n",
    "\\overbrace{\\frac{\\partial\\ell}{\\partial\\hat{y}^l_j}}^\n",
    "{\\sum_{k}{\n",
    "  \\color{orange}{\\delta^{l+1}_k}\n",
    "  \\color{purple}{w^{l+1}_{kj}}}}\n",
    "\\color{forestgreen}{\\underbrace{\\frac{\\partial\\hat{y}^l_j}{\\partial\\text{net}^l_j}}_\n",
    "{f'(\\text{net}^l_j)}}=\n",
    "\\sum_{k}{\\left(\n",
    "  \\color{orange}{\\delta^{l+1}_k}\n",
    "  \\color{purple}{w^{l+1}_{kj}}\n",
    "  \\right)}\\color{forestgreen}{f'(\\text{net}^l_j)}\n",
    "$$"
   ]
  },
  {
   "cell_type": "markdown",
   "metadata": {
    "slideshow": {
     "align_type": "Left",
     "slide_type": "slide"
    }
   },
   "source": [
    "## Backpropagation in brief"
   ]
  },
  {
   "cell_type": "markdown",
   "metadata": {
    "slideshow": {
     "align_type": "Left",
     "slide_type": "slide"
    }
   },
   "source": [
    "In each layer (we will omit the sample index $k$ and layer $l$)\n",
    "\n",
    "$$\n",
    "\\delta_j = \n",
    "   \\begin{cases}\n",
    "   \\hat{y}_j - y_j & \\text{in the output layer,}\\\\\n",
    "   \\\\ f'(\\text{net}_j) \\sum_k \\frac{\\partial \\ell}{\\partial \\hat{y}_k} & \\text{otherwise.}\n",
    "   \\end{cases}\n",
    "$$\n",
    "\n",
    "$$\\frac{\\partial \\ell}{\\partial w_{ji}} = \\delta_j x_i\\,;\\quad \\frac{\\partial \\ell}{\\partial x_i} = \\delta_j w_{ji}\\,.$$\n",
    "\n",
    "where\n",
    "\n",
    "* all nodes $k$ are in the layer after $j$;\n",
    "* $\\text{net}_j$ is known from propagation: $\\sum_i w_{ji} x_i$;\n",
    "* actually you do not have to save $a_j$ because $g'(a_j)$ usually can be computed from $y_j$, e.g.\n",
    "    * identity function: $f'(\\text{net}_j) = 1$,\n",
    "    * $\\tanh$: $f'(\\text{net}_j) = 1 - y_j^2$;\n",
    "* $\\frac{\\partial \\ell}{\\partial w_{ji}}$ will be used to update the weight $w_{ji}$ in gradient descent;\n",
    "* $\\frac{\\partial \\ell}{\\partial x_i}$ will be passed to the previous layer to compute the deltas;\n",
    "\n",
    "**Do not forget to sum up the gradient with respect to the weights for each training example!**"
   ]
  },
  {
   "cell_type": "markdown",
   "metadata": {
    "slideshow": {
     "align_type": "Left",
     "slide_type": "slide"
    }
   },
   "source": [
    "## Efficient Implementation for Fully Connected Layers"
   ]
  },
  {
   "cell_type": "markdown",
   "metadata": {
    "slideshow": {
     "align_type": "Left",
     "slide_type": "fragment"
    }
   },
   "source": [
    "* Make sure that you have an efficient **linear algebra library**.\n",
    "* Organize your data in matrices, i.e.\n",
    "    * The matrix $\\boldsymbol{X}$ contains an input vector in each row. Note that you must expand each row by the bias 1.\n",
    "    * The matrix $\\boldsymbol{T}$ contains an output (of the network) in each row.\n",
    "* Each layer should have the functions\n",
    "    * `fprop(W, X, f) -> Y`\n",
    "    * `backprop(W, X, f_derivative, Y, d_loss/dY) -> d_loss/dX, d_lossdW`"
   ]
  },
  {
   "cell_type": "markdown",
   "metadata": {
    "slideshow": {
     "slide_type": "slide"
    }
   },
   "source": [
    "<div class=\"container-fluid\">\n",
    "  <div class=\"row\">\n",
    "      <div class=\"col-md-3\" align='center'>\n",
    "      </div>\n",
    "      <div class=\"col-md-6\">\n",
    "      <div class='well well-sm'>\n",
    "              <img src='imgs/05/backprop.svg'/>\n",
    "      </div>\n",
    "      </div>\n",
    "      <div class=\"col-md-3\" align='center'>\n",
    "      </div>\n",
    "  </div>\n",
    "</div>"
   ]
  },
  {
   "cell_type": "markdown",
   "metadata": {
    "slideshow": {
     "align_type": "Left",
     "slide_type": "slide"
    }
   },
   "source": [
    "## Efficient forward propagation"
   ]
  },
  {
   "cell_type": "markdown",
   "metadata": {
    "slideshow": {
     "align_type": "Left",
     "slide_type": "-"
    }
   },
   "source": [
    "In each layer\n",
    "\n",
    "$$\\boldsymbol{NET} = \\boldsymbol{X} \\boldsymbol{W}^\\intercal$$\n",
    "$$\\boldsymbol{\\hat{Y}} = f(\\boldsymbol{NET})$$\n",
    "\n",
    "where\n",
    "\n",
    "* $\\boldsymbol{Y} \\in \\mathbb{R}^{N \\times J}$ contains an output vector in each row, i.e. $\\boldsymbol{Y}_{kj} = y^{(k)}_j$\n",
    "* $\\boldsymbol{X} \\in \\mathbb{R}^{N \\times I}$ contains an input vector (the output of the previous layer) in each row, i.e. $\\boldsymbol{X}_{ki} = x^{(k)}_i$\n",
    "* $\\boldsymbol{W} \\in \\mathbb{R}^{J \\times I}$ is the weight matrix of the layer, i.e. $\\boldsymbol{W}_{ji}$ is the weight between input $i$ and output $j$.\n",
    "* $f$ is the activation function (implemented to work with matrices)\n",
    "* $I$ is the number of inputs, i.e. the number of outputs of the previous layer plus 1 (for the bias)\n",
    "* $J$ is the number of outputs\n",
    "\n",
    "**Make sure that you add the bias entry in each row before you pass $Y$ as input to the next layer!**"
   ]
  },
  {
   "cell_type": "markdown",
   "metadata": {
    "slideshow": {
     "slide_type": "slide"
    }
   },
   "source": [
    "Error function (SSE)\n",
    "\n",
    "$$E = \\frac{1}{2} ||\\boldsymbol{Y} - \\boldsymbol{T}||_2^2$$\n",
    "\n",
    "where\n",
    "\n",
    "* $||\\cdot||_2$ is the [Frobenius norm](http://en.wikipedia.org/wiki/Matrix_norm#Frobenius_norm)."
   ]
  },
  {
   "cell_type": "markdown",
   "metadata": {
    "slideshow": {
     "align_type": "Left",
     "slide_type": "slide"
    }
   },
   "source": [
    "# Efficient Backpropagation"
   ]
  },
  {
   "cell_type": "markdown",
   "metadata": {
    "slideshow": {
     "align_type": "Left",
     "slide_type": "-"
    }
   },
   "source": [
    "In each layer:\n",
    "\n",
    "$$\\Delta = f'(\\boldsymbol{NET}) \\ast \\frac{\\partial \\ell}{\\partial \\boldsymbol{Y}}\\,,$$\n",
    "$$\\frac{\\partial \\ell}{\\partial \\boldsymbol{W}} = \\Delta^T \\cdot \\boldsymbol{X}\\,,$$\n",
    "$$\\frac{\\partial \\ell}{\\partial \\boldsymbol{X}} = \\Delta \\cdot \\boldsymbol{W}\\,.$$\n",
    "\n",
    "where:\n",
    "\n",
    "* $*$ is the [Hadamard product](http://en.wikipedia.org/wiki/Hadamard_product_%28matrices%29) or Schur product or entrywise product\n",
    "* $\\frac{\\partial \\ell}{\\partial \\boldsymbol{Y}}$ contains derivatives of the error function with respect to the outputs ($\\boldsymbol{Y} - \\boldsymbol{T} = \\frac{\\partial \\ell}{\\partial \\boldsymbol{Y}}$ in the last layer)\n",
    "* $\\frac{\\partial \\ell}{\\partial \\boldsymbol{X}} \\in \\mathbb{R}^{N \\times I}$ contains derivatives of the error function with respect to the inputs and will be passed to the previous layer\n",
    "* $\\Delta \\in \\mathbb{R}^{N \\times J}$ contains deltas: $\\delta_j^{(n)} = \\Delta_{jn}$\n",
    "* $g'$ is the derivative of $g$ and can be computed based only on $\\boldsymbol{Y}$\n",
    "* $\\frac{\\partial \\ell}{\\partial \\boldsymbol{W}} \\in \\mathbb{R}^{J \\times I}$ contains the derivatives of the error function with respect to $\\boldsymbol{W}$ and will be used to optimize the weights of the ANN\n",
    "\n",
    "**Make sure that you remove the bias entry in each row before you pass $\\frac{\\partial \\ell}{\\partial \\boldsymbol{X}}$ to the previous layer!**"
   ]
  },
  {
   "cell_type": "markdown",
   "metadata": {
    "slideshow": {
     "slide_type": "slide"
    }
   },
   "source": [
    "## Pseudocode of backpropagation\n",
    "\n",
    "```pseudo\n",
    "initialize network weights (often small random values)\n",
    "  do\n",
    "     foreach training example, x\n",
    "        prediction = neural-net-output(network, x)                 // forward pass\n",
    "        actual = teacher-output(x)\n",
    "        compute error (prediction - actual) at the output units\n",
    "        compute deltas for all weights from hidden layer to output layer  // backward pass\n",
    "        compute deltas for all weights from input layer to hidden layer   // backward pass continued\n",
    "        update network weights                                            // input layer not modified by error estimate\n",
    "  until all examples classified correctly or another stopping criterion satisfied\n",
    "  return the network\n",
    "```"
   ]
  },
  {
   "cell_type": "markdown",
   "metadata": {
    "slideshow": {
     "align_type": "Left",
     "slide_type": "slide"
    }
   },
   "source": [
    "## Tips for Your Implementations"
   ]
  },
  {
   "cell_type": "markdown",
   "metadata": {
    "slideshow": {
     "align_type": "Left",
     "slide_type": "fragment"
    }
   },
   "source": [
    "* Depending on the problem type you have to select different activation functions for the output layer.\n",
    "* Check your gradients with finite differences:\n",
    "$$\\frac{\\partial f}{\\partial x} = \\frac{f(x + \\varepsilon) - f(x - \\varepsilon)}{2 \\varepsilon} + \\mathcal{O}(\\varepsilon^2)\\,.$$"
   ]
  },
  {
   "cell_type": "markdown",
   "metadata": {
    "slideshow": {
     "align_type": "Left",
     "slide_type": "slide"
    }
   },
   "source": [
    "### How to initialize weights $\\boldsymbol{w}$?"
   ]
  },
  {
   "cell_type": "code",
   "execution_count": 34,
   "metadata": {
    "slideshow": {
     "align_type": "Left",
     "slide_type": "fragment"
    }
   },
   "outputs": [
    {
     "data": {
      "text/plain": [
       "array([-0.02990211,  0.05684861, -0.04845072, -0.140829  ,  0.01193343,\n",
       "        0.03587746,  0.01805025,  0.00223363, -0.03153864, -0.07515909])"
      ]
     },
     "execution_count": 34,
     "metadata": {},
     "output_type": "execute_result"
    }
   ],
   "source": [
    "np.random.randn(10) * 0.05"
   ]
  },
  {
   "cell_type": "markdown",
   "metadata": {
    "slideshow": {
     "align_type": "Left",
     "slide_type": "fragment"
    }
   },
   "source": [
    "* Draw components of $\\boldsymbol{w}$ iid (independent and identically distributed) from a Gaussian distribution with **small** standard deviation, e.g. 0.05.\n",
    "* Initialization with 0 will prevent the gradient from flowing back to the lower layers as\n",
    "\n",
    "$$\\frac{\\partial \\ell}{\\partial x_i} = \\delta_j w_{ji}\\,.$$\n",
    "\n",
    "* It has been shown that initialization of weights is a key to have good results. See:\n",
    "    - <small>Glorot, X., &amp; Bengio, Y. (2010). *Understanding the difficulty of training deep feedforward neural networks*. Proceedings of the 13th International Conference on Artificial Intelligence and Statistics (AISTATS), 9, 249–256. http://doi.org/10.1.1.207.2059</small>"
   ]
  },
  {
   "cell_type": "code",
   "execution_count": 35,
   "metadata": {
    "slideshow": {
     "slide_type": "subslide"
    }
   },
   "outputs": [],
   "source": [
    "def plot_afun(x, y, sp_idx, label=None):\n",
    "    \"\"\"Plot activation function.\"\"\"\n",
    "    ax = plt.subplot(2, 4, sp_idx)\n",
    "    if label is not None: \n",
    "        plt.title(label)\n",
    "    plt.setp(ax, xlim=(np.min(x), np.max(x)), ylim=(np.min(y)-0.5, np.max(y)+0.5))\n",
    "    plt.plot(x, y)"
   ]
  },
  {
   "cell_type": "code",
   "execution_count": 36,
   "metadata": {
    "slideshow": {
     "align_type": "Left",
     "slide_type": "slide"
    }
   },
   "outputs": [
    {
     "data": {
      "image/png": "[encoded data removed]",
      "text/plain": [
       "<Figure size 720x288 with 8 Axes>"
      ]
     },
     "metadata": {
      "image/png": {
       "height": 297,
       "width": 622
      },
      "needs_background": "light"
     },
     "output_type": "display_data"
    }
   ],
   "source": [
    "plt.figure(figsize=(10, 4))\n",
    "x = np.linspace(-5, 5, 100)\n",
    "plot_afun(x, x, 1, label=\"Identity\")\n",
    "plot_afun(x, np.tanh(x), 2, label=\"tanh\")\n",
    "plot_afun(x, logit(x), 3, label=\"Logistic (logit)\")\n",
    "plot_afun(x, np.max((x, np.zeros_like(x)), axis=0), 4, label=\"Rectified \\nLinear Unit (ReLU)\")\n",
    "plot_afun(x, np.ones_like(x), 5)\n",
    "plot_afun(x, 1-np.tanh(x)**2, 6)\n",
    "plot_afun(x, logit(x)*(1-logit(x)), 7)\n",
    "plot_afun(x, np.max((np.sign(x), np.zeros_like(x)), axis=0), 8)"
   ]
  },
  {
   "cell_type": "markdown",
   "metadata": {
    "slideshow": {
     "align_type": "Left",
     "slide_type": "slide"
    }
   },
   "source": [
    "## Derivatives of Activation Functions"
   ]
  },
  {
   "cell_type": "markdown",
   "metadata": {
    "slideshow": {
     "align_type": "Left",
     "slide_type": "fragment"
    }
   },
   "source": [
    "* Identity\n",
    "\n",
    "$$\\hat{y} = f(\\text{net}) = a;\\quad f'(\\text{net}) = 1\\,.$$"
   ]
  },
  {
   "cell_type": "markdown",
   "metadata": {
    "slideshow": {
     "align_type": "Left",
     "slide_type": "fragment"
    }
   },
   "source": [
    "* Hyperbolic tangent\n",
    "\n",
    "$$\\hat{y} = f(\\text{net}) = \\tanh(\\text{net});\\quad f'(\\text{net}) = 1 - \\tanh^2(\\text{net}) = 1-\\hat{y}^2\\,.$$"
   ]
  },
  {
   "cell_type": "markdown",
   "metadata": {
    "slideshow": {
     "align_type": "Left",
     "slide_type": "fragment"
    }
   },
   "source": [
    "* Logistic function\n",
    "\n",
    "$$y = f(\\text{net}) = \\frac{1}{1+\\exp{\\left(-\\text{net}\\right)}}\\,,$$\n",
    "$$f'(\\text{net}) = f(\\text{net}) (1 - f(\\text{net})) = \\hat{y} (1-\\hat{y})\\,.$$"
   ]
  },
  {
   "cell_type": "markdown",
   "metadata": {
    "slideshow": {
     "slide_type": "slide"
    }
   },
   "source": [
    "# Summarizing\n",
    "\n",
    "* We now know how to compute the $\\frac{\\partial\\ell}{\\partial w^l_{ji}}$ for all neurons.\n",
    "* For the neurons on the hidden layers we use the $\\delta$s of the next layer.\n",
    "* We know how to updates the weights as:\n",
    "$$\n",
    "\\Delta w^l_{ji}=-\\eta\\frac{\\partial\\ell}{w^l_{ji}}=-\\eta\\delta^l_j x^l_i. \n",
    "$$"
   ]
  },
  {
   "cell_type": "markdown",
   "metadata": {
    "slideshow": {
     "slide_type": "slide"
    }
   },
   "source": [
    "## Difficulties\n",
    "\n",
    "* There are many **local minima**.\n",
    "* The optimization problem is **ill-conditioned**.\n",
    "* There are many **flat regions** (saddle points).\n",
    "* There is **no guarantee** to reach the global minimum.\n",
    "* Deep architectures suffer from the **vanishing gradient** problem.\n",
    "* Neural networks are *usually* considered to be the **blackest box** of all learning algorithms.\n",
    "* There are sooo many **hyperparameters** (number of layers/nodes, activation function, connectivity, weight initialization, loss function, regularization, ...).\n",
    "* Training neural networks has been regarded as **black magic** by many researchers.\n",
    "* And here is the grimoire: [Neural Networks: Tricks of the Trade](http://link.springer.com/book/10.1007%2F978-3-642-35289-8) (1st edition: 1998; 2nd edition: 2012).\n"
   ]
  },
  {
   "cell_type": "markdown",
   "metadata": {
    "slideshow": {
     "slide_type": "slide"
    }
   },
   "source": [
    "## Theoretical features\n",
    "\n",
    "**Universal approximation theorem**:\n",
    "\n",
    "> A feed-forward network with **a single hidden** layer containing a finite number of neurons can approximate any continuous functions on compact subsets of $\\mathbb{R}^n$, under mild assumptions on the activation function. \n",
    "\n",
    "Hornik showed in 1991 that it is not the specific choice of the activation function, but rather the multilayer feedforward architecture itself which gives neural networks the potential of being universal approximators. \n",
    "\n",
    "<small>Kurt Hornik (1991) Approximation Capabilities of Multilayer Feedforward Networks, Neural Networks, 4(2), 251–257</small>"
   ]
  },
  {
   "cell_type": "markdown",
   "metadata": {
    "slideshow": {
     "slide_type": "slide"
    }
   },
   "source": [
    "There have been three hypes around ANNs:\n",
    "\n",
    "* Perceptron (50s-XOR problem)\n",
    "* Backpropagation (80s-SVM)\n",
    "* Deep Learning (2006-now)\n",
    "\n",
    "And they work incredibly well in practice."
   ]
  },
  {
   "cell_type": "markdown",
   "metadata": {
    "slideshow": {
     "slide_type": "slide"
    }
   },
   "source": [
    "### But... why do neural nets work well in practice?\n",
    "* Universal function approximation property.\n",
    "* Stochastic gradient descent finds **sufficiently good** local minima.\n",
    "* We don't want to find the global minimum $\\implies$ ** fights overfitting!**\n",
    "* Neural nets learn **feature hierarchies** to represent functions *efficiently*.\n",
    "    * **features will be learned** automatically\n",
    "    * allows learning of **hierarchical features** which is much more efficient than just one layer of abstraction\n",
    "* **multiclass classification** can be integrated with linear complexity (softmax activation function, cross-entropy error function)\n",
    "* it is a **parametric** model, it does not store any training data directly."
   ]
  },
  {
   "cell_type": "markdown",
   "metadata": {
    "slideshow": {
     "slide_type": "slide"
    }
   },
   "source": [
    "### Drawbacks\n",
    "\n",
    "* input has to be a **vector of real numbers**, e.g. text must be converted before classification\n",
    "* in general, the **optimization problem** is very difficult because it is **ill-conditioned** and **non-separable**\n",
    "* objective function is **not convex**, there are many local minima and flat regions\n",
    "* **black box**: in most cases it is very difficult to interpret the weights of a neural network although it is possible!\n",
    "* **catastrophic forgetting**: learning one instance can change the whole network"
   ]
  },
  {
   "cell_type": "markdown",
   "metadata": {
    "slideshow": {
     "slide_type": "skip"
    }
   },
   "source": [
    "<hr/>\n",
    "<div class=\"container-fluid\">\n",
    "      <div class=\"row\">\n",
    "          <div class=\"col-md-3\" align='center'>\n",
    "              <img align='center' alt=\"Creative Commons License\" style=\"border-width:0\" src=\"https://i.creativecommons.org/l/by-nc-sa/4.0/88x31.png\"/>\n",
    "          </div>\n",
    "          <div class=\"col-md-9\">\n",
    "              This work is licensed under a [Creative Commons Attribution-NonCommercial-ShareAlike 4.0 International License](http://creativecommons.org/licenses/by-nc-sa/4.0/).\n",
    "          </div>\n",
    "      </div>\n",
    "</div>"
   ]
  },
  {
   "cell_type": "code",
   "execution_count": 37,
   "metadata": {
    "slideshow": {
     "slide_type": "skip"
    }
   },
   "outputs": [
    {
     "data": {
      "application/json": {
       "Software versions": [
        {
         "module": "Python",
         "version": "3.6.10 64bit [GCC 4.2.1 Compatible Clang 4.0.1 (tags/RELEASE_401/final)]"
        },
        {
         "module": "IPython",
         "version": "7.11.1"
        },
        {
         "module": "OS",
         "version": "Darwin 19.2.0 x86_64 i386 64bit"
        },
        {
         "module": "scipy",
         "version": "1.3.2"
        },
        {
         "module": "numpy",
         "version": "1.18.1"
        },
        {
         "module": "matplotlib",
         "version": "3.1.1"
        },
        {
         "module": "sklearn",
         "version": "0.22.1"
        }
       ]
      },
      "text/html": [
       "<table><tr><th>Software</th><th>Version</th></tr><tr><td>Python</td><td>3.6.10 64bit [GCC 4.2.1 Compatible Clang 4.0.1 (tags/RELEASE_401/final)]</td></tr><tr><td>IPython</td><td>7.11.1</td></tr><tr><td>OS</td><td>Darwin 19.2.0 x86_64 i386 64bit</td></tr><tr><td>scipy</td><td>1.3.2</td></tr><tr><td>numpy</td><td>1.18.1</td></tr><tr><td>matplotlib</td><td>3.1.1</td></tr><tr><td>sklearn</td><td>0.22.1</td></tr><tr><td colspan='2'>Thu Jan 30 05:40:41 2020 -03</td></tr></table>"
      ],
      "text/latex": [
       "\\begin{tabular}{|l|l|}\\hline\n",
       "{\\bf Software} & {\\bf Version} \\\\ \\hline\\hline\n",
       "Python & 3.6.10 64bit [GCC 4.2.1 Compatible Clang 4.0.1 (tags/RELEASE\\_401/final)] \\\\ \\hline\n",
       "IPython & 7.11.1 \\\\ \\hline\n",
       "OS & Darwin 19.2.0 x86\\_64 i386 64bit \\\\ \\hline\n",
       "scipy & 1.3.2 \\\\ \\hline\n",
       "numpy & 1.18.1 \\\\ \\hline\n",
       "matplotlib & 3.1.1 \\\\ \\hline\n",
       "sklearn & 0.22.1 \\\\ \\hline\n",
       "\\hline \\multicolumn{2}{|l|}{Thu Jan 30 05:40:41 2020 -03} \\\\ \\hline\n",
       "\\end{tabular}\n"
      ],
      "text/plain": [
       "Software versions\n",
       "Python 3.6.10 64bit [GCC 4.2.1 Compatible Clang 4.0.1 (tags/RELEASE_401/final)]\n",
       "IPython 7.11.1\n",
       "OS Darwin 19.2.0 x86_64 i386 64bit\n",
       "scipy 1.3.2\n",
       "numpy 1.18.1\n",
       "matplotlib 3.1.1\n",
       "sklearn 0.22.1\n",
       "Thu Jan 30 05:40:41 2020 -03"
      ]
     },
     "execution_count": 37,
     "metadata": {},
     "output_type": "execute_result"
    }
   ],
   "source": [
    "%load_ext version_information\n",
    "%version_information scipy, numpy, matplotlib, sklearn"
   ]
  },
  {
   "cell_type": "code",
   "execution_count": 38,
   "metadata": {
    "slideshow": {
     "slide_type": "skip"
    }
   },
   "outputs": [
    {
     "data": {
      "text/html": [
       "<link rel=\"stylesheet\" href=\"https://files.inria.fr/dircom/extranet/fonts-inria-sans.css\" rel=\"stylesheet\">\n",
       "<link rel=\"stylesheet\" href=\"https://files.inria.fr/dircom/extranet/fonts-inria-serif.css\" rel=\"stylesheet\">\n",
       "<link href=\"https://fonts.googleapis.com/css?family=Inconsolata\" rel=\"stylesheet\">\n",
       "<style>\n",
       ".text_cell_render {\n",
       "font-style: regular;\n",
       "font-family: \"Inria Serif\", Georgia, serif; \n",
       "display: block;\n",
       "}\n",
       "/*font-weight: 200;*/\n",
       "/*text-align: left;\n",
       "line-height: 100%;\n",
       "display: block;\n",
       "}*/\n",
       ".text_cell_render h1 {\n",
       "/*font-size: 24pt;*/\n",
       "font-family: 'Inria Sans', \"Helvetica Neue\", Arial, \"Noto Sans\", sans-serif;\n",
       "font-weight: bold;\n",
       "margin-bottom: 0.1em;\n",
       "margin-top: 0.5em;\n",
       "color:#4a4a4a;\n",
       "}\n",
       "\n",
       ".reveal h1 {\n",
       "font-family: 'Inria Sans', \"Helvetica Neue\", Arial, \"Noto Sans\", sans-serif;\n",
       "/*font-size: 24pt;*/\n",
       "font-weight: bold;\n",
       "margin-bottom: 0.47em;\n",
       "margin-top: 0.74em;\n",
       "color:#4a4a4a;\n",
       "}\n",
       ".text_cell_render h2 {\n",
       "/*font-size: 21pt;*/\n",
       "    font-family: 'Inria Sans', \"Helvetica Neue\", Arial, \"Noto Sans\", sans-serif;\n",
       "margin-bottom: 0.29em;\n",
       "margin-top: 0.38em;\n",
       "color:#595959;\n",
       "}\n",
       ".text_cell_render h3 {\n",
       "    font-family: 'Inria Sans', \"Helvetica Neue\", Arial, \"Noto Sans\", sans-serif;\n",
       "/*font-size: 19pt;*/\n",
       "margin-bottom: 0.1em;\n",
       "margin-top: 0.3em;\n",
       "color:#595959;\n",
       "}\n",
       ".text_cell_render h4 {\n",
       "    font-family: 'Inria Sans', \"Helvetica Neue\", Arial, \"Noto Sans\", sans-serif;\n",
       "/*font-size: 17pt;*/\n",
       "margin-bottom: 0.1em;\n",
       "margin-top: 0.3em;\n",
       "color:#595959;\n",
       "}\n",
       ".text_cell_render h5 {\n",
       "    font-family: 'Inria Sans', \"Helvetica Neue\", Arial, \"Noto Sans\", sans-serif;\n",
       "/*font-size: 15pt;*/\n",
       "margin-bottom: 0.1em;\n",
       "margin-top: 0.3em;\n",
       "color:#595959;\n",
       "}\n",
       "div.text_cell_render{\n",
       "line-height: 120%;\n",
       "font-size: 100%;\n",
       "font-weight: 400;\n",
       "text-align: justify;\n",
       "margin-left:0em;\n",
       "margin-right:0em;\n",
       "}\n",
       ".reveal div.text_cell_render{\n",
       "line-height: 120%;\n",
       "font-size: 74%;\n",
       "font-weight: 400;\n",
       "text-align: justify;\n",
       "margin-left:0em;\n",
       "margin-right:0em;\n",
       "}\n",
       "\n",
       ".reveal h2 {\n",
       "font-family: 'Inria Sans', \"Helvetica Neue\", Arial, \"Noto Sans\", sans-serif;\n",
       "/*font-size: 24pt;*/\n",
       "font-weight: bold;\n",
       "margin-bottom: 0.1em;\n",
       "margin-top: 0.5em;\n",
       "color:#595959;\n",
       "}\n",
       ".reveal h3 {\n",
       "font-family: 'Inria Sans', \"Helvetica Neue\", Arial, \"Noto Sans\", sans-serif;\n",
       "/*font-size: 24pt;*/\n",
       "font-weight: bold;\n",
       "margin-bottom: 0.1em;\n",
       "margin-top: 0.5em;\n",
       "color:#595959;\n",
       "}\n",
       ".reveal h4 {\n",
       "font-family: 'Inria Sans', \"Helvetica Neue\", Arial, \"Noto Sans\", sans-serif;\n",
       "font-weight: bold;\n",
       "margin-bottom: 0.1em;\n",
       "margin-top: 0.5em;\n",
       "color:#595959;\n",
       "}\n",
       ".reveal .code_cell {\n",
       "    font-size: 92%;\n",
       "}\n",
       ".reveal code {\n",
       "font-family: 'Inconsolata', monospace;\n",
       "}\n",
       ".reveal pre {\n",
       "font-family: 'Inconsolata', monospace;\n",
       "}\n",
       "code {\n",
       "font-family: 'Inconsolata', monospace;\n",
       "}\n",
       "pre {\n",
       "font-family: 'Inconsolata', monospace;\n",
       "}\n",
       ".CodeMirror{\n",
       "font-family: \"Inconsolata\", monospace;\n",
       "}\n",
       "</style>\n"
      ],
      "text/plain": [
       "<IPython.core.display.HTML object>"
      ]
     },
     "execution_count": 38,
     "metadata": {},
     "output_type": "execute_result"
    }
   ],
   "source": [
    "# this code is here for cosmetic reasons\n",
    "from IPython.core.display import HTML\n",
    "from urllib.request import urlopen\n",
    "HTML(urlopen('https://raw.githubusercontent.com/lmarti/jupyter_custom/master/custom.include').read().decode('utf-8'))"
   ]
  },
  {
   "cell_type": "markdown",
   "metadata": {},
   "source": [
    "---"
   ]
  }
 ],
 "metadata": {
  "anaconda-cloud": {},
  "kernelspec": {
   "display_name": "Python 3",
   "language": "python",
   "name": "python3"
  },
  "language_info": {
   "codemirror_mode": {
    "name": "ipython",
    "version": 3
   },
   "file_extension": ".py",
   "mimetype": "text/x-python",
   "name": "python",
   "nbconvert_exporter": "python",
   "pygments_lexer": "ipython3",
   "version": "3.6.10"
  },
  "varInspector": {
   "cols": {
    "lenName": 16,
    "lenType": 16,
    "lenVar": 40
   },
   "kernels_config": {
    "python": {
     "delete_cmd_postfix": "",
     "delete_cmd_prefix": "del ",
     "library": "var_list.py",
     "varRefreshCmd": "print(var_dic_list())"
    },
    "r": {
     "delete_cmd_postfix": ") ",
     "delete_cmd_prefix": "rm(",
     "library": "var_list.r",
     "varRefreshCmd": "cat(var_dic_list()) "
    }
   },
   "types_to_exclude": [
    "module",
    "function",
    "builtin_function_or_method",
    "instance",
    "_Feature"
   ],
   "window_display": false
  },
  "widgets": {
   "state": {
    "878631a4f0884d5092825922635ea567": {
     "views": [
      {
       "cell_index": 70
      }
     ]
    },
    "d417166c65934750bb40d7d27fd422bf": {
     "views": [
      {
       "cell_index": 72
      }
     ]
    }
   },
   "version": "1.2.0"
  }
 },
 "nbformat": 4,
 "nbformat_minor": 2
}
